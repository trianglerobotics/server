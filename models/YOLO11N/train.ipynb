{
 "cells": [
  {
   "cell_type": "markdown",
   "metadata": {},
   "source": [
    "#### A\n"
   ]
  },
  {
   "cell_type": "code",
   "execution_count": null,
   "metadata": {},
   "outputs": [],
   "source": [
    "import os\n",
    "from ultralytics import YOLO\n",
    "import shutil\n",
    "\n",
    "\n",
    "# Path to the folder you want to delete\n",
    "folder_path = \"checkpoints/train\"\n",
    "\n",
    "# Check if the folder exists\n",
    "if os.path.exists(folder_path):\n",
    "    # Delete the folder and all its contents\n",
    "    shutil.rmtree(folder_path)\n",
    "    print(f\"Folder '{folder_path}' has been deleted.\")\n",
    "else:\n",
    "    print(f\"Folder '{folder_path}' does not exist.\")\n",
    "\n",
    "# Prevent Ultralytics from checking for updates or attempting downloads\n",
    "os.environ['ULTRALYTICS_NO_CHECKS'] = '1'\n",
    "\n",
    "# Load the locally downloaded YOLOv8n model\n",
    "model = YOLO(\"yolo11n.pt\")\n",
    "\n",
    "# Define a custom directory for saving checkpoints\n",
    "custom_save_dir = \"checkpoints\"  # Replace with your desired directory\n",
    "\n",
    "# Train the model on your local dataset, saving checkpoints to the custom folder\n",
    "results = model.train(\n",
    "    data=\"data2.yaml\",        # Your dataset configuration\n",
    "    epochs=100,               # Number of training epochs\n",
    "    imgsz=640,                # Image size\n",
    "    project=custom_save_dir,   # Custom folder to save checkpoints\n",
    "    name=\"\",                  # Leave the name empty to avoid subfolder creation\n",
    "    save=True,                # Ensures checkpoints are saved\n",
    "    exist_ok=True,            # Allows saving in the existing folder without creating subfolders\n",
    "    save_period=10            # Save checkpoints every 10 epochs\n",
    ")\n",
    "# (Optional) Display or process the results\n",
    "# results.show()\n"
   ]
  },
  {
   "cell_type": "markdown",
   "metadata": {},
   "source": [
    "<br></br>"
   ]
  }
 ],
 "metadata": {
  "kernelspec": {
   "display_name": "Python 3 (ipykernel)",
   "language": "python",
   "name": "python3"
  },
  "language_info": {
   "codemirror_mode": {
    "name": "ipython",
    "version": 3
   },
   "file_extension": ".py",
   "mimetype": "text/x-python",
   "name": "python",
   "nbconvert_exporter": "python",
   "pygments_lexer": "ipython3",
   "version": "3.8.10"
  }
 },
 "nbformat": 4,
 "nbformat_minor": 4
}
