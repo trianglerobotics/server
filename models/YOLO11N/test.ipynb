{
 "cells": [
  {
   "cell_type": "markdown",
   "metadata": {},
   "source": [
    "#### A\n"
   ]
  },
  {
   "cell_type": "code",
   "execution_count": null,
   "metadata": {},
   "outputs": [],
   "source": [
    "import logging\n",
    "import cv2\n",
    "from ultralytics import YOLO\n",
    "import jajucha2\n",
    "\n",
    "# Suppress logging output from the YOLOv8 model\n",
    "logging.getLogger(\"ultralytics\").setLevel(logging.CRITICAL)\n",
    "\n",
    "# Load your custom YOLOv8 model\n",
    "model = YOLO(\"checkpoints/train/weights/last.pt\")  # Replace with your custom-trained model path\n",
    "\n",
    "# Initialize video capture (0 for the default webcam)\n",
    "while True:\n",
    "    # Capture frame-by-frame\n",
    "    frame_resized = jajucha2.camera.get_image()\n",
    "\n",
    "    # Run YOLOv8 inference on the frame\n",
    "    results = model(frame_resized)\n",
    "\n",
    "    # Extract the detection information and visualize\n",
    "    for result in results:\n",
    "        for box in result.boxes:\n",
    "            # Extract bounding box coordinates\n",
    "            x1, y1, x2, y2 = map(int, box.xyxy[0])  # Bounding box corners\n",
    "            confidence = box.conf[0]  # Confidence score\n",
    "            class_id = int(box.cls[0])  # Class label\n",
    "\n",
    "            # Get class name from the custom model's class list\n",
    "            label = f\"{model.names[class_id]} {confidence:.2f}\"\n",
    "\n",
    "            # Draw bounding box\n",
    "            cv2.rectangle(frame_resized, (x1, y1), (x2, y2), (0, 255, 0), 2)\n",
    "\n",
    "            # Draw label text\n",
    "            cv2.putText(frame_resized, label, (x1, y1 - 10), cv2.FONT_HERSHEY_SIMPLEX, 0.5, (0, 255, 0), 2)\n",
    "\n",
    "    # Display the resulting frame with annotations\n",
    "    jajucha2.camera.show_image(frame_resized)\n"
   ]
  }
 ],
 "metadata": {
  "kernelspec": {
   "display_name": "Python 3 (ipykernel)",
   "language": "python",
   "name": "python3"
  },
  "language_info": {
   "codemirror_mode": {
    "name": "ipython",
    "version": 3
   },
   "file_extension": ".py",
   "mimetype": "text/x-python",
   "name": "python",
   "nbconvert_exporter": "python",
   "pygments_lexer": "ipython3",
   "version": "3.8.10"
  }
 },
 "nbformat": 4,
 "nbformat_minor": 4
}
