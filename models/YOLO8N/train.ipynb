{
 "cells": [
  {
   "cell_type": "markdown",
   "metadata": {},
   "source": [
    "#### Code A\n"
   ]
  },
  {
   "cell_type": "code",
   "execution_count": null,
   "metadata": {},
   "outputs": [],
   "source": [
    "import os\n",
    "from ultralytics import YOLO\n",
    "import shutil\n",
    "\n",
    "\n",
    "# Path to the folder you want to delete\n",
    "folder_path = \"checkpoints/train\"\n",
    "\n",
    "# Check if the folder exists\n",
    "if os.path.exists(folder_path):\n",
    "    # Delete the folder and all its contents\n",
    "    shutil.rmtree(folder_path)\n",
    "    print(f\"Folder '{folder_path}' has been deleted.\")\n",
    "else:\n",
    "    print(f\"Folder '{folder_path}' does not exist.\")"
   ]
  },
  {
   "cell_type": "markdown",
   "metadata": {},
   "source": [
    "<br>"
   ]
  },
  {
   "cell_type": "markdown",
   "metadata": {},
   "source": [
    "#### Code B"
   ]
  },
  {
   "cell_type": "code",
   "execution_count": null,
   "metadata": {},
   "outputs": [],
   "source": [
    "# 하이퍼파라미터 설정\n",
    "EPOCH = 100        # 총 학습 에포크 수\n",
    "BATCH_SIZE = 16    # 배치 크기"
   ]
  },
  {
   "cell_type": "markdown",
   "metadata": {},
   "source": [
    "<br>"
   ]
  },
  {
   "cell_type": "markdown",
   "metadata": {},
   "source": [
    "#### Code C"
   ]
  },
  {
   "cell_type": "code",
   "execution_count": null,
   "metadata": {},
   "outputs": [],
   "source": [
    "# Load the locally downloaded YOLOv8n model\n",
    "model = YOLO(\"yolov8n.pt\")"
   ]
  },
  {
   "cell_type": "markdown",
   "metadata": {},
   "source": [
    "<br>"
   ]
  },
  {
   "cell_type": "markdown",
   "metadata": {},
   "source": [
    "#### Code D"
   ]
  },
  {
   "cell_type": "code",
   "execution_count": null,
   "metadata": {},
   "outputs": [],
   "source": [
    "from ultralytics import YOLO\n",
    "from ultralytics.utils import LOGGER\n",
    "import logging\n",
    "import torch\n",
    "import matplotlib.pyplot as plt\n",
    "import numpy as np\n",
    "import IPython.display as display\n",
    "\n",
    "LOGGER.propagate = False\n",
    "\n",
    "# Store loss values\n",
    "epochs = []\n",
    "box_losses = []\n",
    "cls_losses = []\n",
    "dfl_losses = []\n",
    "\n",
    "# Function to log loss and update the graph\n",
    "def loss_logger(trainer):\n",
    "    if hasattr(trainer, \"tloss\") and trainer.tloss is not None:\n",
    "        try:\n",
    "            # Convert tensor loss to list (if applicable)\n",
    "            if isinstance(trainer.tloss, torch.Tensor):\n",
    "                loss_values = trainer.tloss.tolist()\n",
    "            else:\n",
    "                loss_values = [trainer.tloss]  # If it's a float, wrap it in a list\n",
    "\n",
    "            # Extract individual loss values (handle case where only one value is present)\n",
    "            if len(loss_values) >= 3:\n",
    "                box_loss, cls_loss, dfl_loss = loss_values[:3]\n",
    "            elif len(loss_values) == 2:\n",
    "                box_loss, cls_loss = loss_values[:2]\n",
    "                dfl_loss = 0\n",
    "            else:\n",
    "                box_loss = loss_values[0]\n",
    "                cls_loss, dfl_loss = 0, 0  # Default missing values to 0\n",
    "\n",
    "            display.clear_output(wait=True)\n",
    "\n",
    "            # Store losses for plotting\n",
    "            epochs.append(trainer.epoch + 1)\n",
    "            box_losses.append(box_loss)\n",
    "            cls_losses.append(cls_loss)\n",
    "            dfl_losses.append(dfl_loss)\n",
    "\n",
    "            print(f'[에폭 {trainer.epoch + 1}] 박스 손실: {box_loss:.3f} | '\n",
    "      f'분류 손실: {cls_loss:.3f} | DFL 손실: {dfl_loss:.3f}')\n",
    "\n",
    "            # Plot losses dynamically\n",
    "            plt.figure(figsize=(10, 5))\n",
    "            plt.plot(epochs, box_losses, marker='o', linestyle='-', label='Box Loss', color='b', alpha=0.7)\n",
    "            plt.plot(epochs, cls_losses, marker='s', linestyle='-', label='Cls Loss', color='g', alpha=0.7)\n",
    "            plt.plot(epochs, dfl_losses, marker='^', linestyle='-', label='DFL Loss', color='r', alpha=0.7)\n",
    "\n",
    "            # Graph styling\n",
    "            plt.title('YOLO Training Loss per Epoch')\n",
    "            plt.xlabel('Epoch')\n",
    "            plt.ylabel('Loss Value')\n",
    "            plt.legend()\n",
    "            plt.grid(True)\n",
    "            plt.show()\n",
    "\n",
    "        except Exception as e:\n",
    "            print(f\"Loss logging error: {e}\")\n",
    "\n",
    "# Register the callback\n",
    "model.add_callback(\"on_train_epoch_end\", loss_logger)  # Changed to on_train_epoch_end for better loss tracking\n",
    "\n",
    "# Train the model\n",
    "results = model.train(\n",
    "    data=\"data2.yaml\",\n",
    "    epochs=100,\n",
    "    batch=16,\n",
    "    imgsz=640,\n",
    "    project=\"checkpoints\",\n",
    "    save=True,\n",
    "    exist_ok=True,\n",
    "    save_period=10,\n",
    "    plots=False\n",
    ")"
   ]
  },
  {
   "cell_type": "markdown",
   "metadata": {},
   "source": [
    "<br></br>"
   ]
  }
 ],
 "metadata": {
  "kernelspec": {
   "display_name": "Python 3 (ipykernel)",
   "language": "python",
   "name": "python3"
  },
  "language_info": {
   "codemirror_mode": {
    "name": "ipython",
    "version": 3
   },
   "file_extension": ".py",
   "mimetype": "text/x-python",
   "name": "python",
   "nbconvert_exporter": "python",
   "pygments_lexer": "ipython3",
   "version": "3.8.10"
  }
 },
 "nbformat": 4,
 "nbformat_minor": 4
}
