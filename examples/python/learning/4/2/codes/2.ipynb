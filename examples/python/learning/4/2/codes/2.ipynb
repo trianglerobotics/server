{
 "cells": [
  {
   "cell_type": "markdown",
   "metadata": {},
   "source": [
    "#### A"
   ]
  },
  {
   "cell_type": "code",
   "execution_count": null,
   "metadata": {},
   "outputs": [],
   "source": [
    "data1 = 20\n",
    "data2 = 11\n",
    "\n",
    "print(data1 == data2)\n",
    "\n",
    "print(data1 != data2)\n",
    "\n",
    "print(data1 > data2)\n",
    "\n",
    "print(data1 >= data2)\n",
    "\n",
    "print(data1 < data2)\n",
    "\n",
    "print(data1 <= data2)\n"
   ]
  },
  {
   "cell_type": "markdown",
   "metadata": {},
   "source": [
    "#### B"
   ]
  },
  {
   "cell_type": "code",
   "execution_count": null,
   "metadata": {},
   "outputs": [],
   "source": [
    "num1 = 4\n",
    "num2 = 8\n",
    "num3 = 13\n",
    "\n",
    "#두 조건식 중 하나만 True입니다.\n",
    "a = num1 < num2 and num1 > num3\n",
    "\n",
    "#두 조건식 중 하나만 True입니다.\n",
    "b = num1 < num2 or num1 > num3\n",
    "\n",
    "print(a)\n",
    "print(b)"
   ]
  },
  {
   "cell_type": "markdown",
   "metadata": {},
   "source": [
    "#### C"
   ]
  },
  {
   "cell_type": "code",
   "execution_count": null,
   "metadata": {},
   "outputs": [],
   "source": [
    "#not 연산자로 결과를 뒤집습니다.\n",
    "not num1 < num2 or num1 > num3\n"
   ]
  }
 ],
 "metadata": {
  "kernelspec": {
   "display_name": "Python 3 (ipykernel)",
   "language": "python",
   "name": "python3"
  },
  "language_info": {
   "codemirror_mode": {
    "name": "ipython",
    "version": 3
   },
   "file_extension": ".py",
   "mimetype": "text/x-python",
   "name": "python",
   "nbconvert_exporter": "python",
   "pygments_lexer": "ipython3",
   "version": "3.8.10"
  }
 },
 "nbformat": 4,
 "nbformat_minor": 4
}
