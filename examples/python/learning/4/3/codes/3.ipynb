{
 "cells": [
  {
   "cell_type": "markdown",
   "metadata": {},
   "source": [
    "#### A"
   ]
  },
  {
   "cell_type": "code",
   "execution_count": null,
   "metadata": {},
   "outputs": [],
   "source": [
    "#자동차와 벽 사이의 거리를 9라고 가정합니다.\n",
    "\n",
    "distance = 9\n",
    "\n",
    "#만약 거리가 10 미만이라면 “stop”을 출력하고, 그렇지 않으면 “drive”를 출력합니다.\n",
    "if distance < 10:\n",
    "    print(\"stop\")\n",
    "else:\n",
    "    print(\"drive\")\n"
   ]
  },
  {
   "cell_type": "markdown",
   "metadata": {},
   "source": [
    "#### B"
   ]
  },
  {
   "cell_type": "code",
   "execution_count": null,
   "metadata": {},
   "outputs": [],
   "source": [
    "# if문과 else문 뒤에 콜론이 생략되어 있습니다.\n",
    "if distance < 10\n",
    "    print(\"stop\")\n",
    "else\n",
    "    print(\"drive\")\n"
   ]
  },
  {
   "cell_type": "markdown",
   "metadata": {},
   "source": [
    "#### A"
   ]
  },
  {
   "cell_type": "code",
   "execution_count": null,
   "metadata": {},
   "outputs": [],
   "source": [
    "#결과1과 결과2의 들여쓰기가 불일치합니다.\n",
    "if distance < 10:\n",
    "print(\"stop\")\n",
    "else:\n",
    "    print(\"drive\")\n"
   ]
  }
 ],
 "metadata": {
  "kernelspec": {
   "display_name": "Python 3 (ipykernel)",
   "language": "python",
   "name": "python3"
  },
  "language_info": {
   "codemirror_mode": {
    "name": "ipython",
    "version": 3
   },
   "file_extension": ".py",
   "mimetype": "text/x-python",
   "name": "python",
   "nbconvert_exporter": "python",
   "pygments_lexer": "ipython3",
   "version": "3.8.10"
  }
 },
 "nbformat": 4,
 "nbformat_minor": 4
}
