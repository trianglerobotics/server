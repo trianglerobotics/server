{
 "cells": [
  {
   "cell_type": "markdown",
   "metadata": {},
   "source": [
    "#### A"
   ]
  },
  {
   "cell_type": "code",
   "execution_count": 1,
   "metadata": {},
   "outputs": [
    {
     "ename": "SyntaxError",
     "evalue": "invalid syntax (3341189519.py, line 3)",
     "output_type": "error",
     "traceback": [
      "\u001b[0;36m  Cell \u001b[0;32mIn[1], line 3\u001b[0;36m\u001b[0m\n\u001b[0;31m    residence = :\"A시\"\u001b[0m\n\u001b[0m                ^\u001b[0m\n\u001b[0;31mSyntaxError\u001b[0m\u001b[0;31m:\u001b[0m invalid syntax\n"
     ]
    }
   ],
   "source": [
    "membership = \"도서관 회원\"\n",
    "overdue = \"연체 없음\"\n",
    "residence = :\"A시\"\n",
    "\n",
    "if membership == \"도서관 회원\":\n",
    "    if overdue == \"연체 없음\":\n",
    "        print(\"대출 가능합니다.\")\n",
    "        if residence == \"B시\": \n",
    "            print(\"7일 연장 대출이 가능합니다.\")\n",
    "        else:\n",
    "            print(\"일반 대출이 가능합니다.\")\n",
    "    else:\n",
    "        print(\"연체 도서가 있어 대출 불가합니다.\")\n",
    "else:\n",
    "    print(\"회원 카드를 발급한 후 다시 시도해 주세요.\")"
   ]
  },
  {
   "cell_type": "markdown",
   "metadata": {},
   "source": [
    "#### B"
   ]
  },
  {
   "cell_type": "code",
   "execution_count": null,
   "metadata": {},
   "outputs": [],
   "source": [
    "drink = \"차\"\n",
    "size = \"라지\"\n",
    "\n",
    "if drink == \"커피\":\n",
    "    if size == \"스몰\":\n",
    "        print(\"커피(스몰)를 선택하셨습니다.\")\n",
    "    elif size == \"미디움\":\n",
    "        print(\"커피(미디움)를 선택하셨습니다.\")\n",
    "    elif size == \"라지\":\n",
    "        print(\"품절되었습니다.\")\n",
    "    else:\n",
    "        print(\"사이즈를 선택해 주세요.\")\n",
    "elif drink == \"차\":\n",
    "    if size == \"스몰\":\n",
    "        print(\"차(스몰)를 선택하셨습니다.\")\n",
    "    elif size == \"미디움\":\n",
    "        print(\"차(미디움)를 선택하셨습니다.\")\n",
    "    elif size == \"라지\":\n",
    "        print(\"품절되었습니다.\")\n",
    "    else:\n",
    "        print(\"사이즈를 선택해 주세요.\")\n",
    "else:\n",
    "    print(\"현재 판매하지 않습니다.\")\n"
   ]
  }
 ],
 "metadata": {
  "kernelspec": {
   "display_name": "Python 3 (ipykernel)",
   "language": "python",
   "name": "python3"
  },
  "language_info": {
   "codemirror_mode": {
    "name": "ipython",
    "version": 3
   },
   "file_extension": ".py",
   "mimetype": "text/x-python",
   "name": "python",
   "nbconvert_exporter": "python",
   "pygments_lexer": "ipython3",
   "version": "3.8.10"
  }
 },
 "nbformat": 4,
 "nbformat_minor": 4
}
