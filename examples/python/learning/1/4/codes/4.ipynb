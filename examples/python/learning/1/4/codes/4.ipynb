{
 "cells": [
  {
   "cell_type": "code",
   "execution_count": null,
   "metadata": {},
   "outputs": [],
   "source": [
    "# ans1이 1이 돼야 해요. % 좌우에 숫자를 넣으세요\n",
    "ans1 =\n",
    "\n",
    "# ans2가 16이 돼야 해요. ** 좌우에 숫자를 넣으세요\n",
    "ans2 =\n",
    "\n",
    "# 출력해서 확인해 볼까요? 08번 줄은 수정하지 않아도 돼요\n",
    "print(ans1, ans2)"
   ]
  }
 ],
 "metadata": {
  "kernelspec": {
   "display_name": "Python 3 (ipykernel)",
   "language": "python",
   "name": "python3"
  },
  "language_info": {
   "codemirror_mode": {
    "name": "ipython",
    "version": 3
   },
   "file_extension": ".py",
   "mimetype": "text/x-python",
   "name": "python",
   "nbconvert_exporter": "python",
   "pygments_lexer": "ipython3",
   "version": "3.8.10"
  }
 },
 "nbformat": 4,
 "nbformat_minor": 4
}
