{
 "cells": [
  {
   "cell_type": "markdown",
   "metadata": {},
   "source": [
    "#### A"
   ]
  },
  {
   "cell_type": "code",
   "execution_count": null,
   "metadata": {},
   "outputs": [],
   "source": [
    "# 변수 school에 여러 개의 문자열을 리스트로 저장합니다.\n",
    "school = [\"teacher\", \"students\", \"bus\"]\n",
    "\n",
    "print(type(school))\n",
    "\n",
    "print(school)"
   ]
  },
  {
   "cell_type": "markdown",
   "metadata": {},
   "source": [
    "#### B"
   ]
  },
  {
   "cell_type": "code",
   "execution_count": null,
   "metadata": {},
   "outputs": [],
   "source": [
    "# 여러 데이터 유형을 리스트로 저장합니다.\n",
    "computer = [\"keyboard\", 1, \"mause\", 2, True]\n",
    "\n",
    "print(type(computer))\n",
    "\n",
    "print(computer)"
   ]
  },
  {
   "cell_type": "markdown",
   "metadata": {},
   "source": [
    "#### C"
   ]
  },
  {
   "cell_type": "code",
   "execution_count": null,
   "metadata": {},
   "outputs": [],
   "source": [
    "school = [\"teacher\", \"students\", \"bus\"]\n",
    "\n",
    "# 인덱스를 사용해 “bus”를 “blackboard”로 수정합니다.\n",
    "school[2] = \"blackboard\"\n",
    "\n",
    "# 인덱스와 del 명령어를 사용해 “teacher”를 삭제합니다.\n",
    "del school[0] \n",
    "\n",
    "print(school)"
   ]
  },
  {
   "cell_type": "markdown",
   "metadata": {},
   "source": [
    "#### D"
   ]
  },
  {
   "cell_type": "code",
   "execution_count": null,
   "metadata": {},
   "outputs": [],
   "source": [
    "# 변수 resolution에 여러 개의 숫자를 튜플로 저장합니다.\n",
    "resolution = (1920, 1080)\n",
    "\n",
    "print(type(resolution))\n",
    "\n",
    "print(resolution)"
   ]
  },
  {
   "cell_type": "markdown",
   "metadata": {},
   "source": [
    "#### E"
   ]
  },
  {
   "cell_type": "code",
   "execution_count": null,
   "metadata": {},
   "outputs": [],
   "source": [
    "# 인덱스를 사용해 1920을 720으로 수정합니다.\n",
    "resolution[0] = 729\n",
    "\n",
    "# 튜플 내부의 데이터는 수정할 수 없습니다."
   ]
  },
  {
   "cell_type": "markdown",
   "metadata": {},
   "source": [
    "#### F"
   ]
  },
  {
   "cell_type": "code",
   "execution_count": null,
   "metadata": {},
   "outputs": [],
   "source": [
    "# range를 사용해 1부터 10까지의 숫자 범위를 생성합니다.\n",
    "numbers = range(1, 11)\n",
    "\n",
    "print(type(numbers))\n",
    "\n",
    "print(numbers)"
   ]
  },
  {
   "cell_type": "markdown",
   "metadata": {},
   "source": [
    "#### G"
   ]
  },
  {
   "cell_type": "code",
   "execution_count": null,
   "metadata": {},
   "outputs": [],
   "source": [
    "# 생성한 range를 리스트로 변환하여 전체 범위를 출력합니다.\n",
    "print(list(numbers))\n",
    "\n",
    "# 생성한 range를 튜플로 변환하여 전체 범위를 출력합니다\n",
    "print(tuple(numbers))"
   ]
  },
  {
   "cell_type": "markdown",
   "metadata": {},
   "source": [
    "#### H"
   ]
  },
  {
   "cell_type": "code",
   "execution_count": null,
   "metadata": {},
   "outputs": [],
   "source": [
    "# 1부터 10까지의 숫자 범위를 2씩 건너뛰며 생성합니다.\n",
    "numbers = range(1, 11, 2)\n",
    "\n",
    "print(list(numbers))"
   ]
  },
  {
   "cell_type": "markdown",
   "metadata": {},
   "source": [
    "#### I"
   ]
  },
  {
   "cell_type": "code",
   "execution_count": null,
   "metadata": {},
   "outputs": [],
   "source": [
    "# 인덱스를 사용해 생성한 range에서 5를 20으로 수정합니다.\n",
    "numbers[2] = 20\n",
    "\n",
    "# range 내부의 데이터는 수정할 수 없습니다."
   ]
  }
 ],
 "metadata": {
  "kernelspec": {
   "display_name": "Python 3 (ipykernel)",
   "language": "python",
   "name": "python3"
  },
  "language_info": {
   "codemirror_mode": {
    "name": "ipython",
    "version": 3
   },
   "file_extension": ".py",
   "mimetype": "text/x-python",
   "name": "python",
   "nbconvert_exporter": "python",
   "pygments_lexer": "ipython3",
   "version": "3.8.10"
  }
 },
 "nbformat": 4,
 "nbformat_minor": 4
}
