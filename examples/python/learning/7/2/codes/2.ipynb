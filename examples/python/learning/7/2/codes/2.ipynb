{
 "cells": [
  {
   "cell_type": "markdown",
   "metadata": {},
   "source": [
    "#### A"
   ]
  },
  {
   "cell_type": "code",
   "execution_count": null,
   "metadata": {},
   "outputs": [],
   "source": [
    "class Password:\n",
    "    app1 = \"camera\"\n",
    "    app2 = \"mail\"\n",
    "\n",
    "    def __init__(self, number, alphabet):\n",
    "      self.number = number\n",
    "      self.alphabet = alphabet\n",
    "\n",
    "pw1 = Password(1234, \"a\")\n",
    "pw2 = Password(5678, \"z\")\n",
    "\n",
    "print(f\"{Password.app1} 비밀번호: {pw1.number}{pw1.alphabet}\")\n",
    "print(f\"{Password.app2} 비밀번호: {pw2.number}{pw2.alphabet}\")"
   ]
  }
 ],
 "metadata": {
  "kernelspec": {
   "display_name": "Python 3 (ipykernel)",
   "language": "python",
   "name": "python3"
  },
  "language_info": {
   "codemirror_mode": {
    "name": "ipython",
    "version": 3
   },
   "file_extension": ".py",
   "mimetype": "text/x-python",
   "name": "python",
   "nbconvert_exporter": "python",
   "pygments_lexer": "ipython3",
   "version": "3.8.10"
  }
 },
 "nbformat": 4,
 "nbformat_minor": 4
}
