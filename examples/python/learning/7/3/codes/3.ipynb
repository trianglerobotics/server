{
 "cells": [
  {
   "cell_type": "markdown",
   "metadata": {},
   "source": [
    "#### A"
   ]
  },
  {
   "cell_type": "code",
   "execution_count": null,
   "metadata": {},
   "outputs": [],
   "source": [
    "class Password:\n",
    "    app1 = \"camera\"\n",
    "    app2 = \"mail\"\n",
    "\n",
    "    def __init__(self, number, alphabet):\n",
    "        self.number = number\n",
    "        self.alphabet = alphabet\n",
    "\n",
    "    def update_cameraPW(self, new_num, new_alpha):\n",
    "        if len(str(new_num)) != 4:\n",
    "            print(\"네 자리 숫자를 입력하세요.\")\n",
    "        elif len(new_alpha) != 1 or not new_alpha.isalpha():\n",
    "            print(\"한 자리 알파벳을 입력하세요.\")\n",
    "        else:\n",
    "            self.number = new_num\n",
    "            self.alphabet = new_alpha\n",
    "            print(\"정상적으로 수정되었습니다.\")"
   ]
  }
 ],
 "metadata": {
  "kernelspec": {
   "display_name": "Python 3 (ipykernel)",
   "language": "python",
   "name": "python3"
  },
  "language_info": {
   "codemirror_mode": {
    "name": "ipython",
    "version": 3
   },
   "file_extension": ".py",
   "mimetype": "text/x-python",
   "name": "python",
   "nbconvert_exporter": "python",
   "pygments_lexer": "ipython3",
   "version": "3.8.10"
  }
 },
 "nbformat": 4,
 "nbformat_minor": 4
}
