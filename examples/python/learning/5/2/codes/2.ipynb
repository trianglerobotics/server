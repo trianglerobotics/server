{
 "cells": [
  {
   "cell_type": "code",
   "execution_count": null,
   "metadata": {},
   "outputs": [],
   "source": [
    "# 문자열 '밥 먹었니?'를 담아 보세요\n",
    "greeting =\n",
    "\n",
    "# 서울 인사말을 출력하면 다음과 같습니다\n",
    "print('서울:', greeting)\n",
    "\n",
    "# 함수 busan() 안에 '밥 뭇나?'가 담긴 변수 greeting을 넣어 보세요\n",
    "def busan():\n",
    "    \n",
    "    print('부산:', greeting)\n",
    "    \n",
    "# 함수 busan()을 실행해 보세요\n",
    "busan()\n",
    "# 변수 greeting을 출력해 보세요\n",
    "print(greeting)"
   ]
  }
 ],
 "metadata": {
  "kernelspec": {
   "display_name": "Python 3 (ipykernel)",
   "language": "python",
   "name": "python3"
  },
  "language_info": {
   "codemirror_mode": {
    "name": "ipython",
    "version": 3
   },
   "file_extension": ".py",
   "mimetype": "text/x-python",
   "name": "python",
   "nbconvert_exporter": "python",
   "pygments_lexer": "ipython3",
   "version": "3.8.10"
  }
 },
 "nbformat": 4,
 "nbformat_minor": 4
}
