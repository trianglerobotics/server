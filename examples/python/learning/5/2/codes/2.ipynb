{
 "cells": [
  {
   "cell_type": "markdown",
   "metadata": {},
   "source": [
    "#### A"
   ]
  },
  {
   "cell_type": "code",
   "execution_count": null,
   "metadata": {},
   "outputs": [],
   "source": [
    "time = 1\n",
    "\n",
    "while time <= 50:\n",
    "    print(\"수업을 경청함\")\n",
    "    time += 1\n",
    "print(\"자리에서 일어남\")"
   ]
  },
  {
   "cell_type": "markdown",
   "metadata": {},
   "source": [
    "#### B"
   ]
  },
  {
   "cell_type": "code",
   "execution_count": null,
   "metadata": {},
   "outputs": [],
   "source": [
    "speed = 50\n",
    "distance = 500\n",
    "\n",
    "while distance > 0:\n",
    "    if distance <= 200:\n",
    "        speed = 20\n",
    "        print(f\"속도를 {speed}km/h로 줄였습니다.\")\n",
    "    print(f\"현재 속도: {speed}km/h, 신호등까지 거리: {distance}m\")\n",
    "    distance -= 100\n",
    "print(\"신호등에 도착했습니다. 차량을 정지합니다.\")"
   ]
  }
 ],
 "metadata": {
  "kernelspec": {
   "display_name": "Python 3 (ipykernel)",
   "language": "python",
   "name": "python3"
  },
  "language_info": {
   "codemirror_mode": {
    "name": "ipython",
    "version": 3
   },
   "file_extension": ".py",
   "mimetype": "text/x-python",
   "name": "python",
   "nbconvert_exporter": "python",
   "pygments_lexer": "ipython3",
   "version": "3.8.10"
  }
 },
 "nbformat": 4,
 "nbformat_minor": 4
}
