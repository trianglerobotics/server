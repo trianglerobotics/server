{
 "cells": [
  {
   "cell_type": "code",
   "execution_count": null,
   "metadata": {},
   "outputs": [],
   "source": [
    "# 리스트 line_up에 거북이, 도도새, 홍학, 토끼 순으로 줄을 서 있어요\n",
    "line_up = ['거북이', '도도새', '홍학', '토끼']\n",
    "\n",
    "# 새치기한 도도새를 line_up에서 쫓아내 봐요\n",
    "\n",
    "\n",
    "# line_up을 출력해 도도새를 잘 쫓아냈는지 확인해 봐요\n",
    "print(line_up)"
   ]
  }
 ],
 "metadata": {
  "kernelspec": {
   "display_name": "Python 3 (ipykernel)",
   "language": "python",
   "name": "python3"
  },
  "language_info": {
   "codemirror_mode": {
    "name": "ipython",
    "version": 3
   },
   "file_extension": ".py",
   "mimetype": "text/x-python",
   "name": "python",
   "nbconvert_exporter": "python",
   "pygments_lexer": "ipython3",
   "version": "3.8.10"
  }
 },
 "nbformat": 4,
 "nbformat_minor": 4
}
