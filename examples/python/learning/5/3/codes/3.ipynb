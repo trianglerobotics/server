{
 "cells": [
  {
   "cell_type": "markdown",
   "metadata": {},
   "source": [
    "#### "
   ]
  },
  {
   "cell_type": "code",
   "execution_count": null,
   "metadata": {},
   "outputs": [],
   "source": [
    "wheel_alignment = [0, 0, 4, 0]\n",
    "\n",
    "for status in wheel_alignment:\n",
    "    if status != 0:\n",
    "        print(\"바퀴가 정렬되지 않았습니다.\")\n",
    "        break"
   ]
  },
  {
   "cell_type": "markdown",
   "metadata": {},
   "source": [
    "#### B"
   ]
  },
  {
   "cell_type": "code",
   "execution_count": null,
   "metadata": {},
   "outputs": [],
   "source": [
    "pw = \"jajucha\"\n",
    "inputs = [\"jajuch\", \"jejucha\", \"jajucha\"]\n",
    "attempts = 0\n",
    "\n",
    "while True:\n",
    "    if inputs[attempts] == pw:\n",
    "        print(\"접속 중입니다.\")\n",
    "        break\n",
    "    else:\n",
    "        attempts += 1\n",
    "        if attempts >= 3:\n",
    "            print(\"입력 횟수를 초과했습니다.\")\n",
    "            break"
   ]
  },
  {
   "cell_type": "markdown",
   "metadata": {},
   "source": [
    "#### C"
   ]
  },
  {
   "cell_type": "code",
   "execution_count": null,
   "metadata": {},
   "outputs": [],
   "source": [
    "students = [\"민상\", \"진우\", \"예연\", \"미연\", \"이서\"]\n",
    "scores = [85, 45, 78, 50, 92]\n",
    "\n",
    "for student in range(len(students)):\n",
    "    if scores[student] < 60:\n",
    "        print(\"재시험 대상입니다.\")\n",
    "        continue\n",
    "    print(f\"{scores[student]}점, 합격입니다.\")"
   ]
  },
  {
   "cell_type": "markdown",
   "metadata": {},
   "source": [
    "#### D"
   ]
  },
  {
   "cell_type": "code",
   "execution_count": null,
   "metadata": {},
   "outputs": [],
   "source": [
    "road_condition = [\"직선\", \"공사 중\", \"직선\", \"공사 중\", \"직선\"]\n",
    "section = 0\n",
    "\n",
    "while section < len(road_condition):\n",
    "    if road_condition[section] == \"공사 중\":\n",
    "        print(f\"{road_condition[section]} 구간입니다. 우회합니다.\")\n",
    "        section += 1\n",
    "        continue\n",
    "    print(f\"{road_condition[section]} 구간입니다. 정상 주행합니다.\")\n",
    "    section += 1"
   ]
  }
 ],
 "metadata": {
  "kernelspec": {
   "display_name": "Python 3 (ipykernel)",
   "language": "python",
   "name": "python3"
  },
  "language_info": {
   "codemirror_mode": {
    "name": "ipython",
    "version": 3
   },
   "file_extension": ".py",
   "mimetype": "text/x-python",
   "name": "python",
   "nbconvert_exporter": "python",
   "pygments_lexer": "ipython3",
   "version": "3.8.10"
  }
 },
 "nbformat": 4,
 "nbformat_minor": 4
}
