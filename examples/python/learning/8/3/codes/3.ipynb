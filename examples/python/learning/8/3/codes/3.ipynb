{
 "cells": [
  {
   "cell_type": "markdown",
   "metadata": {},
   "source": [
    "#### A"
   ]
  },
  {
   "cell_type": "code",
   "execution_count": null,
   "metadata": {},
   "outputs": [],
   "source": [
    "# time 라이브러리를 불러옵니다.\n",
    "import time\n",
    "\n",
    "# 계산 시작 시간을 기록합니다.\n",
    "start_time = time.time()  \n",
    "\n",
    "# 1부터 1,000,000까지의 합을 구합니다.\n",
    "result = sum(range(1, 1_000_001))\n",
    "\n",
    "# 계산 종료 시간을 기록합니다.\n",
    "end_time = time.time()    \n",
    "\n",
    "# 계산 결과를 출력합니다.\n",
    "print(f\"1부터 1,000,000까지의 합: {result}\")\n",
    "\n",
    "# 계산 종료 시간에서 계산 시작 시간을 뺀 값을 출력합니다.\n",
    "print(f\"계산 소요 시간: {end_time - start_time}초\")\n"
   ]
  },
  {
   "cell_type": "markdown",
   "metadata": {},
   "source": [
    "#### B"
   ]
  },
  {
   "cell_type": "code",
   "execution_count": null,
   "metadata": {},
   "outputs": [],
   "source": [
    "# time 라이브러리를 불러옵니다.\n",
    "import time\n",
    "\n",
    "# 실행 3초 후 \"3초가 지났습니다.\"를 출력합니다.\n",
    "time.sleep(3)  \n",
    "print(\"3초가 지났습니다.\")"
   ]
  }
 ],
 "metadata": {
  "kernelspec": {
   "display_name": "Python 3 (ipykernel)",
   "language": "python",
   "name": "python3"
  },
  "language_info": {
   "codemirror_mode": {
    "name": "ipython",
    "version": 3
   },
   "file_extension": ".py",
   "mimetype": "text/x-python",
   "name": "python",
   "nbconvert_exporter": "python",
   "pygments_lexer": "ipython3",
   "version": "3.8.10"
  }
 },
 "nbformat": 4,
 "nbformat_minor": 4
}
