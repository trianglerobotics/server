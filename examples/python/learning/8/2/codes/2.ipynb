{
 "cells": [
  {
   "cell_type": "markdown",
   "metadata": {},
   "source": [
    "#### A"
   ]
  },
  {
   "cell_type": "code",
   "execution_count": null,
   "metadata": {},
   "outputs": [],
   "source": [
    "# math 라이브러리를 불러옵니다.\n",
    "import math\n",
    "\n",
    "# 25의 제곱근을 구하여 출력합니다.\n",
    "print(math.sqrt(25))"
   ]
  },
  {
   "cell_type": "markdown",
   "metadata": {},
   "source": [
    "#### B"
   ]
  },
  {
   "cell_type": "code",
   "execution_count": null,
   "metadata": {},
   "outputs": [],
   "source": [
    "# math 라이브러리를 불러옵니다.\n",
    "import math\n",
    "\n",
    "# 2를 10번 거듭제곱한 값값을 구하여 출력합니다.\n",
    "print(math.pow(2, 10))"
   ]
  },
  {
   "cell_type": "markdown",
   "metadata": {},
   "source": [
    "#### C"
   ]
  },
  {
   "cell_type": "code",
   "execution_count": null,
   "metadata": {},
   "outputs": [],
   "source": [
    "# math 라이브러리를 불러옵니다.\n",
    "import math\n",
    "\n",
    "# 2.2를 올림한 값을을 구하여 출력합니다.\n",
    "print(math.ceil(2.2))\n",
    "\n",
    "# 2.2를 내림림한 값을을 구하여 출력합니다.\n",
    "print(math.floor(2.2))"
   ]
  }
 ],
 "metadata": {
  "kernelspec": {
   "display_name": "Python 3 (ipykernel)",
   "language": "python",
   "name": "python3"
  },
  "language_info": {
   "codemirror_mode": {
    "name": "ipython",
    "version": 3
   },
   "file_extension": ".py",
   "mimetype": "text/x-python",
   "name": "python",
   "nbconvert_exporter": "python",
   "pygments_lexer": "ipython3",
   "version": "3.8.10"
  }
 },
 "nbformat": 4,
 "nbformat_minor": 4
}
