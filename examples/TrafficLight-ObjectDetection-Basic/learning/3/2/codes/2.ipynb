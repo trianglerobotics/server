{
 "cells": [
  {
   "cell_type": "markdown",
   "metadata": {},
   "source": [
    "#### Code A"
   ]
  },
  {
   "cell_type": "code",
   "execution_count": null,
   "metadata": {
    "vscode": {
     "languageId": "plaintext"
    }
   },
   "outputs": [],
   "source": [
    "import jajucha2\n",
    "import torch\n",
    "#자주차의 라이브러리의 AI 모듈을 활성화 합니다\n",
    "jajucha2.load_ai()"
   ]
  },
  {
   "cell_type": "markdown",
   "metadata": {},
   "source": [
    "<br>"
   ]
  },
  {
   "cell_type": "markdown",
   "metadata": {},
   "source": [
    "#### Code B"
   ]
  },
  {
   "cell_type": "code",
   "execution_count": null,
   "metadata": {},
   "outputs": [],
   "source": [
    "NAME = 'NewYolo'"
   ]
  },
  {
   "cell_type": "markdown",
   "metadata": {},
   "source": [
    "<br>"
   ]
  },
  {
   "cell_type": "markdown",
   "metadata": {},
   "source": [
    "#### Code C"
   ]
  },
  {
   "cell_type": "code",
   "execution_count": null,
   "metadata": {},
   "outputs": [],
   "source": [
    "\n",
    "# Capture frame-by-frame\n",
    "frame_resized = jajucha2.camera.get_image()\n",
    "\n",
    "# Run YOLOv8 inference on the frame\n",
    "results = model(frame_resized)\n",
    "\n",
    "# Extract the detection information and visualize\n",
    "for result in results:\n",
    "    for box in result.boxes:\n",
    "        # Extract bounding box coordinates\n",
    "        x1, y1, x2, y2 = map(int, box.xyxy[0])  # Bounding box corners\n",
    "        confidence = box.conf[0]  # Confidence score\n",
    "        class_id = int(box.cls[0])  # Class label\n",
    "\n",
    "        # Get class name from the custom model's class list\n",
    "        label = f\"{model.names[class_id]} {confidence:.2f}\"\n",
    "\n",
    "        # Draw bounding box\n",
    "        cv2.rectangle(frame_resized, (x1, y1), (x2, y2), (0, 255, 0), 2)\n",
    "\n",
    "        # Draw label text\n",
    "        cv2.putText(frame_resized, label, (x1, y1 - 10), cv2.FONT_HERSHEY_SIMPLEX, 0.5, (0, 255, 0), 2)\n",
    "        print('x1 : ',x1,'y1 : ',y1,'x2 : ',x2,'y2 : ',y2)\n",
    "# Display the resulting frame with annotations\n",
    "jajucha2.camera.show_image(frame_resized)"
   ]
  },
  {
   "cell_type": "markdown",
   "metadata": {},
   "source": [
    "<br>"
   ]
  },
  {
   "cell_type": "markdown",
   "metadata": {},
   "source": [
    "#### Code D"
   ]
  },
  {
   "cell_type": "code",
   "execution_count": null,
   "metadata": {},
   "outputs": [],
   "source": [
    "while True:\n",
    "    # Capture frame-by-frame\n",
    "    frame_resized = jajucha2.camera.get_image()\n",
    "\n",
    "    # Run YOLOv8 inference on the frame\n",
    "    results = model(frame_resized)\n",
    "\n",
    "    # Extract the detection information and visualize\n",
    "    for result in results:\n",
    "        for box in result.boxes:\n",
    "            # Extract bounding box coordinates\n",
    "            x1, y1, x2, y2 = map(int, box.xyxy[0])  # Bounding box corners\n",
    "            confidence = box.conf[0]  # Confidence score\n",
    "            class_id = int(box.cls[0])  # Class label\n",
    "\n",
    "            ## 장애물의 위치를 계산해서 피하는 코드를 작성해야 합니다\n",
    "            ## 아래부터 코드를 작성하세요\n",
    "            \n",
    "\n",
    "\n",
    "\n",
    "\n",
    "            \n",
    "\n",
    "            #### 이미지를 표시하는 코드입니다. 아래부터는 수정이 불필요합니다\n",
    "            \n",
    "            # Get class name from the custom model's class list\n",
    "            label = f\"{model.names[class_id]} {confidence:.2f}\"\n",
    "\n",
    "            # Draw bounding box\n",
    "            cv2.rectangle(frame_resized, (x1, y1), (x2, y2), (0, 255, 0), 2)\n",
    "            \n",
    "            # Draw label text\n",
    "            cv2.putText(frame_resized, label, (x1, y1 - 10), cv2.FONT_HERSHEY_SIMPLEX, 0.5, (0, 255, 0), 2)\n",
    "\n",
    "    # Display the resulting frame with annotations\n",
    "    jajucha2.camera.show_image(frame_resized)"
   ]
  }
 ],
 "metadata": {
  "kernelspec": {
   "display_name": "Python 3 (ipykernel)",
   "language": "python",
   "name": "python3"
  },
  "language_info": {
   "codemirror_mode": {
    "name": "ipython",
    "version": 3
   },
   "file_extension": ".py",
   "mimetype": "text/x-python",
   "name": "python",
   "nbconvert_exporter": "python",
   "pygments_lexer": "ipython3",
   "version": "3.8.10"
  }
 },
 "nbformat": 4,
 "nbformat_minor": 4
}
