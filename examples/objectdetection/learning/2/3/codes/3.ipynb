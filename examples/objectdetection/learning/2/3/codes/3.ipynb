{
 "cells": [
  {
   "cell_type": "code",
   "execution_count": null,
   "metadata": {},
   "outputs": [],
   "source": [
    "# > 연산자를 이용해 True인 명제를 만들어 넣으세요\n",
    "ans1 = >\n",
    "\n",
    "# != 연산자를 이용해 False인 명제를 만들어 넣으세요\n",
    "ans2 = !=\n",
    "\n",
    "# 참, 거짓을 확인해 볼까요? 08번 줄은 수정하지 않아도 돼요\n",
    "print(ans1, ans2)"
   ]
  }
 ],
 "metadata": {
  "kernelspec": {
   "display_name": "Python 3 (ipykernel)",
   "language": "python",
   "name": "python3"
  },
  "language_info": {
   "codemirror_mode": {
    "name": "ipython",
    "version": 3
   },
   "file_extension": ".py",
   "mimetype": "text/x-python",
   "name": "python",
   "nbconvert_exporter": "python",
   "pygments_lexer": "ipython3",
   "version": "3.8.10"
  }
 },
 "nbformat": 4,
 "nbformat_minor": 4
}
