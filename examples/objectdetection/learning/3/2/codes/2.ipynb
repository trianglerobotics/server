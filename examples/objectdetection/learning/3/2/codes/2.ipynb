{
 "cells": [
  {
   "cell_type": "markdown",
   "metadata": {},
   "source": [
    "#### A\n",
    "\n",
    "<div class='cd'>\n",
    "<strong>NAME = ''</strong> -> 가져올 모델의 이름을 입력합니다 *전 과정에서 지정했던 이름으로 입력합니다\n",
    "</div>"
   ]
  },
  {
   "cell_type": "code",
   "execution_count": 4,
   "metadata": {},
   "outputs": [],
   "source": [
    "# Set Hyper Parameters\n",
    "NAME = '' #모델의 이름을 입력합니다 예시: '12'"
   ]
  },
  {
   "cell_type": "markdown",
   "metadata": {},
   "source": [
    "<br></br>"
   ]
  },
  {
   "cell_type": "markdown",
   "metadata": {},
   "source": [
    "#### B\n",
    "<div class='cd'>\n",
    "<strong>import jajucha2</strong> -> 자주차 라이브러리를 가져옵니다\n",
    "</div>"
   ]
  },
  {
   "cell_type": "code",
   "execution_count": null,
   "metadata": {},
   "outputs": [],
   "source": [
    "import jajucha2\n",
    "import time\n",
    "import cv2\n",
    "\n",
    "while True:\n",
    "    frame = jajucha2.camera.get_image()\n",
    "    frame_resized = cv2.resize(frame, (640, 640))\n",
    "\n",
    "    # Run YOLOv8 inference on the frame\n",
    "    results = jajucha2.ai.get_model_output(frame,NAME)\n",
    "\n",
    "    # Extract the detection information and visualize\n",
    "    for result in results:\n",
    "        for box in result.boxes:\n",
    "            # Extract bounding box coordinates\n",
    "            x1, y1, x2, y2 = map(int, box.xyxy[0])  # Bounding box corners\n",
    "            confidence = box.conf[0]  # Confidence score\n",
    "            class_id = int(box.cls[0])  # Class label\n",
    "\n",
    "            # Get class name from the custom model's class list\n",
    "            label = f\"{model.names[class_id]} {confidence:.2f}\"\n",
    "\n",
    "            # Draw bounding box\n",
    "            cv2.rectangle(frame_resized, (x1, y1), (x2, y2), (0, 255, 0), 2)\n",
    "\n",
    "            # Draw label text\n",
    "            cv2.putText(frame_resized, label, (x1, y1 - 10), cv2.FONT_HERSHEY_SIMPLEX, 0.5, (0, 255, 0), 2)\n",
    "            \n",
    "    jajucha2.camera.show_image(frame_resized)"
   ]
  }
 ],
 "metadata": {
  "kernelspec": {
   "display_name": "Python 3 (ipykernel)",
   "language": "python",
   "name": "python3"
  },
  "language_info": {
   "codemirror_mode": {
    "name": "ipython",
    "version": 3
   },
   "file_extension": ".py",
   "mimetype": "text/x-python",
   "name": "python",
   "nbconvert_exporter": "python",
   "pygments_lexer": "ipython3",
   "version": "3.8.10"
  }
 },
 "nbformat": 4,
 "nbformat_minor": 4
}
