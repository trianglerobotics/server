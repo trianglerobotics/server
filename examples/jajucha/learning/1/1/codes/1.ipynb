{
 "cells": [
  {
   "cell_type": "markdown",
   "metadata": {},
   "source": [
    "#### CELL-1 코드리뷰 \n",
    "\n",
    "- <strong>import jajucha2</strong> -> 자주차 라이브러리를 가져옵니다\n"
   ]
  },
  {
   "cell_type": "code",
   "execution_count": 1,
   "metadata": {},
   "outputs": [],
   "source": [
    "import jajucha2"
   ]
  },
  {
   "cell_type": "markdown",
   "metadata": {},
   "source": [
    "<br></br>"
   ]
  },
  {
   "cell_type": "markdown",
   "metadata": {},
   "source": [
    "#### CELL -2 코드리뷰\n",
    "\n",
    "- <strong>jajucha2.control.init_motor()</strong> -> 모터를 정지상태로 시작합니다"
   ]
  },
  {
   "cell_type": "code",
   "execution_count": null,
   "metadata": {},
   "outputs": [],
   "source": [
    "jajucha2.control.init_motor()"
   ]
  },
  {
   "cell_type": "markdown",
   "metadata": {},
   "source": [
    "<br></br>"
   ]
  },
  {
   "cell_type": "markdown",
   "metadata": {},
   "source": [
    "#### CELL -3 코드리뷰\n",
    "\n",
    "- <strong>jajucha2.control.set_motor(10,10,0)</strong> -> 정지상태에서 오른쪽으로 스티어링을 조향합니다\n",
    "- set_motor(left,right,speed) 순서입니다\n",
    "- left,right = ±10 범위입니다\n",
    "- speed = ±30 범위입니다\n"
   ]
  },
  {
   "cell_type": "code",
   "execution_count": null,
   "metadata": {},
   "outputs": [],
   "source": [
    "jajucha2.control.set_motor(10,10,0)"
   ]
  },
  {
   "cell_type": "markdown",
   "metadata": {},
   "source": [
    "<br></br>"
   ]
  },
  {
   "cell_type": "markdown",
   "metadata": {},
   "source": [
    "#### CELL -4 코드리뷰\n",
    "\n",
    "- <strong>jajucha2.control.set_motor(-10,-10,0)</strong> -> 정지상태에서 왼쪽 스티어링을 조향합니다\n",
    "- set_motor(left,right,speed) 순서입니다\n",
    "- left,right = ±10 범위입니다\n",
    "- speed = ±30 범위입니다\n"
   ]
  },
  {
   "cell_type": "code",
   "execution_count": null,
   "metadata": {},
   "outputs": [],
   "source": [
    "jajucha2.control.set_motor(-10,-10,0)"
   ]
  },
  {
   "cell_type": "markdown",
   "metadata": {},
   "source": [
    "<br></br>"
   ]
  },
  {
   "cell_type": "markdown",
   "metadata": {},
   "source": [
    "#### CELL -5 코드리뷰\n",
    "\n",
    "- <strong>import time</strong> -> 시간 관련 라이브러리를 가져옵니다\n",
    "- <strong>while(True):</strong> -> 무한히 반복합니다\n",
    "\n",
    "- <strong>jajucha2.control.set_motor(10,10,0)</strong> -> 정지상태에서 오른쪽으로 스티어링을 조향합니다\n",
    "- <strong>time.sleep(1)</strong> -> 1초 대기합니다\n",
    "- <strong>jajucha2.control.set_motor(-10,-10,0)</strong> -> 정지상태에서 왼쪽으로 스티어링을 조향합니다\n",
    "- <strong>time.sleep(1)</strong> -> 1초 대기합니다\n"
   ]
  },
  {
   "cell_type": "code",
   "execution_count": null,
   "metadata": {},
   "outputs": [],
   "source": [
    "import time\n",
    "\n",
    "while(True):\n",
    "    jajucha2.control.set_motor(10,10,0)\n",
    "    time.sleep(1)\n",
    "    jajucha2.control.set_motor(-10,-10,0)\n",
    "    time.sleep(1)"
   ]
  },
  {
   "cell_type": "markdown",
   "metadata": {},
   "source": [
    "<br></br>"
   ]
  }
 ],
 "metadata": {
  "kernelspec": {
   "display_name": "Python 3 (ipykernel)",
   "language": "python",
   "name": "python3"
  },
  "language_info": {
   "codemirror_mode": {
    "name": "ipython",
    "version": 3
   },
   "file_extension": ".py",
   "mimetype": "text/x-python",
   "name": "python",
   "nbconvert_exporter": "python",
   "pygments_lexer": "ipython3",
   "version": "3.8.10"
  }
 },
 "nbformat": 4,
 "nbformat_minor": 4
}
