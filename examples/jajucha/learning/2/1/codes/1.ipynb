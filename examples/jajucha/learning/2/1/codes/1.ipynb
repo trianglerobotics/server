{
 "cells": [
  {
   "cell_type": "markdown",
   "metadata": {},
   "source": [
    "#### CELL-1 코드리뷰 \n",
    "\n",
    "- <strong>import jajucha2</strong> -> 자주차 라이브러리를 가져옵니다\n"
   ]
  },
  {
   "cell_type": "code",
   "execution_count": 1,
   "metadata": {},
   "outputs": [],
   "source": [
    "import jajucha2"
   ]
  },
  {
   "cell_type": "markdown",
   "metadata": {},
   "source": [
    "<br></br>"
   ]
  },
  {
   "cell_type": "markdown",
   "metadata": {},
   "source": [
    "#### CELL -2 코드리뷰\n",
    "\n",
    "- <strong>left = jajucha2.camera.get_image('left')</strong> -> 왼쪽 카메라의 이미지를 받아옵니다\n",
    "- <strong>center = jajucha2.camera.get_image('center')</strong> -> 중간 카메라의 이미지를 받아옵니다\n",
    "- <strong>right = jajucha2.camera.get_image('right')</strong> -> 오른쪽 카메라의 이미지를 받아옵니다"
   ]
  },
  {
   "cell_type": "code",
   "execution_count": 3,
   "metadata": {},
   "outputs": [],
   "source": [
    "left = jajucha2.camera.get_image('left')\n",
    "center = jajucha2.camera.get_image('center')\n",
    "right = jajucha2.camera.get_image('right')"
   ]
  },
  {
   "cell_type": "markdown",
   "metadata": {},
   "source": [
    "<br></br>"
   ]
  },
  {
   "cell_type": "markdown",
   "metadata": {},
   "source": [
    "#### CELL -3 코드리뷰\n",
    "\n",
    "- <strong>jajucha2.camera.show_image(left,'left')</strong> -> 왼쪽이미지를 'left' 창으로 전송합니다\n",
    "- <strong>jajucha2.camera.show_image(center,'center')</strong> -> 중간 'center' 창으로 전송합니다\n",
    "- <strong>jajucha2.camera.show_image(right,'right')</strong> -> 오른쪽 'right' 창으로 전송합니다\n"
   ]
  },
  {
   "cell_type": "code",
   "execution_count": 5,
   "metadata": {},
   "outputs": [],
   "source": [
    "jajucha2.camera.show_image(left,'left')\n",
    "jajucha2.camera.show_image(center,'center')\n",
    "jajucha2.camera.show_image(right,'right')"
   ]
  },
  {
   "cell_type": "markdown",
   "metadata": {},
   "source": [
    "<br></br>"
   ]
  },
  {
   "cell_type": "markdown",
   "metadata": {},
   "source": [
    "#### CELL -4 코드리뷰\n",
    "\n",
    "- <strong>import jajucha2</strong> -> 자주차 라이브러리를 가져옵니다\n",
    "- <strong>while True:</strong> -> 계속 반복합니다\n",
    "- <strong>center = jajucha2.camera.get_image('center')</strong> -> 중간 카메라의 이미지를 받아옵니다\n",
    "- <strong>jajucha2.camera.show_image(center,'center')</strong> -> 중간 'center' 창으로 전송합니다\n"
   ]
  },
  {
   "cell_type": "code",
   "execution_count": null,
   "metadata": {},
   "outputs": [],
   "source": [
    "import jajucha2\n",
    "\n",
    "while True:\n",
    "    center = jajucha2.camera.get_image('center')\n",
    "    jajucha2.camera.show_image(center,'center')\n"
   ]
  },
  {
   "cell_type": "markdown",
   "metadata": {},
   "source": [
    "<br></br>"
   ]
  },
  {
   "cell_type": "markdown",
   "metadata": {},
   "source": [
    "<br></br>"
   ]
  }
 ],
 "metadata": {
  "kernelspec": {
   "display_name": "Python 3 (ipykernel)",
   "language": "python",
   "name": "python3"
  },
  "language_info": {
   "codemirror_mode": {
    "name": "ipython",
    "version": 3
   },
   "file_extension": ".py",
   "mimetype": "text/x-python",
   "name": "python",
   "nbconvert_exporter": "python",
   "pygments_lexer": "ipython3",
   "version": "3.8.10"
  }
 },
 "nbformat": 4,
 "nbformat_minor": 4
}
