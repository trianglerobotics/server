{
 "cells": [
  {
   "cell_type": "markdown",
   "metadata": {},
   "source": [
    "#### CELL-1 코드리뷰 \n",
    "\n",
    "- <strong>import jajucha2</strong> -> 자주차 라이브러리를 가져옵니다\n"
   ]
  },
  {
   "cell_type": "code",
   "execution_count": 1,
   "metadata": {},
   "outputs": [],
   "source": [
    "import jajucha2"
   ]
  },
  {
   "cell_type": "markdown",
   "metadata": {},
   "source": [
    "<br></br>"
   ]
  },
  {
   "cell_type": "markdown",
   "metadata": {},
   "source": [
    "#### CELL -2 코드리뷰\n",
    "\n",
    "- <strong>depth = jajucha2.camera.get_depth()</strong> -> \b깊이 카메라의 이미지를 받아옵니다\n",
    "- 깊이 이미지는 left,right 이미지의 연산을 통하여 도출 됩니다\n",
    "- 3채널인 RGB이미지와는 달리 깊이 이미지는 1채널 입니다"
   ]
  },
  {
   "cell_type": "code",
   "execution_count": 3,
   "metadata": {},
   "outputs": [],
   "source": [
    "depth = jajucha2.camera.get_depth()"
   ]
  },
  {
   "cell_type": "markdown",
   "metadata": {},
   "source": [
    "<br></br>"
   ]
  },
  {
   "cell_type": "markdown",
   "metadata": {},
   "source": [
    "#### CELL -3 코드리뷰\n",
    "\n",
    "- <strong>jajucha2.camera.show_image(depth,'depth')</strong> -> 깊이이미지를 'depth' 창으로 전송합니다\n"
   ]
  },
  {
   "cell_type": "code",
   "execution_count": 5,
   "metadata": {},
   "outputs": [],
   "source": [
    "jajucha2.camera.show_image(depth,'depth')"
   ]
  },
  {
   "cell_type": "markdown",
   "metadata": {},
   "source": [
    "<br></br>"
   ]
  },
  {
   "cell_type": "markdown",
   "metadata": {},
   "source": [
    "#### CELL -4 코드리뷰\n",
    "\n",
    "- <strong>import jajucha2</strong> -> 자주차 라이브러리를 가져옵니다\n",
    "- <strong>while True:</strong> -> 계속 반복합니다\n",
    "- <strong>depth = jajucha2.camera.get_depth()</strong> -> 깊이이미지를 받아옵니다\n",
    "- <strong>jajucha2.camera.show_image(depth,'depth')</strong> -> 깊이이미지를 'depth' 창으로 전송합니다\n"
   ]
  },
  {
   "cell_type": "code",
   "execution_count": null,
   "metadata": {},
   "outputs": [],
   "source": [
    "import jajucha2\n",
    "\n",
    "while True:\n",
    "    center = jajucha2.camera.get_depth()\n",
    "    jajucha2.camera.show_image(depth,'depth')\n"
   ]
  },
  {
   "cell_type": "markdown",
   "metadata": {},
   "source": [
    "<br></br>"
   ]
  },
  {
   "cell_type": "markdown",
   "metadata": {},
   "source": [
    "<br></br>"
   ]
  }
 ],
 "metadata": {
  "kernelspec": {
   "display_name": "Python 3 (ipykernel)",
   "language": "python",
   "name": "python3"
  },
  "language_info": {
   "codemirror_mode": {
    "name": "ipython",
    "version": 3
   },
   "file_extension": ".py",
   "mimetype": "text/x-python",
   "name": "python",
   "nbconvert_exporter": "python",
   "pygments_lexer": "ipython3",
   "version": "3.8.10"
  }
 },
 "nbformat": 4,
 "nbformat_minor": 4
}
