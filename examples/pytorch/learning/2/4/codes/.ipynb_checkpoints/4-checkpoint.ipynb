{
 "cells": [
  {
   "cell_type": "markdown",
   "metadata": {},
   "source": [
    "#### A"
   ]
  },
  {
   "cell_type": "code",
   "execution_count": null,
   "metadata": {},
   "outputs": [],
   "source": [
    "import numpy as np\n",
    "\n",
    "# 입력 데이터 (예: 세 개의 특징값)\n",
    "inputs = np.array([2.0, 3.0, 5.0])\n",
    "\n",
    "# 가중치 (weights): 각 입력에 대응되는 가중치 값\n",
    "weights = np.array([0.1, 0.2, 0.3])\n",
    "\n",
    "# 가중합 계산: 각 입력값 * 가중치를 모두 더함\n",
    "# weighted_sum = (입력1 * 가중치1) + (입력2 * 가중치2) + (입력3 * 가중치3)\n",
    "weighted_sum = np.dot(inputs, weights)\n",
    "\n",
    "# 결과 출력\n",
    "print(\"입력값:\", inputs)\n",
    "print(\"가중치:\", weights)\n",
    "print(\"가중합:\", weighted_sum)\n"
   ]
  }
 ],
 "metadata": {
  "kernelspec": {
   "display_name": "Python 3 (ipykernel)",
   "language": "python",
   "name": "python3"
  },
  "language_info": {
   "codemirror_mode": {
    "name": "ipython",
    "version": 3
   },
   "file_extension": ".py",
   "mimetype": "text/x-python",
   "name": "python",
   "nbconvert_exporter": "python",
   "pygments_lexer": "ipython3",
   "version": "3.8.10"
  }
 },
 "nbformat": 4,
 "nbformat_minor": 4
}
