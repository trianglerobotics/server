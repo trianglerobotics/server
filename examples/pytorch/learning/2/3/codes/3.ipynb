{
 "cells": [
  {
   "cell_type": "markdown",
   "metadata": {},
   "source": [
    "#### A"
   ]
  },
  {
   "cell_type": "code",
   "execution_count": null,
   "metadata": {},
   "outputs": [],
   "source": [
    "import numpy as np\n",
    "\n",
    "# 입력 데이터 (예: 두 개의 특징값)\n",
    "inputs = np.array([1.5, 2.0])\n",
    "\n",
    "# 가중치 (weights): 각 입력에 대한 가중치 값\n",
    "weights = np.array([0.4, 0.6])\n",
    "\n",
    "# 편향 (bias): 모델의 출력을 조정하는 상수\n",
    "bias = 1.0\n",
    "\n",
    "# 출력 계산: 가중치와 입력의 합을 구한 뒤 편향을 더함\n",
    "# z = (입력1 * 가중치1) + (입력2 * 가중치2) + 편향\n",
    "output = np.dot(_____, _____) + _____  # 빈칸을 채워 코드를 완성하세요.\n",
    "\n",
    "# 결과 출력\n",
    "print(\"입력값:\", inputs)\n",
    "print(\"가중치:\", weights)\n",
    "print(\"편향:\", bias)\n",
    "print(\"출력값 (z):\", output)\n"
   ]
  }
 ],
 "metadata": {
  "kernelspec": {
   "display_name": "Python 3 (ipykernel)",
   "language": "python",
   "name": "python3"
  },
  "language_info": {
   "codemirror_mode": {
    "name": "ipython",
    "version": 3
   },
   "file_extension": ".py",
   "mimetype": "text/x-python",
   "name": "python",
   "nbconvert_exporter": "python",
   "pygments_lexer": "ipython3",
   "version": "3.8.10"
  }
 },
 "nbformat": 4,
 "nbformat_minor": 4
}
