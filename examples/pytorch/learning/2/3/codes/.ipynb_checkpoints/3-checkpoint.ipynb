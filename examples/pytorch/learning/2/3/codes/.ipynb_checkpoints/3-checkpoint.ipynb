{
 "cells": [
  {
   "cell_type": "markdown",
   "metadata": {},
   "source": [
    "#### A"
   ]
  },
  {
   "cell_type": "code",
   "execution_count": null,
   "metadata": {},
   "outputs": [],
   "source": [
    "# 가중치 기반의 간단한 계산 예제\n",
    "\n",
    "# 입력 데이터와 가중치 설정\n",
    "inputs = [1.2, 2.3, 3.1]  # 입력 값들\n",
    "weights = [0.5, 0.3, 0.2]  # 각 입력 값에 대한 가중치\n",
    "\n",
    "# 가중치를 반영한 합계 계산\n",
    "# zip() 함수로 입력 값과 가중치를 묶어 계산\n",
    "weighted_sum = sum(input_value * weight for input_value, weight in zip(inputs, weights))\n",
    "\n",
    "# 결과 출력\n",
    "print(\"가중치를 적용한 합계:\", weighted_sum)\n"
   ]
  }
 ],
 "metadata": {
  "kernelspec": {
   "display_name": "Python 3 (ipykernel)",
   "language": "python",
   "name": "python3"
  },
  "language_info": {
   "codemirror_mode": {
    "name": "ipython",
    "version": 3
   },
   "file_extension": ".py",
   "mimetype": "text/x-python",
   "name": "python",
   "nbconvert_exporter": "python",
   "pygments_lexer": "ipython3",
   "version": "3.8.10"
  }
 },
 "nbformat": 4,
 "nbformat_minor": 4
}
