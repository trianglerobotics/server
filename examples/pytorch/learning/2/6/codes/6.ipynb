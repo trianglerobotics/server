{
 "cells": [
  {
   "cell_type": "markdown",
   "metadata": {},
   "source": [
    "#### A"
   ]
  },
  {
   "cell_type": "code",
   "execution_count": null,
   "metadata": {},
   "outputs": [],
   "source": [
    "import numpy as np\n",
    "\n",
    "# MSE 함수 정의\n",
    "def mse(y_true, y_pred):\n",
    "    \"\"\"\n",
    "    MSE (Mean Squared Error) 계산 함수\n",
    "    y_true: 실제값 배열\n",
    "    y_pred: 예측값 배열\n",
    "    \"\"\"\n",
    "    return np.mean((y_true - y_pred) ** 2)\n",
    "\n",
    "# 실제값과 예측값\n",
    "y_true = np.array([1.5, 2.0, 3.5, 4.0])  # 실제값\n",
    "y_pred = np.array([1.4, 2.2, 3.0, 4.5])  # 예측값\n",
    "\n",
    "# MSE 계산\n",
    "mse_value = mse(y_true, y_pred)\n",
    "\n",
    "# 결과 출력\n",
    "print(\"실제값:\", y_true)\n",
    "print(\"예측값:\", y_pred)\n",
    "print(\"MSE:\", mse_value)"
   ]
  },
  {
   "cell_type": "markdown",
   "metadata": {},
   "source": [
    "### B"
   ]
  },
  {
   "cell_type": "code",
   "execution_count": null,
   "metadata": {},
   "outputs": [],
   "source": [
    "import numpy as np\n",
    "\n",
    "# 예제 데이터\n",
    "y_true = np.array([[1, 0, 0], [0, 1, 0], [0, 0, 1]])  # 실제 값 (원-핫 인코딩)\n",
    "y_pred = np.array([[0.7, 0.2, 0.1], [0.1, 0.8, 0.1], [0.2, 0.3, 0.5]])  # 예측 확률 분포\n",
    "\n",
    "# 크로스 엔트로피 오차 계산\n",
    "def cross_entropy_loss_multi(y_true, y_pred):\n",
    "    # 로그를 계산하기 전에 아주 작은 값을 더해 로그 계산 오류 방지 (숫자 안정성)\n",
    "    epsilon = 1e-15\n",
    "    y_pred = np.clip(y_pred, epsilon, 1 - epsilon)\n",
    "    # 크로스 엔트로피 공식 적용\n",
    "    loss = -np.sum(y_true * np.log(y_pred)) / y_true.shape[0]\n",
    "    return loss\n",
    "\n",
    "loss = cross_entropy_loss_multi(y_true, y_pred)\n",
    "print(f\"다중 클래스 분류 크로스 엔트로피 손실: {loss:.4f}\")\n"
   ]
  },
  {
   "cell_type": "markdown",
   "metadata": {},
   "source": [
    "### C"
   ]
  },
  {
   "cell_type": "code",
   "execution_count": null,
   "metadata": {},
   "outputs": [],
   "source": [
    "import numpy as np\n",
    "\n",
    "# 예제 데이터\n",
    "y_true = np.array([1, 0, 1])  # 실제 값 (0 또는 1)\n",
    "y_pred = np.array([0.9, 0.2, 0.8])  # 예측 확률 (0~1 사이)\n",
    "\n",
    "# 크로스 엔트로피 오차 계산\n",
    "def cross_entropy_loss_binary(y_true, y_pred):\n",
    "    # 로그를 계산하기 전에 아주 작은 값을 더해 로그 계산 오류 방지 (숫자 안정성)\n",
    "    epsilon = 1e-15\n",
    "    y_pred = np.clip(y_pred, epsilon, 1 - epsilon)\n",
    "    # 크로스 엔트로피 공식 적용\n",
    "    loss = -np.mean(y_true * np.log(y_pred) + (1 - y_true) * np.log(1 - y_pred))\n",
    "    return loss\n",
    "\n",
    "loss = cross_entropy_loss_binary(y_true, y_pred)\n",
    "print(f\"이진 분류 크로스 엔트로피 손실: {loss:.4f}\")"
   ]
  }
 ],
 "metadata": {
  "kernelspec": {
   "display_name": "Python 3 (ipykernel)",
   "language": "python",
   "name": "python3"
  },
  "language_info": {
   "codemirror_mode": {
    "name": "ipython",
    "version": 3
   },
   "file_extension": ".py",
   "mimetype": "text/x-python",
   "name": "python",
   "nbconvert_exporter": "python",
   "pygments_lexer": "ipython3",
   "version": "3.8.10"
  }
 },
 "nbformat": 4,
 "nbformat_minor": 4
}
