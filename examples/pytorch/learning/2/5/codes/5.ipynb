{
 "cells": [
  {
   "cell_type": "markdown",
   "metadata": {},
   "source": [
    "#### A"
   ]
  },
  {
   "cell_type": "code",
   "execution_count": null,
   "metadata": {},
   "outputs": [],
   "source": [
    "import numpy as np\n",
    "\n",
    "# Sigmoid 함수 정의\n",
    "def sigmoid(x):\n",
    "    \"\"\"\n",
    "    Sigmoid 활성화 함수\n",
    "    입력값을 0과 1 사이로 변환합니다.\n",
    "    \"\"\"\n",
    "    return _____ / (_____ + np.exp(_____))  # Sigmoid 공식을 완성하세요.\n",
    "\n",
    "# 입력 데이터 (예: 여러 값)\n",
    "inputs = np.array([-3.0, -1.0, 0.0, 1.0, 3.0])\n",
    "\n",
    "# Sigmoid 함수 적용\n",
    "outputs = sigmoid(_____)  # 빈칸을 채워 Sigmoid 함수를 적용하세요.\n",
    "\n",
    "# 결과 출력\n",
    "print(\"입력값:\", inputs)\n",
    "print(\"Sigmoid 출력값:\", outputs)\n"
   ]
  },
  {
   "cell_type": "markdown",
   "metadata": {},
   "source": [
    "### B"
   ]
  },
  {
   "cell_type": "code",
   "execution_count": null,
   "metadata": {},
   "outputs": [],
   "source": [
    "import numpy as np\n",
    "\n",
    "# ReLU 함수 정의\n",
    "def relu(x):\n",
    "    \"\"\"\n",
    "    ReLU 활성화 함수\n",
    "    입력값이 0보다 작으면 0을 반환하고, 0 이상이면 그대로 반환합니다.\n",
    "    \"\"\"\n",
    "    return np.maximum(0, x)\n",
    "\n",
    "# 입력 데이터 (예: 네 개의 값)\n",
    "inputs = np.array([-3.0, -1.0, 0.0, 1.0, 3.0])\n",
    "\n",
    "# ReLU 함수 적용\n",
    "outputs = relu(inputs)\n",
    "\n",
    "# 결과 출력\n",
    "print(\"입력값:\", inputs)\n",
    "print(\"ReLU 출력값:\", outputs)"
   ]
  },
  {
   "cell_type": "markdown",
   "metadata": {},
   "source": [
    "### C"
   ]
  },
  {
   "cell_type": "code",
   "execution_count": null,
   "metadata": {},
   "outputs": [],
   "source": [
    "import numpy as np\n",
    "\n",
    "# Softmax 함수 정의\n",
    "def softmax(x):\n",
    "    \"\"\"\n",
    "    Softmax 활성화 함수\n",
    "    입력값 배열을 확률 분포로 변환합니다.\n",
    "    \"\"\"\n",
    "    # 입력값의 지수 계산\n",
    "    exp_x = np.exp(x - np.max(x))  # 오버플로 방지를 위해 입력에서 최대값을 뺌\n",
    "    return exp_x / np.sum(exp_x)\n",
    "\n",
    "# 입력 데이터 (예: 네 클래스의 로짓 값)\n",
    "inputs = np.array([2.0, 1.0, 0.1])\n",
    "\n",
    "# Softmax 함수 적용\n",
    "outputs = softmax(inputs)\n",
    "\n",
    "# 결과 출력\n",
    "print(\"입력값:\", inputs)\n",
    "print(\"Softmax 출력값 (확률 분포):\", outputs)\n",
    "print(\"출력값의 합:\", np.sum(outputs))  # 확률의 총합은 항상 1"
   ]
  }
 ],
 "metadata": {
  "kernelspec": {
   "display_name": "Python 3 (ipykernel)",
   "language": "python",
   "name": "python3"
  },
  "language_info": {
   "codemirror_mode": {
    "name": "ipython",
    "version": 3
   },
   "file_extension": ".py",
   "mimetype": "text/x-python",
   "name": "python",
   "nbconvert_exporter": "python",
   "pygments_lexer": "ipython3",
   "version": "3.8.10"
  }
 },
 "nbformat": 4,
 "nbformat_minor": 4
}
