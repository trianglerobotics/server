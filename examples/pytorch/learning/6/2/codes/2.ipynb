{
 "cells": [
  {
   "cell_type": "markdown",
   "metadata": {},
   "source": [
    "#### A"
   ]
  },
  {
   "cell_type": "code",
   "execution_count": null,
   "metadata": {},
   "outputs": [],
   "source": [
    "import torch\n",
    "import torch.nn as nn\n",
    "import torch.nn.functional as F"
   ]
  },
  {
   "cell_type": "markdown",
   "metadata": {},
   "source": [
    "#### B"
   ]
  },
  {
   "cell_type": "code",
   "execution_count": null,
   "metadata": {},
   "outputs": [],
   "source": [
    "# 1채널 입력 데이터 (Batch=1, Channel=1, Height=5, Width=5)\n",
    "input_data = torch.tensor([[[[1, 2, 3, 0, 1],\n",
    "                              [0, 1, 2, 3, 0],\n",
    "                              [1, 2, 0, 1, 3],\n",
    "                              [2, 1, 3, 2, 1],\n",
    "                              [0, 3, 1, 2, 0]]]], dtype=torch.float32)\n",
    "print(\"Input Data:\")\n",
    "print(input_data)"
   ]
  },
  {
   "cell_type": "markdown",
   "metadata": {},
   "source": [
    "#### C"
   ]
  },
  {
   "cell_type": "code",
   "execution_count": null,
   "metadata": {},
   "outputs": [],
   "source": [
    "# 1채널 입력, 1채널 출력, 커널 크기 3x3, 패딩 없음\n",
    "conv = nn.Conv2d(in_channels=1, out_channels=1, kernel_size=3, stride=1, padding=0)\n",
    "\n",
    "# 가중치와 바이어스를 직접 설정 (예제용)\n",
    "conv.weight.data = torch.tensor([[[[1, 0, -1],\n",
    "                                    [1, 0, -1],\n",
    "                                    [1, 0, -1]]]])\n",
    "conv.bias.data = torch.tensor([0.0])"
   ]
  },
  {
   "cell_type": "markdown",
   "metadata": {},
   "source": [
    "#### D"
   ]
  },
  {
   "cell_type": "code",
   "execution_count": null,
   "metadata": {},
   "outputs": [],
   "source": [
    "conv_output = conv(input_data)\n",
    "print(\"Convolution Output:\")\n",
    "print(conv_output)"
   ]
  },
  {
   "cell_type": "markdown",
   "metadata": {},
   "source": [
    "#### E"
   ]
  },
  {
   "cell_type": "code",
   "execution_count": null,
   "metadata": {},
   "outputs": [],
   "source": [
    "relu_output = F.relu(conv_output)\n",
    "print(\"ReLU Output:\")"
   ]
  },
  {
   "cell_type": "markdown",
   "metadata": {},
   "source": [
    "#### F"
   ]
  },
  {
   "cell_type": "code",
   "execution_count": null,
   "metadata": {},
   "outputs": [],
   "source": [
    "# 평균 폴링 레이어 (커널 크기 2x2, 스트라이드 2)\n",
    "avg_pool = nn.AvgPool2d(kernel_size=2, stride=2)\n",
    "\n",
    "# 평균 폴링 연산 실행\n",
    "avg_pool_output = avg_pool(conv_output)\n",
    "print(\"Average Pooling Output:\")\n",
    "print(avg_pool_output)"
   ]
  },
  {
   "cell_type": "markdown",
   "metadata": {},
   "source": [
    "#### G"
   ]
  },
  {
   "cell_type": "code",
   "execution_count": null,
   "metadata": {},
   "outputs": [],
   "source": [
    "# 최대 폴링 레이어 (커널 크기 2x2, 스트라이드 2)\n",
    "max_pool = nn.MaxPool2d(kernel_size=2, stride=2)\n",
    "\n",
    "# 최대 폴링 연산 실행\n",
    "max_pool_output = max_pool(conv_output)\n",
    "print(\"Max Pooling Output:\")\n",
    "print(max_pool_output)"
   ]
  }
 ],
 "metadata": {
  "kernelspec": {
   "display_name": "Python 3 (ipykernel)",
   "language": "python",
   "name": "python3"
  },
  "language_info": {
   "codemirror_mode": {
    "name": "ipython",
    "version": 3
   },
   "file_extension": ".py",
   "mimetype": "text/x-python",
   "name": "python",
   "nbconvert_exporter": "python",
   "pygments_lexer": "ipython3",
   "version": "3.8.10"
  }
 },
 "nbformat": 4,
 "nbformat_minor": 4
}
