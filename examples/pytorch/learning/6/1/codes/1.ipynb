{
 "cells": [
  {
   "cell_type": "markdown",
   "metadata": {},
   "source": [
    "#### A"
   ]
  },
  {
   "cell_type": "code",
   "execution_count": null,
   "metadata": {},
   "outputs": [],
   "source": [
    "import torch\n",
    "from torch.utils.data import Dataset, DataLoader"
   ]
  },
  {
   "cell_type": "markdown",
   "metadata": {},
   "source": [
    "#### B"
   ]
  },
  {
   "cell_type": "code",
   "execution_count": null,
   "metadata": {},
   "outputs": [],
   "source": [
    "class CustomDataset(Dataset):\n",
    "  def __init__(self, data, labels):\n",
    "      # 데이터와 레이블 저장\n",
    "      self.data = data\n",
    "      self.labels = labels\n",
    "\n",
    "  def __len__(self):\n",
    "      # 데이터셋의 길이 반환\n",
    "      return len(self.data)\n",
    "\n",
    "  def __getitem__(self, idx):\n",
    "      # 인덱스를 통해 데이터와 레이블 반환\n",
    "      sample = self.data[idx]\n",
    "      label = self.labels[idx]\n",
    "      return sample, label"
   ]
  },
  {
   "cell_type": "markdown",
   "metadata": {},
   "source": [
    "#### C"
   ]
  },
  {
   "cell_type": "code",
   "execution_count": null,
   "metadata": {},
   "outputs": [],
   "source": [
    "# 샘플 데이터 (tensor 형태로 준비)\n",
    "data = torch.arange(100).view(-1, 1)  # 100개의 샘플\n",
    "labels = torch.arange(100)           # 레이블 (0부터 99까지)\n",
    "\n",
    "# 데이터셋 생성\n",
    "dataset = CustomDataset(data, labels)"
   ]
  },
  {
   "cell_type": "markdown",
   "metadata": {},
   "source": [
    "#### D"
   ]
  },
  {
   "cell_type": "code",
   "execution_count": null,
   "metadata": {},
   "outputs": [],
   "source": [
    "# DataLoader 생성\n",
    "dataloader = DataLoader(dataset, batch_size=10, shuffle=True)\n",
    "\n",
    "# 배치 단위로 데이터 확인\n",
    "for batch_idx, (samples, labels) in enumerate(dataloader):\n",
    "    print(f\"Batch {batch_idx + 1}\")\n",
    "    print(\"Samples:\", samples)\n",
    "    print(\"Labels:\", labels)"
   ]
  }
 ],
 "metadata": {
  "kernelspec": {
   "display_name": "Python 3 (ipykernel)",
   "language": "python",
   "name": "python3"
  },
  "language_info": {
   "codemirror_mode": {
    "name": "ipython",
    "version": 3
   },
   "file_extension": ".py",
   "mimetype": "text/x-python",
   "name": "python",
   "nbconvert_exporter": "python",
   "pygments_lexer": "ipython3",
   "version": "3.8.10"
  }
 },
 "nbformat": 4,
 "nbformat_minor": 4
}
