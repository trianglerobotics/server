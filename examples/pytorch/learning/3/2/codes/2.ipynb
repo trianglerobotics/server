{
 "cells": [
  {
   "cell_type": "markdown",
   "metadata": {},
   "source": [
    "#### A "
   ]
  },
  {
   "cell_type": "code",
   "execution_count": null,
   "metadata": {},
   "outputs": [],
   "source": [
    "# 주어진 값\n",
    "x1 = 0.1\n",
    "x2 = 0.2\n",
    "\n",
    "W1 = 0.3\n",
    "W2 = 0.25\n",
    "W3 = 0.4\n",
    "W4 = 0.35\n",
    "\n",
    "# 계산식\n",
    "z1 = W1 * x1 + W2 * x2  # z1 = 0.3 * 0.1 + 0.25 * 0.2\n",
    "z2 = W3 * x1 + W4 * x2  # z2 = 0.4 * 0.1 + 0.35 * 0.2\n",
    "\n",
    "# 결과 출력\n",
    "print(f\"z1 = {W1} * {x1} + {W2} * {x2} = {z1:.8f}\")\n",
    "print(f\"z2 = {W3} * {x1} + {W4} * {x2} = {z2:.8f}\")"
   ]
  },
  {
   "cell_type": "markdown",
   "metadata": {},
   "source": [
    "#### B"
   ]
  },
  {
   "cell_type": "code",
   "execution_count": null,
   "metadata": {},
   "outputs": [],
   "source": [
    "import math\n",
    "\n",
    "# Sigmoid 함수 정의\n",
    "def sigmoid(z):\n",
    "    return 1 / (1 + math.exp(-z))\n",
    "\n",
    "# 계산\n",
    "h1 = sigmoid(z1)  # h1 = sigmoid(z1)\n",
    "h2 = sigmoid(z2)  # h2 = sigmoid(z2)\n",
    "\n",
    "# 계산식 출력\n",
    "print(f\"h1 = sigmoid({z1}) = {h1:.8f}\")\n",
    "print(f\"h2 = sigmoid({z2}) = {h2:.8f}\")"
   ]
  },
  {
   "cell_type": "markdown",
   "metadata": {},
   "source": [
    "#### C"
   ]
  },
  {
   "cell_type": "code",
   "execution_count": null,
   "metadata": {},
   "outputs": [],
   "source": [
    "# 주어진 값\n",
    "W5 = 0.45\n",
    "W6 = 0.4\n",
    "W7 = 0.7\n",
    "W8 = 0.6\n",
    "\n",
    "# 계산\n",
    "z3 = W5 * h1 + W6 * h2  # z3 = 0.45 * h1 + 0.4 * h2\n",
    "z4 = W7 * h1 + W8 * h2  # z4 = 0.7 * h1 + 0.6 * h2\n",
    "\n",
    "# 출력\n",
    "print(f\"z3 = {W5} * {h1} + {W6} * {h2} = {z3:.8f}\")\n",
    "print(f\"z4 = {W7} * {h1} + {W8} * {h2} = {z4:.8f}\")"
   ]
  },
  {
   "cell_type": "markdown",
   "metadata": {},
   "source": [
    "#### D"
   ]
  },
  {
   "cell_type": "code",
   "execution_count": null,
   "metadata": {},
   "outputs": [],
   "source": [
    "import math\n",
    "\n",
    "# Sigmoid 함수 정의\n",
    "def sigmoid(z):\n",
    "    return 1 / (1 + math.exp(-z))\n",
    "\n",
    "# 계산\n",
    "o1 = sigmoid(z3)  # o1 = sigmoid(z3)\n",
    "o2 = sigmoid(z4)  # o2 = sigmoid(z4)\n",
    "\n",
    "# 출력\n",
    "print(f\"o1 = sigmoid({z3}) = {o1:.8f}\")\n",
    "print(f\"o2 = sigmoid({z4}) = {o2:.8f}\")"
   ]
  },
  {
   "cell_type": "markdown",
   "metadata": {},
   "source": [
    "#### E"
   ]
  },
  {
   "cell_type": "code",
   "execution_count": null,
   "metadata": {},
   "outputs": [],
   "source": [
    "# 주어진 값\n",
    "target_o1 = 0.4\n",
    "target_o2 = 0.6\n",
    "\n",
    "# 손실 함수 계산\n",
    "E_o1 = 0.5 * (target_o1 - o1) ** 2\n",
    "E_o2 = 0.5 * (target_o2 - o2) ** 2\n",
    "E_total = E_o1 + E_o2\n",
    "\n",
    "# 출력\n",
    "print(f\"E_o1 = 0.5 * ({target_o1} - {o1})^2 = {E_o1:.8f}\")\n",
    "print(f\"E_o2 = 0.5 * ({target_o2} - {o2})^2 = {E_o2:.8f}\")\n",
    "print(f\"E_total = E_o1 + E_o2 = {E_total:.8f}\")"
   ]
  }
 ],
 "metadata": {
  "kernelspec": {
   "display_name": "Python 3 (ipykernel)",
   "language": "python",
   "name": "python3"
  },
  "language_info": {
   "codemirror_mode": {
    "name": "ipython",
    "version": 3
   },
   "file_extension": ".py",
   "mimetype": "text/x-python",
   "name": "python",
   "nbconvert_exporter": "python",
   "pygments_lexer": "ipython3",
   "version": "3.8.10"
  }
 },
 "nbformat": 4,
 "nbformat_minor": 4
}
