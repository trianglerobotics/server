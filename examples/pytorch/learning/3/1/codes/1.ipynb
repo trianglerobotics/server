{
 "cells": [
  {
   "cell_type": "markdown",
   "metadata": {},
   "source": [
    "#### A"
   ]
  },
  {
   "cell_type": "code",
   "execution_count": 1,
   "metadata": {},
   "outputs": [],
   "source": [
    "import numpy as np\n",
    "x = np.array([1, 2, 3])\n",
    "y = np.array([2, 4, 6])"
   ]
  },
  {
   "cell_type": "markdown",
   "metadata": {},
   "source": [
    "### B"
   ]
  },
  {
   "cell_type": "code",
   "execution_count": 2,
   "metadata": {},
   "outputs": [],
   "source": [
    "w = 0.0  # 초기 기울기\n",
    "b = 0.0  # 초기 절편"
   ]
  },
  {
   "cell_type": "markdown",
   "metadata": {},
   "source": [
    "### C"
   ]
  },
  {
   "cell_type": "code",
   "execution_count": null,
   "metadata": {},
   "outputs": [],
   "source": [
    "learning_rate = 0.01  # 학습률\n",
    "epochs = 10000  # 반복 횟수\n",
    "n = len(x)  # 데이터 개수\n",
    "\n",
    "# 경사하강법\n",
    "for epoch in range(epochs):\n",
    "    # 예측 값\n",
    "    y_pred = w * x + b\n",
    "    \n",
    "    # 손실 함수의 기울기 계산\n",
    "    dw = -(2/n) * np.sum(x * (y - y_pred)) #손실함수를 w에 대하여 미분\n",
    "    db = -(2/n) * np.sum(y - y_pred) #손실함수를 b에 대하여 미분\n",
    "    \n",
    "    # 파라미터 업데이트\n",
    "    w = w - learning_rate * dw\n",
    "    b = b - learning_rate * db\n",
    "    \n",
    "    # 몇 에포크마다 손실 출력\n",
    "    if epoch % 1000 == 0:\n",
    "        loss = np.mean((y - y_pred) ** 2)\n",
    "        print(f\"Epoch {epoch}, Loss: {loss:.4f}, w: {w:.4f}, b: {b:.4f}\")\n",
    "\n",
    "# 결과 출력\n",
    "print(f\"\\n최종 기울기 (w): {w:.4f}\")\n",
    "print(f\"최종 절편 (b): {b:.4f}\")\n"
   ]
  }
 ],
 "metadata": {
  "kernelspec": {
   "display_name": "Python 3 (ipykernel)",
   "language": "python",
   "name": "python3"
  },
  "language_info": {
   "codemirror_mode": {
    "name": "ipython",
    "version": 3
   },
   "file_extension": ".py",
   "mimetype": "text/x-python",
   "name": "python",
   "nbconvert_exporter": "python",
   "pygments_lexer": "ipython3",
   "version": "3.8.10"
  }
 },
 "nbformat": 4,
 "nbformat_minor": 4
}
