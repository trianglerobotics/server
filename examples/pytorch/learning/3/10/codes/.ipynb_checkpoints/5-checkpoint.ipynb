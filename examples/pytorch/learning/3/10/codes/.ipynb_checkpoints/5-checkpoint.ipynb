{
 "cells": [
  {
   "cell_type": "markdown",
   "metadata": {},
   "source": [
    "#### A"
   ]
  },
  {
   "cell_type": "code",
   "execution_count": null,
   "metadata": {},
   "outputs": [],
   "source": [
    "# Define the target and output values for o1 and o2\n",
    "target_o1 = 0.4\n",
    "output_o1 = 0.60944600\n",
    "\n",
    "target_o2 = 0.6 \n",
    "output_o2 = 0.66384491\n",
    "\n",
    "# Compute the total error for o1\n",
    "E_total_o1 = 0.5 * (target_o1 - output_o1) ** 2\n",
    "E_total_o2 = 0.5 * (target_o2 - output_o2) ** 2\n",
    "\n",
    "# Total error\n",
    "E_total = E_total_o1 + E_total_o2\n",
    "\n",
    "# Compute the derivative of E_total with respect to o1\n",
    "dE_total_do1 = -(target_o1 - output_o1)\n",
    "\n",
    "# Print the results\n",
    "print(f\"Total Error (E_total): {E_total}\")\n",
    "print(f\"Derivative (dE_total/do1): {dE_total_do1}\")"
   ]
  },
  {
   "cell_type": "markdown",
   "metadata": {},
   "source": [
    "#### B"
   ]
  },
  {
   "cell_type": "code",
   "execution_count": null,
   "metadata": {},
   "outputs": [],
   "source": [
    "# Define the sigmoid function and its derivative\n",
    "def sigmoid(x):\n",
    "    return 1 / (1 + np.exp(-x))\n",
    "\n",
    "def sigmoid_derivative(output):\n",
    "    # Derivative of the sigmoid function: f(x) * (1 - f(x))\n",
    "    return output * (1 - output)\n",
    "\n",
    "# Compute the derivative of o1 with respect to z3\n",
    "do1_dz3 = sigmoid_derivative(output_o1)\n",
    "\n",
    "# Print the result\n",
    "print(f\"Derivative (do1/dz3): {do1_dz3}\")"
   ]
  },
  {
   "cell_type": "markdown",
   "metadata": {},
   "source": [
    "#### C"
   ]
  },
  {
   "cell_type": "code",
   "execution_count": null,
   "metadata": {},
   "outputs": [],
   "source": [
    "# Define the value of h1\n",
    "h1 = 0.51998934\n",
    "\n",
    "# The derivative of z3 with respect to W5 is equal to h1\n",
    "dz3_dW5 = h1\n",
    "\n",
    "# Print the result\n",
    "print(f\"Derivative (dz3/dW5): {dz3_dW5}\")"
   ]
  },
  {
   "cell_type": "markdown",
   "metadata": {},
   "source": [
    "#### D"
   ]
  },
  {
   "cell_type": "code",
   "execution_count": null,
   "metadata": {},
   "outputs": [],
   "source": [
    "# Define the given values\n",
    "target_o1 = 0.4\n",
    "output_o1 = 0.60944600\n",
    "o1 = output_o1  # Output of the sigmoid function\n",
    "W5 = 0.45  # Weight W5\n",
    "\n",
    "target_o2 = 0.6\n",
    "output_o2 = 0.66384491\n",
    "o2 = output_o2  # Output of the sigmoid function for o2\n",
    "W6 = 0.4  # Weight W6\n",
    "\n",
    "# Additional dependencies: Intermediate contributions of h1 to o2\n",
    "W_h1_to_z4 = 0.35  # Example weight from h1 to z4\n",
    "\n",
    "# Compute the first term: dE_o1/dh1\n",
    "dE_o1_do1 = -(target_o1 - output_o1)  # dE_o1 / do1\n",
    "do1_dz3 = o1 * (1 - o1)  # Sigmoid derivative: do1 / dz3\n",
    "dz3_dh1 = W5  # dz3 / dh1\n",
    "dE_o1_dh1 = dE_o1_do1 * do1_dz3 * dz3_dh1\n",
    "\n",
    "# Compute the second term: dE_o2/dh1\n",
    "dE_o2_do2 = -(target_o2 - output_o2)  # dE_o2 / do2\n",
    "do2_dz4 = o2 * (1 - o2)  # Sigmoid derivative: do2 / dz4\n",
    "dz4_dh1 = 2 * W_h1_to_z4  # Double the contribution from h1 to z4\n",
    "dE_o2_dh1 = dE_o2_do2 * do2_dz4 * dz4_dh1\n",
    "\n",
    "# Compute the total gradient dE_total/dh1\n",
    "dE_total_dh1 = dE_o1_dh1 + dE_o2_dh1\n",
    "\n",
    "# Print the results\n",
    "print(f\"Gradient (dE_o1/dh1): {dE_o1_dh1:.8f}\")\n",
    "print(f\"Gradient (dE_o2/dh1): {dE_o2_dh1:.8f}\")\n",
    "print(f\"Gradient (dE_total/dh1): {dE_total_dh1:.8f}\")"
   ]
  },
  {
   "cell_type": "markdown",
   "metadata": {},
   "source": [
    "#### E"
   ]
  },
  {
   "cell_type": "code",
   "execution_count": null,
   "metadata": {},
   "outputs": [],
   "source": [
    "# Define the value of h1\n",
    "h1 = 0.51998934\n",
    "\n",
    "# Compute the derivative of h1 with respect to z1\n",
    "dh1_dz1 = h1 * (1 - h1)\n",
    "\n",
    "# Print the result\n",
    "print(f\"Gradient (dh1/dz1): {dh1_dz1:.8f}\")"
   ]
  },
  {
   "cell_type": "markdown",
   "metadata": {},
   "source": [
    "#### F"
   ]
  },
  {
   "cell_type": "code",
   "execution_count": null,
   "metadata": {},
   "outputs": [],
   "source": [
    "# Define the value of x1\n",
    "x1 = 0.1\n",
    "\n",
    "# Compute the derivative of z1 with respect to W1\n",
    "dz1_dW1 = x1\n",
    "\n",
    "# Print the result\n",
    "print(f\"Gradient (dz1/dW1): {dz1_dW1:.1f}\")"
   ]
  }
 ],
 "metadata": {
  "kernelspec": {
   "display_name": "Python 3 (ipykernel)",
   "language": "python",
   "name": "python3"
  },
  "language_info": {
   "codemirror_mode": {
    "name": "ipython",
    "version": 3
   },
   "file_extension": ".py",
   "mimetype": "text/x-python",
   "name": "python",
   "nbconvert_exporter": "python",
   "pygments_lexer": "ipython3",
   "version": "3.8.10"
  }
 },
 "nbformat": 4,
 "nbformat_minor": 4
}
