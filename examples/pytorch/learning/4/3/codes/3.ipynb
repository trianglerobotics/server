{
 "cells": [
  {
   "cell_type": "markdown",
   "metadata": {},
   "source": [
    "#### A"
   ]
  },
  {
   "cell_type": "code",
   "execution_count": null,
   "metadata": {},
   "outputs": [],
   "source": [
    "import cv2\n",
    "import numpy as np\n",
    "import jajucha2\n",
    "\n",
    "image = cv2.imread(\"example.jpg\")\n",
    "print(image.shape)\n",
    "\n",
    "# 이미지를 그레이스케일로 변환\n",
    "gray_image = cv2.cvtColor(image, cv2.COLOR_BGR2GRAY)\n",
    "print(\"Grayscale Image Shape:\", gray_image.shape)\n",
    "\n",
    "# 3x3 커널 정의\n",
    "kernel = np.array([[1, 0, -1],\n",
    "                    [1, 0, -1],\n",
    "                    [1, 0, -1]])\n",
    "\n",
    "# 스트라이드 설정\n",
    "stride = 1  # 스트라이드 크기 (1 또는 2 이상으로 설정 가능)\n",
    "\n",
    "# 출력 이미지 크기 계산\n",
    "output_height = (gray_image.shape[0] - kernel.shape[0]) // stride + 1\n",
    "output_width = (gray_image.shape[1] - kernel.shape[1]) // stride + 1\n",
    "\n",
    "# 출력 이미지를 저장할 배열 초기화\n",
    "output = np.zeros((output_height, output_width))\n",
    "\n",
    "# Convolution 수행 (for문 사용, stride 적용)\n",
    "for i in range(0, output_height):\n",
    "    for j in range(0, output_width):\n",
    "        # 커널이 적용될 영역 계산 (stride 고려)\n",
    "        start_i, start_j = i * stride, j * stride\n",
    "        region = gray_image[start_i:start_i + kernel.shape[0], start_j:start_j + kernel.shape[1]]\n",
    "        \n",
    "        # 커널과 곱하고 합산\n",
    "        conv_value = np.sum(region * kernel)\n",
    "        \n",
    "        # 결과 저장\n",
    "        output[i, j] = conv_value\n",
    "\n",
    "# 결과 이미지를 uint8로 변환\n",
    "output = np.clip(output, 0, 255).astype(np.uint8)\n",
    "print(\"output Image Shape:\",output.shape)\n",
    "        "
   ]
  },
  {
   "cell_type": "markdown",
   "metadata": {},
   "source": [
    "### B"
   ]
  },
  {
   "cell_type": "code",
   "execution_count": null,
   "metadata": {},
   "outputs": [],
   "source": [
    "# 패딩 추가 (상하좌우에 동일한 크기로 추가)\n",
    "pad_size = 1  # 커널 크기의 절반 (예: 3x3 커널이면 1, 5x5 커널이면 2)\n",
    "padded_image = np.pad(gray_image, pad_width=pad_size, mode='constant', constant_values=0)\n",
    "\n",
    "# 패딩이 추가된 이미지 크기 출력\n",
    "print(\"Padded Image Shape:\", padded_image.shape)\n",
    "\n",
    "# 출력 이미지 크기 다시 계산 (패딩을 포함한 계산)\n",
    "output_height = (padded_image.shape[0] - kernel.shape[0]) // stride + 1\n",
    "output_width = (padded_image.shape[1] - kernel.shape[1]) // stride + 1\n",
    "\n",
    "# 출력 이미지를 저장할 배열 초기화\n",
    "output = np.zeros((output_height, output_width))\n",
    "\n",
    "# Convolution 수행 (패딩을 고려하여 stride 적용)\n",
    "for i in range(output_height):\n",
    "    for j in range(output_width):\n",
    "        # 커널이 적용될 영역 계산 (stride 고려)\n",
    "        start_i, start_j = i * stride, j * stride\n",
    "        region = padded_image[start_i:start_i + kernel.shape[0], start_j:start_j + kernel.shape[1]]\n",
    "        \n",
    "        # 커널과 곱하고 합산\n",
    "        conv_value = np.sum(region * kernel)\n",
    "        \n",
    "        # 결과 저장\n",
    "        output[i, j] = conv_value\n",
    "\n",
    "# 결과 이미지를 uint8로 변환\n",
    "output = np.clip(output, 0, 255).astype(np.uint8)\n",
    "\n",
    "# 결과 출력\n",
    "jajucha2.camera.show_image(output)\n",
    "print(\"Output Image Shape:\", output.shape)"
   ]
  }
 ],
 "metadata": {
  "kernelspec": {
   "display_name": "Python 3 (ipykernel)",
   "language": "python",
   "name": "python3"
  },
  "language_info": {
   "codemirror_mode": {
    "name": "ipython",
    "version": 3
   },
   "file_extension": ".py",
   "mimetype": "text/x-python",
   "name": "python",
   "nbconvert_exporter": "python",
   "pygments_lexer": "ipython3",
   "version": "3.8.10"
  }
 },
 "nbformat": 4,
 "nbformat_minor": 4
}
