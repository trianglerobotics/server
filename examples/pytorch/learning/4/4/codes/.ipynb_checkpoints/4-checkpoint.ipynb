{
 "cells": [
  {
   "cell_type": "code",
   "execution_count": null,
   "metadata": {},
   "outputs": [],
   "source": [
    "# 빈 리스트 line_up이 있어요\n",
    "line_up = []\n",
    "\n",
    "# 거북이, 홍학, 토끼 순으로 도착했어요. 차례로 추가해 보세요\n",
    "line_up.append('거북이')\n",
    "\n",
    "\n",
    "# 줄을 잘 세웠는지 line_up을 출력해 확인해요\n",
    "print(line_up)"
   ]
  }
 ],
 "metadata": {
  "kernelspec": {
   "display_name": "Python 3 (ipykernel)",
   "language": "python",
   "name": "python3"
  },
  "language_info": {
   "codemirror_mode": {
    "name": "ipython",
    "version": 3
   },
   "file_extension": ".py",
   "mimetype": "text/x-python",
   "name": "python",
   "nbconvert_exporter": "python",
   "pygments_lexer": "ipython3",
   "version": "3.8.10"
  }
 },
 "nbformat": 4,
 "nbformat_minor": 4
}
