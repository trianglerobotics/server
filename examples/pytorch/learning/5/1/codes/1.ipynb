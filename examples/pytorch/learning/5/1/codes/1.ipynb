{
 "cells": [
  {
   "cell_type": "markdown",
   "metadata": {},
   "source": [
    "### A"
   ]
  },
  {
   "cell_type": "code",
   "execution_count": null,
   "metadata": {},
   "outputs": [],
   "source": [
    "import torch"
   ]
  },
  {
   "cell_type": "markdown",
   "metadata": {},
   "source": [
    "### B"
   ]
  },
  {
   "cell_type": "code",
   "execution_count": null,
   "metadata": {},
   "outputs": [],
   "source": [
    "#1차원 텐서\n",
    "vector = torch.tensor([1, 2, 3, 4])\n",
    "print(\"Vector:\", vector)\n",
    "print(\"Shape:\", vector.shape)  # 출력: torch.Size([4])\n",
    "\n",
    "#2차원 텐서\n",
    "matrix = torch.tensor([[1, 2], [3, 4], [5, 6]])\n",
    "print(\"Matrix:\\n\", matrix)\n",
    "print(\"Shape:\", matrix.shape)  # 출력: torch.Size([3, 2])\n",
    "\n",
    "#3차원 텐서\n",
    "tensor_3d = torch.rand(3, 4, 5)  # 크기: (3, 4, 5)\n",
    "print(\"3D Tensor Shape:\", tensor_3d.shape)\n",
    "\n",
    "#4차원 텐서\n",
    "tensor_4d = torch.rand(10, 3, 64, 64)  # 크기: (배치 크기, 채널, 높이, 너비)\n",
    "print(\"4D Tensor Shape:\", tensor_4d.shape)\n",
    "\n",
    "#5차원 이상 텐서\n",
    "tensor_5d = torch.rand(16, 3, 10, 64, 64)  # 크기: (배치 크기, 채널, 시간/시퀀스 길이, 높이, 너비)\n",
    "print(\"5D Tensor Shape:\", tensor_5d.shape)"
   ]
  },
  {
   "cell_type": "markdown",
   "metadata": {},
   "source": [
    "### C"
   ]
  },
  {
   "cell_type": "code",
   "execution_count": null,
   "metadata": {},
   "outputs": [],
   "source": [
    "w = torch.tensor(2.0 , requires_grad = True)"
   ]
  },
  {
   "cell_type": "markdown",
   "metadata": {},
   "source": [
    "### D"
   ]
  },
  {
   "cell_type": "code",
   "execution_count": 3,
   "metadata": {},
   "outputs": [],
   "source": [
    "y = w**2\n",
    "z = 2*y+5"
   ]
  },
  {
   "cell_type": "markdown",
   "metadata": {},
   "source": [
    "### E"
   ]
  },
  {
   "cell_type": "code",
   "execution_count": 5,
   "metadata": {},
   "outputs": [],
   "source": [
    "z.backward()\n",
    "print('수식을 w로 미분한 값 :',w.grad)"
   ]
  }
 ],
 "metadata": {
  "kernelspec": {
   "display_name": "Python 3 (ipykernel)",
   "language": "python",
   "name": "python3"
  },
  "language_info": {
   "codemirror_mode": {
    "name": "ipython",
    "version": 3
   },
   "file_extension": ".py",
   "mimetype": "text/x-python",
   "name": "python",
   "nbconvert_exporter": "python",
   "pygments_lexer": "ipython3",
   "version": "3.8.10"
  }
 },
 "nbformat": 4,
 "nbformat_minor": 4
}
