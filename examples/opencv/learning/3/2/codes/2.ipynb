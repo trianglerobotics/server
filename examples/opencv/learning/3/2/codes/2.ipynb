{
 "cells": [
  {
   "cell_type": "markdown",
   "metadata": {},
   "source": [
    "### A"
   ]
  },
  {
   "cell_type": "code",
   "execution_count": 3,
   "metadata": {},
   "outputs": [],
   "source": [
    "import cv2\n",
    "import jajucha2\n",
    "\n",
    "# 이미지 읽기\n",
    "image = ______('example.jpg')  # 이미지 파일 읽기\n",
    "\n",
    "# 자를 범위 지정 (y, x 순서)\n",
    "x_start, x_end = 100, 400  # 가로 범위\n",
    "y_start, y_end = 50, 300   # 세로 범위\n",
    "\n",
    "# 이미지 자르기\n",
    "cropped_image = image[______:______, ______:______]\n",
    "\n",
    "# 결과 보기\n",
    "jajucha2.camera.show_image(image,'center')\n",
    "jajucha2.camera.show_image(cropped_image,'left')\n"
   ]
  }
 ],
 "metadata": {
  "kernelspec": {
   "display_name": "Python 3 (ipykernel)",
   "language": "python",
   "name": "python3"
  },
  "language_info": {
   "codemirror_mode": {
    "name": "ipython",
    "version": 3
   },
   "file_extension": ".py",
   "mimetype": "text/x-python",
   "name": "python",
   "nbconvert_exporter": "python",
   "pygments_lexer": "ipython3",
   "version": "3.8.10"
  }
 },
 "nbformat": 4,
 "nbformat_minor": 4
}
