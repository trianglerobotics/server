{
 "cells": [
  {
   "cell_type": "markdown",
   "metadata": {},
   "source": [
    "#### A"
   ]
  },
  {
   "cell_type": "code",
   "execution_count": null,
   "metadata": {},
   "outputs": [],
   "source": [
    "import cv2\n",
    "import jajucha2\n",
    "\n",
    "# 컬러로 이미지를 불러오기\n",
    "color_image = cv2.imread(\"example.png\", cv2.IMREAD_COLOR)\n",
    "\n",
    "# 컬러 이미지를 출력합니다.\n",
    "jajucha2.camera.show_image(color_image, \"center\")"
   ]
  },
  {
   "cell_type": "markdown",
   "metadata": {},
   "source": [
    "#### B"
   ]
  },
  {
   "cell_type": "code",
   "execution_count": null,
   "metadata": {},
   "outputs": [],
   "source": [
    "import cv2\n",
    "import jajucha2\n",
    "\n",
    "# 흑백으로 이미지를 불러오기\n",
    "grayscale_image = cv2.imread(\"example.png\", cv2.IMREAD_GRAYSCALE)\n",
    "\n",
    "\n",
    "# 흑백 이미지를 출력합니다.\n",
    "jajucha2.camera.show_image(grayscale_image, \"center\")"
   ]
  },
  {
   "cell_type": "markdown",
   "metadata": {},
   "source": [
    "#### C"
   ]
  },
  {
   "cell_type": "code",
   "execution_count": null,
   "metadata": {},
   "outputs": [],
   "source": [
    "import cv2\n",
    "import jajucha2\n",
    "\n",
    "# 알파 채널을 포함해서 이미지 불러오기\n",
    "unchanged_image = cv2.imread(\"example.png\", cv2.IMREAD_UNCHANGED)\n",
    "\n",
    "# 원본 이미지를 출력합니다.\n",
    "jajucha2.camera.show_image(unchanged_image, \"center\")"
   ]
  }
 ],
 "metadata": {
  "kernelspec": {
   "display_name": "Python 3 (ipykernel)",
   "language": "python",
   "name": "python3"
  },
  "language_info": {
   "codemirror_mode": {
    "name": "ipython",
    "version": 3
   },
   "file_extension": ".py",
   "mimetype": "text/x-python",
   "name": "python",
   "nbconvert_exporter": "python",
   "pygments_lexer": "ipython3",
   "version": "3.8.10"
  }
 },
 "nbformat": 4,
 "nbformat_minor": 4
}
