{
 "cells": [
  {
   "cell_type": "code",
   "execution_count": null,
   "metadata": {},
   "outputs": [],
   "source": [
    "# 홍학에게 맡길 금액을 변수 money에 입력받으세요\n",
    "money =\n",
    "\n",
    "# money를 int형으로 변환해서 다시 money에 넣어요\n",
    "money =\n",
    "\n",
    "# 일 년이 지났어요. money를 두 배 불려서 출력해 봐요\n",
    "print( * )"
   ]
  }
 ],
 "metadata": {
  "kernelspec": {
   "display_name": "Python 3 (ipykernel)",
   "language": "python",
   "name": "python3"
  },
  "language_info": {
   "codemirror_mode": {
    "name": "ipython",
    "version": 3
   },
   "file_extension": ".py",
   "mimetype": "text/x-python",
   "name": "python",
   "nbconvert_exporter": "python",
   "pygments_lexer": "ipython3",
   "version": "3.8.10"
  }
 },
 "nbformat": 4,
 "nbformat_minor": 4
}
