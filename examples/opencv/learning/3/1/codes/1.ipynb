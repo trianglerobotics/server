{
 "cells": [
  {
   "cell_type": "markdown",
   "metadata": {},
   "source": [
    "#### A"
   ]
  },
  {
   "cell_type": "code",
   "execution_count": null,
   "metadata": {},
   "outputs": [],
   "source": [
    "import cv2\n",
    "import jajucha2\n",
    "\n",
    "# 컬러로 이미지를 불러오기\n",
    "color_image = cv2.imread(\"example.png\", cv2.IMREAD_COLOR)\n",
    "\n",
    "# .shape를 이용해 채널 개수를 저장합니다.\n",
    "channel1 = color_image.shape[2]\n",
    "\n",
    "# 채널 개수를 확인합니다.\n",
    "print(f\"컬러 이미지 채널 개수: {channel1}개\")"
   ]
  },
  {
   "cell_type": "markdown",
   "metadata": {},
   "source": [
    "#### B"
   ]
  },
  {
   "cell_type": "code",
   "execution_count": null,
   "metadata": {},
   "outputs": [],
   "source": [
    "import cv2\n",
    "import jajucha2\n",
    "\n",
    "# 흑백으로 이미지를 불러오기\n",
    "grayscale_image = cv2.imread(\"example.png\", cv2.IMREAD_GRAYSCALE)\n",
    "\n",
    "print(\"이미지를 흑백으로 불러옵니다.\")"
   ]
  },
  {
   "cell_type": "markdown",
   "metadata": {},
   "source": [
    "#### C"
   ]
  },
  {
   "cell_type": "code",
   "execution_count": null,
   "metadata": {},
   "outputs": [],
   "source": [
    "import cv2\n",
    "import jajucha2\n",
    "\n",
    "# 알파 채널을 포함해서 이미지 불러오기\n",
    "unchanged_image = cv2.imread(\"example.png\", cv2.IMREAD_UNCHANGED)\n",
    "\n",
    "# .shape를 이용해 채널 개수를 저장합니다.\n",
    "channel3 = unchanged_image.shape[2]\n",
    "\n",
    "print(f\"원본 이미지 채널 개수: {channel3}개\")"
   ]
  }
 ],
 "metadata": {
  "kernelspec": {
   "display_name": "Python 3 (ipykernel)",
   "language": "python",
   "name": "python3"
  },
  "language_info": {
   "codemirror_mode": {
    "name": "ipython",
    "version": 3
   },
   "file_extension": ".py",
   "mimetype": "text/x-python",
   "name": "python",
   "nbconvert_exporter": "python",
   "pygments_lexer": "ipython3",
   "version": "3.8.10"
  }
 },
 "nbformat": 4,
 "nbformat_minor": 4
}
