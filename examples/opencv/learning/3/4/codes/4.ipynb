{
 "cells": [
  {
   "cell_type": "markdown",
   "metadata": {},
   "source": [
    "### A"
   ]
  },
  {
   "cell_type": "code",
   "execution_count": null,
   "metadata": {},
   "outputs": [],
   "source": [
    "import cv2\n",
    "import numpy as np\n",
    "import jajucha2\n",
    "\n",
    "# 빈 이미지 생성 (검정 배경)\n",
    "image = np.zeros((500, 500, 3), dtype=np.uint8)\n",
    "\n",
    "# 선 그리기\n",
    "cv2.____(image, (50, 50), (450, 50), (255, 0, 0), 5)\n",
    "\n",
    "# 사각형 그리기\n",
    "cv2.____(image, (50, 100), (200, 300), (0, 255, 0), 3)\n",
    "\n",
    "# 원 그리기\n",
    "cv2.____(image, (300, 200), 50, (0, 0, 255), -1)\n",
    "\n",
    "# 다각형 그리기\n",
    "points = np.array([[100, 400], [200, 350], [300, 400], [200, 450]], np.int32)\n",
    "cv2.____(image, [points], isClosed=True, color=(255, 0, 255), thickness=3)\n",
    "\n",
    "# 텍스트 추가\n",
    "cv2.____(image, \"OpenCV Drawing\", (50, 450), cv2.FONT_HERSHEY_SIMPLEX, 1, (255, 255, 255), 2)\n",
    "\n",
    "# 결과 보기\n",
    "jajucha2.camera.show_image(image)"
   ]
  }
 ],
 "metadata": {
  "kernelspec": {
   "display_name": "Python 3 (ipykernel)",
   "language": "python",
   "name": "python3"
  },
  "language_info": {
   "codemirror_mode": {
    "name": "ipython",
    "version": 3
   },
   "file_extension": ".py",
   "mimetype": "text/x-python",
   "name": "python",
   "nbconvert_exporter": "python",
   "pygments_lexer": "ipython3",
   "version": "3.8.10"
  }
 },
 "nbformat": 4,
 "nbformat_minor": 4
}
