{
 "cells": [
  {
   "cell_type": "markdown",
   "metadata": {},
   "source": [
    "#### A"
   ]
  },
  {
   "cell_type": "code",
   "execution_count": 1,
   "metadata": {},
   "outputs": [],
   "source": [
    "import cv2\n",
    "import jajucha2\n",
    "\n",
    "# 이미지를 불러옵니다.\n",
    "image = cv2.imread(\"example.png\")\n",
    "\n",
    "# ROI를 설정합니다.\n",
    "roi = image[:512, :512]\n",
    "\n",
    "# ROI를 출력합니다.\n",
    "jajucha2.camera.show_image(roi, \"center\")"
   ]
  },
  {
   "cell_type": "markdown",
   "metadata": {},
   "source": [
    "#### B"
   ]
  },
  {
   "cell_type": "code",
   "execution_count": null,
   "metadata": {},
   "outputs": [],
   "source": [
    "import cv2\n",
    "import jajucha2\n",
    "import numpy as np\n",
    "\n",
    "# 이미지를 불러옵니다.\n",
    "image = cv2.imread(\"example.png\")\n",
    "\n",
    "# 첫 번째 ROI를 설정합니다.\n",
    "roi1 = image[:512, :512]\n",
    "\n",
    "# 두 번째 ROI를 설정합니다.\n",
    "roi2 = image[512:, 512:]\n",
    "\n",
    "# ROI를 가로로 결합합니다.\n",
    "combined_roi = np.hstack((roi1, roi2))\n",
    "\n",
    "# 결과를 출력합니다.\n",
    "jajucha2.camera.show_image(combined_roi, \"center\")"
   ]
  }
 ],
 "metadata": {
  "kernelspec": {
   "display_name": "Python 3 (ipykernel)",
   "language": "python",
   "name": "python3"
  },
  "language_info": {
   "codemirror_mode": {
    "name": "ipython",
    "version": 3
   },
   "file_extension": ".py",
   "mimetype": "text/x-python",
   "name": "python",
   "nbconvert_exporter": "python",
   "pygments_lexer": "ipython3",
   "version": "3.8.10"
  }
 },
 "nbformat": 4,
 "nbformat_minor": 4
}
