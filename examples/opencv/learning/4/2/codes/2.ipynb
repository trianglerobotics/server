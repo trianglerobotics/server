{
 "cells": [
  {
   "cell_type": "markdown",
   "metadata": {},
   "source": [
    "### A"
   ]
  },
  {
   "cell_type": "code",
   "execution_count": 1,
   "metadata": {},
   "outputs": [],
   "source": [
    "import cv2\n",
    "import jajucha2\n",
    "\n",
    "# 이미지 읽기\n",
    "image = cv2._____('example.jpg', cv2.IMREAD_GRAYSCALE)\n",
    "\n",
    "# 가우시안 블러링 적용 (노이즈 제거)\n",
    "blurred = cv2._____(image, (5, 5), 1.4)\n",
    "\n",
    "# Canny Edge Detection\n",
    "edges = cv2.Canny(blurred, 50, 150)\n",
    "\n",
    "# 결과 보기\n",
    "jajucha2.camera.show_image(edges)"
   ]
  },
  {
   "cell_type": "markdown",
   "metadata": {},
   "source": [
    "### B"
   ]
  },
  {
   "cell_type": "code",
   "execution_count": 1,
   "metadata": {},
   "outputs": [],
   "source": [
    "import cv2\n",
    "import numpy as np\n",
    "import jajucha2\n",
    "\n",
    "# 이미지 읽기\n",
    "image = cv2._____('example.jpg', cv2.IMREAD_GRAYSCALE)\n",
    "\n",
    "# Sobel X (수평 엣지)\n",
    "sobel_x = cv2._____(image, cv2.CV_64F, 1, 0, ksize=3)\n",
    "sobel_x = np.uint8(np.absolute(sobel_x))\n",
    "\n",
    "# Sobel Y (수직 엣지)\n",
    "sobel_y = cv2._____(image, cv2.CV_64F, 0, 1, ksize=3)\n",
    "sobel_y = np.uint8(np.absolute(sobel_y))\n",
    "\n",
    "# Sobel Combined\n",
    "sobel_combined = cv2.bitwise_or(sobel_x, sobel_y)\n",
    "\n",
    "# 결과 보기\n",
    "jajucha2.camera.show_image(image)\n",
    "jajucha2.camera.show_image(sobel_x,'left')\n",
    "jajucha2.camera.show_image(sobel_y,'right')\n",
    "jajucha2.camera.show_image(sobel_combined,'depth')"
   ]
  },
  {
   "cell_type": "markdown",
   "metadata": {},
   "source": [
    "### C"
   ]
  },
  {
   "cell_type": "code",
   "execution_count": null,
   "metadata": {},
   "outputs": [],
   "source": [
    "import cv2\n",
    "import numpy as np\n",
    "import jajucha2\n",
    "\n",
    "# 이미지 읽기\n",
    "image = cv2.imread('example.jpg', cv2.IMREAD_GRAYSCALE)\n",
    "\n",
    "# Laplacian Edge Detection\n",
    "laplacian = cv2._____(image, cv2.CV_64F)\n",
    "laplacian = np.uint8(np.absolute(laplacian))\n",
    "\n",
    "# 결과 보기\n",
    "jajucha2.camera.show_image(image)\n",
    "jajucha2.camera.show_image(laplacian,'left')"
   ]
  }
 ],
 "metadata": {
  "kernelspec": {
   "display_name": "Python 3 (ipykernel)",
   "language": "python",
   "name": "python3"
  },
  "language_info": {
   "codemirror_mode": {
    "name": "ipython",
    "version": 3
   },
   "file_extension": ".py",
   "mimetype": "text/x-python",
   "name": "python",
   "nbconvert_exporter": "python",
   "pygments_lexer": "ipython3",
   "version": "3.8.10"
  }
 },
 "nbformat": 4,
 "nbformat_minor": 4
}
