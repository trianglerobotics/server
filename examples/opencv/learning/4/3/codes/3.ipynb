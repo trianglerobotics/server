{
 "cells": [
  {
   "cell_type": "markdown",
   "metadata": {},
   "source": [
    "### A"
   ]
  },
  {
   "cell_type": "code",
   "execution_count": 1,
   "metadata": {},
   "outputs": [],
   "source": [
    "import cv2\n",
    "import jajucha2\n",
    "\n",
    "# 이미지 읽기 (Grayscale로 변환)\n",
    "image = cv2.imread('example.jpg', cv2.IMREAD_GRAYSCALE)\n",
    "\n",
    "# 이진화 적용\n",
    "_, binary = cv2._____(image, 127, 255, cv2.THRESH_BINARY)\n",
    "_, binary_inv = cv2._____(image, 127, 255, cv2.THRESH_BINARY_INV)\n",
    "\n",
    "# 결과 보기\n",
    "\n",
    "jajucha2.camera.show_image(image)\n",
    "jajucha2.camera.show_image(binary,'left')\n",
    "jajucha2.camera.show_image(binary_inv,'right')"
   ]
  },
  {
   "cell_type": "markdown",
   "metadata": {},
   "source": [
    "### B"
   ]
  },
  {
   "cell_type": "code",
   "execution_count": null,
   "metadata": {},
   "outputs": [],
   "source": [
    "import cv2\n",
    "import jajucha2\n",
    "# 이미지 읽기 (Grayscale로 변환)\n",
    "image = cv2.imread('example.jpg', cv2.IMREAD_GRAYSCALE)\n",
    "\n",
    "# Adaptive Thresholding\n",
    "adaptive_mean = cv2._____(image, 255, cv2.ADAPTIVE_THRESH_MEAN_C,\n",
    "                                      cv2.THRESH_BINARY, 11, 2)\n",
    "adaptive_gaussian = cv2._____(image, 255, cv2.ADAPTIVE_THRESH_GAUSSIAN_C,\n",
    "                                          cv2.THRESH_BINARY, 11, 2)\n",
    "\n",
    "jajucha2.camera.show_image(image)\n",
    "jajucha2.camera.show_image(adaptive_mean,'left')\n",
    "jajucha2.camera.show_image(adaptive_gaussian,'right')"
   ]
  }
 ],
 "metadata": {
  "kernelspec": {
   "display_name": "Python 3 (ipykernel)",
   "language": "python",
   "name": "python3"
  },
  "language_info": {
   "codemirror_mode": {
    "name": "ipython",
    "version": 3
   },
   "file_extension": ".py",
   "mimetype": "text/x-python",
   "name": "python",
   "nbconvert_exporter": "python",
   "pygments_lexer": "ipython3",
   "version": "3.8.10"
  }
 },
 "nbformat": 4,
 "nbformat_minor": 4
}
