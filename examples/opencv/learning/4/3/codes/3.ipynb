{
 "cells": [
  {
   "cell_type": "markdown",
   "metadata": {},
   "source": [
    "#### A"
   ]
  },
  {
   "cell_type": "code",
   "execution_count": null,
   "metadata": {},
   "outputs": [],
   "source": [
    "import cv2\n",
    "import jajucha2\n",
    "\n",
    "# BGR 이미지를 불러옵니다.\n",
    "image_bgr = cv2.imread(\"example.png\")\n",
    "\n",
    "# BGR 이미지를 Grayscale로 변환합니다.\n",
    "image_gray = cv2.cvtColor(image_bgr, cv2.COLOR_BGR2GRAY)\n",
    "\n",
    "# 결과를 출력합니다.\n",
    "jajucha2.camera.show_image(image_gray, \"center\")"
   ]
  },
  {
   "cell_type": "markdown",
   "metadata": {},
   "source": [
    "#### B"
   ]
  },
  {
   "cell_type": "code",
   "execution_count": null,
   "metadata": {},
   "outputs": [],
   "source": [
    "import cv2\n",
    "import jajucha2\n",
    "\n",
    "# BGR 이미지를 불러옵니다.\n",
    "image_bgr = cv2.imread(\"example.png\")\n",
    "\n",
    "# BGR 이미지를 HSV로 변환합니다.\n",
    "image_HSV = cv2.cvtColor(image_bgr, cv2.COLOR_BGR2HSV)\n",
    "\n",
    "# 결과를 출력합니다.\n",
    "jajucha2.camera.show_image(image_HSV, \"center\")"
   ]
  }
 ],
 "metadata": {
  "kernelspec": {
   "display_name": "Python 3 (ipykernel)",
   "language": "python",
   "name": "python3"
  },
  "language_info": {
   "codemirror_mode": {
    "name": "ipython",
    "version": 3
   },
   "file_extension": ".py",
   "mimetype": "text/x-python",
   "name": "python",
   "nbconvert_exporter": "python",
   "pygments_lexer": "ipython3",
   "version": "3.8.10"
  }
 },
 "nbformat": 4,
 "nbformat_minor": 4
}
