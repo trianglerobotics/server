{
 "cells": [
  {
   "cell_type": "markdown",
   "metadata": {},
   "source": [
    "#### A"
   ]
  },
  {
   "cell_type": "code",
   "execution_count": null,
   "metadata": {},
   "outputs": [],
   "source": [
    "import cv2\n",
    "import jajucha2\n",
    "\n",
    "# 이미지를 불러옵니다.\n",
    "image = cv2.imread(\"example.png\")\n",
    "\n",
    "# 두께 10의 빨간색 직선을 삽입합니다.\n",
    "cv2.line(image, (1024, 1024), (0, 0), (0, 0, 255), thickness=10)\n",
    "\n",
    "# 결과를 출력합니다.\n",
    "jajucha2.camera.show_image(image, \"center\")"
   ]
  },
  {
   "cell_type": "markdown",
   "metadata": {},
   "source": [
    "#### B"
   ]
  },
  {
   "cell_type": "code",
   "execution_count": null,
   "metadata": {},
   "outputs": [],
   "source": [
    "import cv2\n",
    "import jajucha2\n",
    "\n",
    "# 이미지를 불러옵니다.\n",
    "image = cv2.imread(\"example.png\")\n",
    "\n",
    "# 사각형을 삽입합니다.\n",
    "cv2.rectangle(image, (0, 512), (512, 1024), (0, 255, 0), thickness=-1)\n",
    "\n",
    "# 결과를 출력합니다.\n",
    "jajucha2.camera.show_image(image, \"center\")"
   ]
  },
  {
   "cell_type": "markdown",
   "metadata": {},
   "source": [
    "####  C"
   ]
  },
  {
   "cell_type": "code",
   "execution_count": null,
   "metadata": {},
   "outputs": [],
   "source": [
    "import cv2\n",
    "import jajucha2\n",
    "\n",
    "# 이미지를 불러옵니다.\n",
    "image = cv2.imread(\"example.png\")\n",
    "\n",
    "# 원을 삽입합니다.\n",
    "cv2.circle(image, (768, 768), 256, (255, 0, 0), thickness=4)\n",
    "\n",
    "# 결과를 출력합니다.\n",
    "jajucha2.camera.show_image(image, \"center\")"
   ]
  },
  {
   "cell_type": "markdown",
   "metadata": {},
   "source": [
    "#### D"
   ]
  },
  {
   "cell_type": "code",
   "execution_count": null,
   "metadata": {},
   "outputs": [],
   "source": [
    "import cv2\n",
    "import jajucha2\n",
    "\n",
    "# 이미지를 불러옵니다.\n",
    "image = cv2.imread(\"example.png\")\n",
    "\n",
    "# 텍스트를 삽입합니다.\n",
    "cv2.putText(image, \"Hellow, jajucha!\", (100, 100), cv2.FONT_HERSHEY_SIMPLEX, 3, (0, 0, 0), thickness=3)\n",
    "\n",
    "# 결과를 출력합니다.\n",
    "jajucha2.camera.show_image(image, \"center\")"
   ]
  }
 ],
 "metadata": {
  "kernelspec": {
   "display_name": "Python 3 (ipykernel)",
   "language": "python",
   "name": "python3"
  },
  "language_info": {
   "codemirror_mode": {
    "name": "ipython",
    "version": 3
   },
   "file_extension": ".py",
   "mimetype": "text/x-python",
   "name": "python",
   "nbconvert_exporter": "python",
   "pygments_lexer": "ipython3",
   "version": "3.8.10"
  }
 },
 "nbformat": 4,
 "nbformat_minor": 4
}
