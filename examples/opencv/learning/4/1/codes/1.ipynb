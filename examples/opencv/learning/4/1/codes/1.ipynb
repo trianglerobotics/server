{
 "cells": [
  {
   "cell_type": "markdown",
   "metadata": {},
   "source": [
    "#### A"
   ]
  },
  {
   "cell_type": "code",
   "execution_count": null,
   "metadata": {},
   "outputs": [],
   "source": [
    "import cv2\n",
    "import jajucha2\n",
    "\n",
    "# 이미지를 불러옵니다.\n",
    "image = cv2.imread(\"example.png\")\n",
    "\n",
    "# 고정 크기로 조정합니다.\n",
    "resized_fixed = cv2.resize(image, (300, 300))\n",
    "\n",
    "# 수정된 이미지를 출력합니다.\n",
    "jajucha2.camera.show_image(resized_fixed, \"center\")"
   ]
  },
  {
   "cell_type": "markdown",
   "metadata": {},
   "source": [
    "#### B"
   ]
  },
  {
   "cell_type": "code",
   "execution_count": null,
   "metadata": {},
   "outputs": [],
   "source": [
    "import cv2\n",
    "import jajucha2\n",
    "\n",
    "# 이미지를 불러옵니다.\n",
    "image = cv2.imread(\"example.png\")\n",
    "\n",
    "# 비율로 조정합니다. (50% 축소)\n",
    "resized_scaled = cv2.resize(image, None, fx=0.5, fy=0.5, interpolation=cv2.INTER_AREA)\n",
    "\n",
    "# 수정된 이미지를 출력합니다.\n",
    "jajucha2.camera.show_image(resized_scaled, \"center\")"
   ]
  }
 ],
 "metadata": {
  "kernelspec": {
   "display_name": "Python 3 (ipykernel)",
   "language": "python",
   "name": "python3"
  },
  "language_info": {
   "codemirror_mode": {
    "name": "ipython",
    "version": 3
   },
   "file_extension": ".py",
   "mimetype": "text/x-python",
   "name": "python",
   "nbconvert_exporter": "python",
   "pygments_lexer": "ipython3",
   "version": "3.8.10"
  }
 },
 "nbformat": 4,
 "nbformat_minor": 4
}
