{
 "cells": [
  {
   "cell_type": "markdown",
   "metadata": {},
   "source": [
    "### A"
   ]
  },
  {
   "cell_type": "code",
   "execution_count": null,
   "metadata": {},
   "outputs": [],
   "source": [
    "import cv2\n",
    "import jajucha2\n",
    "image = cv2.imread('example.jpg')\n",
    "\n",
    "# 평균 블러링\n",
    "blurred_image = cv2.blur(image, (5, 5))\n",
    "\n",
    "jajucha2.camera.show_image(blurred_image)"
   ]
  },
  {
   "cell_type": "markdown",
   "metadata": {},
   "source": [
    "### B"
   ]
  },
  {
   "cell_type": "code",
   "execution_count": null,
   "metadata": {},
   "outputs": [],
   "source": [
    "import cv2\n",
    "import jajucha2\n",
    "\n",
    "image = cv2.imread('example.jpg')\n",
    "\n",
    "# 가우시안 블러링\n",
    "gaussian_blurred = cv2.GaussianBlur(image, (5, 5), 0)\n",
    "\n",
    "jajucha2.camera.show_image(gaussian_blurred)"
   ]
  },
  {
   "cell_type": "markdown",
   "metadata": {},
   "source": [
    "### C"
   ]
  },
  {
   "cell_type": "code",
   "execution_count": 2,
   "metadata": {},
   "outputs": [],
   "source": [
    "import cv2\n",
    "import jajucha2\n",
    "\n",
    "image = cv2.imread('example.jpg')\n",
    "\n",
    "# 미디언 블러링\n",
    "median_blurred = cv2.medianBlur(image, 5)\n",
    "\n",
    "jajucha2.camera.show_image(median_blurred)"
   ]
  }
 ],
 "metadata": {
  "kernelspec": {
   "display_name": "Python 3 (ipykernel)",
   "language": "python",
   "name": "python3"
  },
  "language_info": {
   "codemirror_mode": {
    "name": "ipython",
    "version": 3
   },
   "file_extension": ".py",
   "mimetype": "text/x-python",
   "name": "python",
   "nbconvert_exporter": "python",
   "pygments_lexer": "ipython3",
   "version": "3.8.10"
  }
 },
 "nbformat": 4,
 "nbformat_minor": 4
}
