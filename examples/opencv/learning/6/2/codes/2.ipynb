{
 "cells": [
  {
   "cell_type": "markdown",
   "metadata": {},
   "source": [
    "#### A"
   ]
  },
  {
   "cell_type": "code",
   "execution_count": null,
   "metadata": {},
   "outputs": [],
   "source": [
    "import cv2\n",
    "import numpy as np\n",
    "import jajucha2\n",
    "\n",
    "# 흑백으로 이미지를 불러옵니다.\n",
    "image = cv2.imread(\"example.png\", cv2.IMREAD_GRAYSCALE)\n",
    "\n",
    "# X축 방향의 밝기 변화도를 계산합니다.\n",
    "sobel_x = cv2.Sobel(image, cv2.CV_64F, 1, 0, ksize=3)\n",
    "\n",
    "# Y축 방향의 밝기 변화도를 계산합니다.\n",
    "sobel_y = cv2.Sobel(image, cv2.CV_64F, 0, 1, ksize=3)\n",
    "\n",
    "# 전체 이미지의 밝기 변화도를 계산합니다.\n",
    "sobel_magnitude = cv2.magnitude(sobel_x, sobel_y)\n",
    "\n",
    "# 결과를 출력합니다.\n",
    "jajucha2.camera.show_image(sobel_magnitude , \"center\")"
   ]
  }
 ],
 "metadata": {
  "kernelspec": {
   "display_name": "Python 3 (ipykernel)",
   "language": "python",
   "name": "python3"
  },
  "language_info": {
   "codemirror_mode": {
    "name": "ipython",
    "version": 3
   },
   "file_extension": ".py",
   "mimetype": "text/x-python",
   "name": "python",
   "nbconvert_exporter": "python",
   "pygments_lexer": "ipython3",
   "version": "3.8.10"
  }
 },
 "nbformat": 4,
 "nbformat_minor": 4
}
