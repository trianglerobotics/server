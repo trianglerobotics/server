{
 "cells": [
  {
   "cell_type": "markdown",
   "metadata": {},
   "source": [
    "### A"
   ]
  },
  {
   "cell_type": "code",
   "execution_count": null,
   "metadata": {},
   "outputs": [],
   "source": [
    "import cv2\n",
    "\n",
    "# 이미지 읽기\n",
    "image = cv2.imread('example.jpg')  # 컬러 이미지 로드\n",
    "\n",
    "# 특정 픽셀의 BGR 값 가져오기\n",
    "x, y = 100, 50  # (x, y) 위치\n",
    "(b, g, r) = image[y, x]  # OpenCV는 (y, x) 순서로 접근\n",
    "print(f\"픽셀 값 (B, G, R): {b}, {g}, {r}\")"
   ]
  },
  {
   "cell_type": "markdown",
   "metadata": {},
   "source": [
    "### B"
   ]
  },
  {
   "cell_type": "code",
   "execution_count": null,
   "metadata": {},
   "outputs": [],
   "source": [
    "import cv2\n",
    "\n",
    "# 이미지 읽기 (컬러 이미지 로드)\n",
    "image = cv2.imread('example.jpg')\n",
    "\n",
    "# Grayscale로 변환\n",
    "gray_image = cv2.cvtColor(image, cv2.COLOR_BGR2GRAY)\n",
    "\n",
    "# 특정 픽셀의 Grayscale 값 가져오기\n",
    "x, y = 100, 50  # (x, y) 위치\n",
    "gray_value = gray_image[y, x]  # Grayscale 이미지는 단일 채널이므로 하나의 값만 반환\n",
    "print(f\"픽셀의 Grayscale 값: {gray_value}\")"
   ]
  }
 ],
 "metadata": {
  "kernelspec": {
   "display_name": "Python 3 (ipykernel)",
   "language": "python",
   "name": "python3"
  },
  "language_info": {
   "codemirror_mode": {
    "name": "ipython",
    "version": 3
   },
   "file_extension": ".py",
   "mimetype": "text/x-python",
   "name": "python",
   "nbconvert_exporter": "python",
   "pygments_lexer": "ipython3",
   "version": "3.8.10"
  }
 },
 "nbformat": 4,
 "nbformat_minor": 4
}
