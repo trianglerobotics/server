{
 "cells": [
  {
   "cell_type": "code",
   "execution_count": null,
   "metadata": {},
   "outputs": [],
   "source": [
    "# stat1이 True가 되도록 소괄호 대신에 명제를 입력해요\n",
    "stat1 = 2 < 4 and ()\n",
    "\n",
    "# stat2가 False가 되도록 소괄호 대신에 명제를 입력해요\n",
    "stat2 = 4 >= 6 or ()\n",
    "\n",
    "# 두 변수를 출력해서 True, False를 확인해 봐요\n",
    "print(stat1, stat2)"
   ]
  }
 ],
 "metadata": {
  "kernelspec": {
   "display_name": "Python 3 (ipykernel)",
   "language": "python",
   "name": "python3"
  },
  "language_info": {
   "codemirror_mode": {
    "name": "ipython",
    "version": 3
   },
   "file_extension": ".py",
   "mimetype": "text/x-python",
   "name": "python",
   "nbconvert_exporter": "python",
   "pygments_lexer": "ipython3",
   "version": "3.8.10"
  }
 },
 "nbformat": 4,
 "nbformat_minor": 4
}
