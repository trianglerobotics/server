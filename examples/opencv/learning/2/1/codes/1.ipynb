{
 "cells": [
  {
   "cell_type": "markdown",
   "metadata": {},
   "source": [
    "#### A"
   ]
  },
  {
   "cell_type": "code",
   "execution_count": null,
   "metadata": {},
   "outputs": [],
   "source": [
    "import cv2\n",
    "\n",
    "image = cv2.imread(\"example.png\")\n",
    "#이미지를 불러옵니다.\n",
    "\n",
    "pixel_value = image[50, 50]\n",
    "#픽셀 값을 확인할 픽셀 좌표를 설정합니다. OpenCV는 y, x 순서로 좌표를 인지합니다.\n",
    "\n",
    "print(pixel_value)\n",
    "#픽셀 값을 확인합니다.\n"
   ]
  }
 ],
 "metadata": {
  "kernelspec": {
   "display_name": "Python 3 (ipykernel)",
   "language": "python",
   "name": "python3"
  },
  "language_info": {
   "codemirror_mode": {
    "name": "ipython",
    "version": 3
   },
   "file_extension": ".py",
   "mimetype": "text/x-python",
   "name": "python",
   "nbconvert_exporter": "python",
   "pygments_lexer": "ipython3",
   "version": "3.8.10"
  }
 },
 "nbformat": 4,
 "nbformat_minor": 4
}
