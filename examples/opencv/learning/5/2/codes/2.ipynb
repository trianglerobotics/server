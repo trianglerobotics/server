{
 "cells": [
  {
   "cell_type": "markdown",
   "metadata": {},
   "source": [
    "### A"
   ]
  },
  {
   "cell_type": "code",
   "execution_count": 6,
   "metadata": {},
   "outputs": [],
   "source": [
    "import cv2\n",
    "import numpy as np\n",
    "import jajucha2\n",
    "\n",
    "# 이미지 읽기\n",
    "image = cv2._____('example.jpg')\n",
    "gray = cv2.cvtColor(image, cv2.COLOR_BGR2GRAY)\n",
    "\n",
    "# 가우시안 블러링 (노이즈 제거)\n",
    "blurred = cv2._____(gray, (9, 9), 2)\n",
    "\n",
    "# 허프 원 변환 적용\n",
    "circles = cv2._____(\n",
    "    blurred,\n",
    "    cv2.HOUGH_GRADIENT,\n",
    "    dp=1,\n",
    "    minDist=20,\n",
    "    param1=50,\n",
    "    param2=70,\n",
    "    minRadius=0,\n",
    "    maxRadius=0\n",
    ")\n",
    "\n",
    "# 원이 검출되었는지 확인\n",
    "if circles is not None:\n",
    "    # 원 좌표와 반지름을 정수로 변환\n",
    "    circles = np.uint16(np.around(circles))\n",
    "\n",
    "    for circle in circles[0, :]:\n",
    "        x, y, r = circle\n",
    "        # 원 그리기\n",
    "        cv2.circle(image, (x, y), r, (0, 255, 0), 2)\n",
    "        # 중심점 그리기\n",
    "        cv2.circle(image, (x, y), 2, (0, 0, 255), 3)\n",
    "\n",
    "# 결과 보기\n",
    "jajucha2.camera.show_image(image)\n"
   ]
  }
 ],
 "metadata": {
  "kernelspec": {
   "display_name": "Python 3 (ipykernel)",
   "language": "python",
   "name": "python3"
  },
  "language_info": {
   "codemirror_mode": {
    "name": "ipython",
    "version": 3
   },
   "file_extension": ".py",
   "mimetype": "text/x-python",
   "name": "python",
   "nbconvert_exporter": "python",
   "pygments_lexer": "ipython3",
   "version": "3.8.10"
  }
 },
 "nbformat": 4,
 "nbformat_minor": 4
}
