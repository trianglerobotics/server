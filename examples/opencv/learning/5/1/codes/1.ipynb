{
 "cells": [
  {
   "cell_type": "markdown",
   "metadata": {},
   "source": [
    "### A"
   ]
  },
  {
   "cell_type": "code",
   "execution_count": 1,
   "metadata": {},
   "outputs": [],
   "source": [
    "import cv2\n",
    "import jajucha2\n",
    "# 이미지 읽기 및 Grayscale 변환\n",
    "image = cv2.imread('example.jpg')\n",
    "gray = cv2.cvtColor(image, cv2.COLOR_BGR2GRAY)\n",
    "\n",
    "# 이진화 처리\n",
    "_, binary = cv2.threshold(gray, 127, 255, cv2.THRESH_BINARY)\n",
    "\n",
    "# 윤곽선 검출\n",
    "contours, hierarchy = cv2._____(binary, cv2.RETR_EXTERNAL, cv2.CHAIN_APPROX_SIMPLE)\n",
    "\n",
    "# 윤곽선 그리기\n",
    "result = image.copy()\n",
    "cv2._____(result, contours, -1, (0, 255, 0), 2)\n",
    "\n",
    "# 결과 보기\n",
    "jajucha2.camera.show_image(result)"
   ]
  },
  {
   "cell_type": "markdown",
   "metadata": {},
   "source": [
    "### B"
   ]
  },
  {
   "cell_type": "code",
   "execution_count": 2,
   "metadata": {},
   "outputs": [],
   "source": [
    "import cv2\n",
    "import jajucha2\n",
    "\n",
    "# 이미지 읽기\n",
    "image = cv2.imread('example.jpg')\n",
    "gray = cv2.cvtColor(image, cv2.COLOR_BGR2GRAY)\n",
    "\n",
    "# 이진화\n",
    "_, binary = cv2.threshold(gray, 127, 255, cv2.THRESH_BINARY)\n",
    "\n",
    "# 윤곽선 검출\n",
    "contours, hierarchy = cv2._____(binary, cv2.RETR_TREE, cv2.CHAIN_APPROX_SIMPLE)\n",
    "\n",
    "# 결과 이미지 복사\n",
    "result = image.copy()\n",
    "\n",
    "# 윤곽선 및 바운딩 박스 그리기\n",
    "for contour in contours:\n",
    "    # 윤곽선 그리기\n",
    "    cv2._____(result, [contour], -1, (0, 255, 0), 2)\n",
    "    \n",
    "    # 바운딩 박스\n",
    "    x, y, w, h = cv2.boundingRect(contour)\n",
    "    cv2.rectangle(result, (x, y), (x + w, y + h), (255, 0, 0), 2)\n",
    "\n",
    "# 결과 보기\n",
    "jajucha2.camera.show_image(image)\n",
    "jajucha2.camera.show_image(result,'left')"
   ]
  }
 ],
 "metadata": {
  "kernelspec": {
   "display_name": "Python 3 (ipykernel)",
   "language": "python",
   "name": "python3"
  },
  "language_info": {
   "codemirror_mode": {
    "name": "ipython",
    "version": 3
   },
   "file_extension": ".py",
   "mimetype": "text/x-python",
   "name": "python",
   "nbconvert_exporter": "python",
   "pygments_lexer": "ipython3",
   "version": "3.8.10"
  }
 },
 "nbformat": 4,
 "nbformat_minor": 4
}
