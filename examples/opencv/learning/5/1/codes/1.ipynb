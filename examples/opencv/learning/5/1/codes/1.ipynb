{
 "cells": [
  {
   "cell_type": "markdown",
   "metadata": {},
   "source": [
    "#### A"
   ]
  },
  {
   "cell_type": "code",
   "execution_count": null,
   "metadata": {},
   "outputs": [],
   "source": [
    "import cv2\n",
    "import jajucha2\n",
    "\n",
    "# 이미지를 불러옵니다.\n",
    "image = cv2.imread(\"example.png\")\n",
    "\n",
    "# 평균 블러링을 적용합니다. (커널 크기 5x5)\n",
    "average_blurred = cv2.blur(image, (5, 5))\n",
    "\n",
    "# 결과를 출력합니다.\n",
    "jajucha2.camera.show_image(average_blurred, \"center\")"
   ]
  }
 ],
 "metadata": {
  "kernelspec": {
   "display_name": "Python 3 (ipykernel)",
   "language": "python",
   "name": "python3"
  },
  "language_info": {
   "codemirror_mode": {
    "name": "ipython",
    "version": 3
   },
   "file_extension": ".py",
   "mimetype": "text/x-python",
   "name": "python",
   "nbconvert_exporter": "python",
   "pygments_lexer": "ipython3",
   "version": "3.8.10"
  }
 },
 "nbformat": 4,
 "nbformat_minor": 4
}
