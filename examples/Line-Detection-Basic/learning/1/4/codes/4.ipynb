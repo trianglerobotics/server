{
 "cells": [
  {
   "cell_type": "markdown",
   "metadata": {},
   "source": [
    "#### Code A"
   ]
  },
  {
   "cell_type": "code",
   "execution_count": null,
   "metadata": {
    "vscode": {
     "languageId": "plaintext"
    }
   },
   "outputs": [],
   "source": [
    "import jajucha2\n",
    "import cv2 \n",
    "\n",
    "frame = jajucha2.camera.get_image('center')\n",
    "blurred = cv2.GaussianBlur(frame, (3, 3), 0)\n",
    "\n",
    "######## 아래 빈칸에 코드를 작성하고 실행하세요 ########\n",
    "\n",
    "canny = \n",
    "\n",
    "# 이미지 뷰어에 표시하는 코드입니다 수정하지 마세요\n",
    "jajucha2.camera.show_image(canny,'center',quality=90)"
   ]
  }
 ],
 "metadata": {
  "kernelspec": {
   "display_name": "Python 3 (ipykernel)",
   "language": "python",
   "name": "python3"
  },
  "language_info": {
   "codemirror_mode": {
    "name": "ipython",
    "version": 3
   },
   "file_extension": ".py",
   "mimetype": "text/x-python",
   "name": "python",
   "nbconvert_exporter": "python",
   "pygments_lexer": "ipython3",
   "version": "3.8.10"
  }
 },
 "nbformat": 4,
 "nbformat_minor": 4
}
