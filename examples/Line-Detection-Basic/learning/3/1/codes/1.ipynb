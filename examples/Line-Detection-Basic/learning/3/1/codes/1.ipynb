{
 "cells": [
  {
   "cell_type": "markdown",
   "metadata": {},
   "source": [
    "#### Code A"
   ]
  },
  {
   "cell_type": "code",
   "execution_count": null,
   "metadata": {
    "vscode": {
     "languageId": "plaintext"
    }
   },
   "outputs": [],
   "source": [
    "import jajucha2\n",
    "import cv2 \n",
    "\n",
    "while True:\n",
    "    frame = jajucha2.camera.get_image('center')\n",
    "    blurred = cv2.GaussianBlur(frame, (3, 3), 0)\n",
    "    canny = cv2.Canny(blurred, 100, 300)\n",
    "    height, width = canny.shape[:2]\n",
    "    roi = canny[height // 2:, :]\n",
    "    \n",
    "    center_x = width // 2 #이미지 중심 X 계산\n",
    "    detected_y = -1  #detected_y 변수 초기화\n",
    "    \n",
    "    # range를 높이의 절반부터 0까지 역순으로 설정\n",
    "    for y in range(roi.shape[0] - 1, -1, -1):  # 아래에서 위로\n",
    "        if roi[y, center_x] == 255:  # 엣지 픽셀 값이 255인 경우\n",
    "            detected_y = y\n",
    "            print(f\"\\r {detected_y}\", end=\"\")\n",
    "            break\n",
    "\n",
    "    # 자주차 모터제어 함수 : jajucha2.control.set_motor(조향,조향,속도)\n",
    "    # 힌트 : if 문을 사용하세요\n",
    "    # 아래 빈칸에 코드를 작성하고 실행하세요\n",
    "    \n",
    "\n",
    "    \n",
    "    \n",
    "    \n",
    "    # 검출된 y 좌표를 이미지에 표시\n",
    "    if detected_y != -1:\n",
    "        marked_frame = cv2.cvtColor(roi, cv2.COLOR_GRAY2BGR)  # 컬러 이미지로 변환\n",
    "        cv2.circle(marked_frame, (center_x, detected_y), 10, (0, 255, 255), -1)  # 노란색 원 표시\n",
    "    else:\n",
    "        marked_frame = cv2.cvtColor(roi, cv2.COLOR_GRAY2BGR)  # 아무 엣지도 없는 경우\n",
    "    \n",
    "    # 이미지 뷰어에 표시하는 코드입니다 수정하지 마세요\n",
    "    jajucha2.camera.show_image(marked_frame,'center',quality=90)"
   ]
  }
 ],
 "metadata": {
  "kernelspec": {
   "display_name": "Python 3 (ipykernel)",
   "language": "python",
   "name": "python3"
  },
  "language_info": {
   "codemirror_mode": {
    "name": "ipython",
    "version": 3
   },
   "file_extension": ".py",
   "mimetype": "text/x-python",
   "name": "python",
   "nbconvert_exporter": "python",
   "pygments_lexer": "ipython3",
   "version": "3.8.10"
  }
 },
 "nbformat": 4,
 "nbformat_minor": 4
}
