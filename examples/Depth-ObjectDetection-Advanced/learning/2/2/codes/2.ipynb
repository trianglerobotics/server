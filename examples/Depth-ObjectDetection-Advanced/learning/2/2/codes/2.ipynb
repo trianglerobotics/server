{
 "cells": [
  {
   "cell_type": "code",
   "execution_count": null,
   "metadata": {},
   "outputs": [],
   "source": [
    "import jajucha2 \n",
    "import cv2\n",
    "\n",
    "while True:\n",
    "    \n",
    "    #이미지 받아오기\n",
    "    left_image = jajucha2.camera.get_image('left')\n",
    "    right_image = jajucha2.camera.get_image('right')    \n",
    "    \n",
    "    #disparity 계산 객체 정의\n",
    "    stereo = cv2.StereoSGBM_create(\n",
    "      minDisparity=0,        # 최소 불일치 값 (Disparity 계산 시작 값)\n",
    "      numDisparities=48,     # 불일치 값을 계산할 범위 (16의 배수여야 함)\n",
    "      blockSize=6,           # 블록 매칭에 사용되는 윈도우 크기 (홀수여야 함)\n",
    "      P1=8*3*6*6,                  # 변화가 작은 경우에 대한 부드러움 페널티\n",
    "      P2=32*3*6*6)                   # 변화가 큰 경우에 대한 부드러움 페널티\n",
    "    \n",
    "    # 이미지를 Grayscale로 변환\n",
    "    gray_left = cv2.cvtColor(left_image, cv2.COLOR_BGR2GRAY) # 좌측 이미지 Grayscale 변환\n",
    "    gray_right = cv2.cvtColor(right_image, cv2.COLOR_BGR2GRAY) # 우측 이미지 Grayscale 변환\n",
    "    \n",
    "    # Disparity 계산\n",
    "    disparity = stereo.compute(gray_left, gray_right)  # disparity 계산\n",
    "    \n",
    "    ######## 여기서부터 코드를 작성하세요 #######\n",
    "    \n",
    "    dst = \n",
    "    \n",
    "    ######## 아래부터는 수정이 불필요 합니다 ########\n",
    "    \n",
    "    jajucha2.camera.show_image(dst)"
   ]
  }
 ],
 "metadata": {
  "kernelspec": {
   "display_name": "Python 3 (ipykernel)",
   "language": "python",
   "name": "python3"
  },
  "language_info": {
   "codemirror_mode": {
    "name": "ipython",
    "version": 3
   },
   "file_extension": ".py",
   "mimetype": "text/x-python",
   "name": "python",
   "nbconvert_exporter": "python",
   "pygments_lexer": "ipython3",
   "version": "3.8.10"
  }
 },
 "nbformat": 4,
 "nbformat_minor": 4
}
