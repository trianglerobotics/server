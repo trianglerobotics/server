{
 "cells": [
  {
   "cell_type": "markdown",
   "metadata": {},
   "source": [
    "### Code A"
   ]
  },
  {
   "cell_type": "code",
   "execution_count": null,
   "metadata": {},
   "outputs": [],
   "source": [
    "import jajucha2\n",
    "\n",
    "######## 여기서부터 코드를 작성하세요 #######\n",
    "\n",
    "\n",
    "# left에 왼쪽 이미지 저장\n",
    "left_image = \n",
    "\n",
    "# right에 오른쪽 이미지 저장\n",
    "right_image = \n",
    "\n",
    "\n",
    "######## 아래부터는 수정이 불필요 합니다 ########"
   ]
  },
  {
   "cell_type": "markdown",
   "metadata": {},
   "source": [
    "<br>"
   ]
  },
  {
   "cell_type": "markdown",
   "metadata": {},
   "source": [
    "#### Code B"
   ]
  },
  {
   "cell_type": "code",
   "execution_count": 1,
   "metadata": {},
   "outputs": [],
   "source": [
    "import cv2\n",
    "\n",
    "# StereoSGBM_create 함수를 사용하여 Disparity 계산 함수 생성\n",
    "\n",
    "######## 여기서부터 코드를 작성하세요 #######\n",
    "\n",
    "stereo = cv2.StereoSGBM_create(\n",
    "    minDisparity=,        # 최소 불일치 값 (Disparity 계산 시작 값)\n",
    "    numDisparities=,     # 불일치 값을 계산할 범위 (16의 배수여야 함)\n",
    "    blockSize=,           # 블록 매칭에 사용되는 윈도우 크기 (홀수여야 함)\n",
    "    P1=,                  # 변화가 작은 경우에 대한 부드러움 페널티\n",
    "    P2=                   # 변화가 큰 경우에 대한 부드러움 페널티\n",
    ")\n",
    "\n",
    "######## 아래부터는 수정이 불필요 합니다 ########"
   ]
  },
  {
   "cell_type": "markdown",
   "metadata": {},
   "source": [
    "<br>"
   ]
  },
  {
   "cell_type": "markdown",
   "metadata": {},
   "source": [
    "#### Code C"
   ]
  },
  {
   "cell_type": "code",
   "execution_count": null,
   "metadata": {},
   "outputs": [],
   "source": [
    "######## 여기서부터 코드를 작성하세요 #######\n",
    "\n",
    "# 이미지를 Grayscale로 변환\n",
    "gray_left =       # 좌측 이미지 Grayscale 변환\n",
    "gray_right =      # 우측 이미지 Grayscale 변환\n",
    "\n",
    "# Disparity 계산\n",
    "disparity =        # disparity 계산\n",
    "\n",
    "jajucha2.camera.show_image(disparity)\n",
    "\n",
    "######## 아래부터는 수정이 불필요 합니다 ########"
   ]
  }
 ],
 "metadata": {
  "kernelspec": {
   "display_name": "Python 3 (ipykernel)",
   "language": "python",
   "name": "python3"
  },
  "language_info": {
   "codemirror_mode": {
    "name": "ipython",
    "version": 3
   },
   "file_extension": ".py",
   "mimetype": "text/x-python",
   "name": "python",
   "nbconvert_exporter": "python",
   "pygments_lexer": "ipython3",
   "version": "3.8.10"
  }
 },
 "nbformat": 4,
 "nbformat_minor": 4
}
