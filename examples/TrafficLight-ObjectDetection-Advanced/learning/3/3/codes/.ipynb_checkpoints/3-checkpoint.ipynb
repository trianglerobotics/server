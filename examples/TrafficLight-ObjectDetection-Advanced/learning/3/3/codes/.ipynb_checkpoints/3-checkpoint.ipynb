{
 "cells": [
  {
   "cell_type": "markdown",
   "metadata": {},
   "source": [
    "#### Code A"
   ]
  },
  {
   "cell_type": "code",
   "execution_count": null,
   "metadata": {
    "vscode": {
     "languageId": "plaintext"
    }
   },
   "outputs": [],
   "source": [
    "import jajucha2\n",
    "import torch\n",
    "#자주차의 라이브러리의 AI 모듈을 활성화 합니다\n",
    "jajucha2.load_ai()"
   ]
  },
  {
   "cell_type": "markdown",
   "metadata": {},
   "source": [
    "<br>"
   ]
  },
  {
   "cell_type": "markdown",
   "metadata": {},
   "source": [
    "#### Code B"
   ]
  },
  {
   "cell_type": "code",
   "execution_count": null,
   "metadata": {},
   "outputs": [],
   "source": [
    "NAME = 'NewYolo'"
   ]
  },
  {
   "cell_type": "markdown",
   "metadata": {},
   "source": [
    "<br>"
   ]
  },
  {
   "cell_type": "markdown",
   "metadata": {},
   "source": [
    "#### Code C"
   ]
  },
  {
   "cell_type": "code",
   "execution_count": null,
   "metadata": {},
   "outputs": [],
   "source": [
    "# 프레임을 캡처\n",
    "frame = jajucha2.camera.get_image()\n",
    "\n",
    "# YOLOv8 모델을 사용하여 프레임에서 추론 실행\n",
    "results = model(frame)\n",
    "\n",
    "# 검출된 정보를 추출하고 시각화\n",
    "for result in results:\n",
    "    for box in result.boxes:\n",
    "        # 바운딩 박스 좌표 추출\n",
    "        x1, y1, x2, y2 = map(int, box.xyxy[0])  # 바운딩 박스의 좌표 (좌상단 x, y와 우하단 x, y)\n",
    "        confidence = box.conf[0]  # 신뢰도 점수\n",
    "        class_id = int(box.cls[0])  # 클래스 ID (분류 레이블)\n",
    "\n",
    "        # 커스텀 모델의 클래스 목록에서 클래스 이름 가져오기\n",
    "        label = f\"{model.names[class_id]} {confidence:.2f}\"  # 레이블 생성 (클래스 이름 및 신뢰도 표시)\n",
    "\n",
    "        # 바운딩 박스 그리기\n",
    "        cv2.rectangle(frame_resized, (x1, y1), (x2, y2), (0, 255, 0), 2)  # 초록색 사각형 그리기\n",
    "\n",
    "        # 레이블 텍스트 그리기\n",
    "        cv2.putText(frame_resized, label, (x1, y1 - 10), cv2.FONT_HERSHEY_SIMPLEX, 0.5, (0, 255, 0), 2)  # 텍스트 표시\n",
    "        print('x1 : ', x1, 'y1 : ', y1, 'x2 : ', x2, 'y2 : ', y2)  # 좌표 정보 출력\n",
    "\n",
    "# 주석이 포함된 결과 프레임 표시\n",
    "jajucha2.camera.show_image(frame_resized)\n"
   ]
  },
  {
   "cell_type": "markdown",
   "metadata": {},
   "source": [
    "<br>"
   ]
  }
 ],
 "metadata": {
  "kernelspec": {
   "display_name": "Python 3 (ipykernel)",
   "language": "python",
   "name": "python3"
  },
  "language_info": {
   "codemirror_mode": {
    "name": "ipython",
    "version": 3
   },
   "file_extension": ".py",
   "mimetype": "text/x-python",
   "name": "python",
   "nbconvert_exporter": "python",
   "pygments_lexer": "ipython3",
   "version": "3.8.10"
  }
 },
 "nbformat": 4,
 "nbformat_minor": 4
}
