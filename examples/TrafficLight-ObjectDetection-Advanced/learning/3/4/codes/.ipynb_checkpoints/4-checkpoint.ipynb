{
 "cells": [
  {
   "cell_type": "markdown",
   "metadata": {},
   "source": [
    "#### Code A"
   ]
  },
  {
   "cell_type": "code",
   "execution_count": null,
   "metadata": {},
   "outputs": [],
   "source": [
    "import jajucha2\n",
    "import cv2\n",
    "import matplotlib.pyplot as plt\n",
    "\n",
    "# 카메라에서 이미지 캡처\n",
    "image = jajucha2.camera.get_image()\n",
    "\n",
    "######## 아래부터 코드를 작성하세요 ########\n",
    "# 이미지를 BGR에서 HSV로 변환\n",
    "\n",
    "hsv = \n",
    "\n",
    "######## 아래 코드는 수정이 불필요 합니다 ########\n",
    "\n",
    "# HSV 채널 분리\n",
    "hue, saturation, value = cv2.split(hsv)\n",
    "\n",
    "# 채널을 Matplotlib를 사용하여 표시\n",
    "plt.figure(figsize=(15, 5))\n",
    "\n",
    "# Hue 채널 표시\n",
    "plt.subplot(1, 3, 1)\n",
    "plt.title(\"Hue Channel\")\n",
    "plt.imshow(hue, cmap='hsv')  # HSV 색상 맵을 사용\n",
    "plt.axis('off')\n",
    "\n",
    "# Saturation 채널 표시\n",
    "plt.subplot(1, 3, 2)\n",
    "plt.title(\"Saturation Channel\")\n",
    "plt.imshow(saturation, cmap='gray')  # Grayscale 맵을 사용\n",
    "plt.axis('off')\n",
    "\n",
    "# Value 채널 표시\n",
    "plt.subplot(1, 3, 3)\n",
    "plt.title(\"Value Channel\")\n",
    "plt.imshow(value, cmap='gray')  # Grayscale 맵을 사용\n",
    "plt.axis('off')\n",
    "\n",
    "# 그래프 표시\n",
    "plt.tight_layout()\n",
    "plt.show()\n"
   ]
  },
  {
   "cell_type": "markdown",
   "metadata": {},
   "source": [
    "<br>"
   ]
  }
 ],
 "metadata": {
  "kernelspec": {
   "display_name": "Python 3 (ipykernel)",
   "language": "python",
   "name": "python3"
  },
  "language_info": {
   "codemirror_mode": {
    "name": "ipython",
    "version": 3
   },
   "file_extension": ".py",
   "mimetype": "text/x-python",
   "name": "python",
   "nbconvert_exporter": "python",
   "pygments_lexer": "ipython3",
   "version": "3.8.10"
  }
 },
 "nbformat": 4,
 "nbformat_minor": 4
}
