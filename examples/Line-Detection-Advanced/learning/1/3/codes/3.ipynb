{
 "cells": [
  {
   "cell_type": "markdown",
   "metadata": {},
   "source": [
    "#### Code A"
   ]
  },
  {
   "cell_type": "code",
   "execution_count": 2,
   "metadata": {
    "vscode": {
     "languageId": "plaintext"
    }
   },
   "outputs": [
    {
     "name": "stdout",
     "output_type": "stream",
     "text": [
      "V [38, 201, 201, 201, 201, 201, 51]\n",
      "L [321, 321, 208]\n",
      "R [321, 188, 242]\n"
     ]
    }
   ],
   "source": [
    "import jajucha2\n",
    "import cv2 \n",
    "\n",
    "frame = jajucha2.camera.get_image('center')\n",
    "# jajucha2 gridFront 함수 : gridFront(img, cols=7, rows=3 , y_max=200, ths1 = 100, ths2 = 300 , v_line_color=(39, 200, 47), h_line_color=(0, 0, 255),v_point_color=(18, 246, 255), u_point_color=(221, 0, 255))\n",
    "# 저장할 변수 : (V,L,R), grid\n",
    "\n",
    "######## 아래 빈칸에 코드를 작성하고 실행하세요 ########\n",
    "\n",
    "(V,L,R), grid = jajucha2.camera.gridFront(frame, cols=7, rows=3 , y_max=200, ths1 = 100, ths2 = 300 , v_line_color=(39, 200, 47), h_line_color=(0, 0, 255),v_point_color=(18, 246, 255), u_point_color=(221, 0, 255))\n",
    "\n",
    "# 이미지 뷰어에 표시하는 코드입니다 수정하지 마세요\n",
    "jajucha2.camera.show_image(grid,'center',quality=90)\n",
    "print('V',V)\n",
    "print('L',L)\n",
    "print('R',R)"
   ]
  }
 ],
 "metadata": {
  "kernelspec": {
   "display_name": "Python 3 (ipykernel)",
   "language": "python",
   "name": "python3"
  },
  "language_info": {
   "codemirror_mode": {
    "name": "ipython",
    "version": 3
   },
   "file_extension": ".py",
   "mimetype": "text/x-python",
   "name": "python",
   "nbconvert_exporter": "python",
   "pygments_lexer": "ipython3",
   "version": "3.8.10"
  }
 },
 "nbformat": 4,
 "nbformat_minor": 4
}
