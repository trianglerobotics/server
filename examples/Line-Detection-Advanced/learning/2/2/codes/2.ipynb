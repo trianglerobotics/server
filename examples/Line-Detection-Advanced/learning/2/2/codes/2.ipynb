{
 "cells": [
  {
   "cell_type": "markdown",
   "metadata": {},
   "source": [
    "#### Code A"
   ]
  },
  {
   "cell_type": "code",
   "execution_count": null,
   "metadata": {},
   "outputs": [],
   "source": [
    "import jajucha2\n",
    "import cv2 \n",
    "\n",
    "while True:\n",
    "    frame = jajucha2.camera.get_image('center')\n",
    "    # 힌트1 : jajucha2 gridFront 함수 : jajucha2.camera.gridFront(img, cols=7, rows=3 , y_max=200, ths1 = 100, ths2 = 300 , v_line_color=(39, 200, 47), h_line_color=(0, 0, 255),v_point_color=(18, 246, 255), u_point_color=(221, 0, 255))\n",
    "    # 힌트2 : jajucha2 set_motor 함수 : jajucha2.control.set_motor(left,right,speed)\n",
    "    # 아래 빈칸에 코드를 작성하고 실행하세요 , gridFront 함수를 이용하여 grid,(V,L,R 출력이 나오게 해야 합니다)\n",
    "\n",
    "\n",
    "    \n",
    "    # 이미지 뷰어에 표시하는 코드입니다 수정하지 마세요\n",
    "    jajucha2.camera.show_image(grid,'center',quality=90)"
   ]
  }
 ],
 "metadata": {
  "kernelspec": {
   "display_name": "Python 3 (ipykernel)",
   "language": "python",
   "name": "python3"
  },
  "language_info": {
   "codemirror_mode": {
    "name": "ipython",
    "version": 3
   },
   "file_extension": ".py",
   "mimetype": "text/x-python",
   "name": "python",
   "nbconvert_exporter": "python",
   "pygments_lexer": "ipython3",
   "version": "3.8.10"
  }
 },
 "nbformat": 4,
 "nbformat_minor": 4
}
