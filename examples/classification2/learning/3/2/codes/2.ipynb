{
 "cells": [
  {
   "cell_type": "markdown",
   "metadata": {},
   "source": [
    "#### A  "
   ]
  },
  {
   "cell_type": "code",
   "execution_count": 1,
   "metadata": {},
   "outputs": [],
   "source": [
    "# Set Hyper Parameters\n",
    "NAME = '' #모델의 이름을 입력합니다 예시: '12'"
   ]
  },
  {
   "cell_type": "markdown",
   "metadata": {},
   "source": [
    "<br></br>"
   ]
  },
  {
   "cell_type": "markdown",
   "metadata": {},
   "source": [
    "#### B"
   ]
  },
  {
   "cell_type": "code",
   "execution_count": null,
   "metadata": {},
   "outputs": [],
   "source": [
    "import jajucha2\n",
    "jajucha2.load_ai() # AI 모델을 로드합니다\n",
    "\n",
    "# 무한 반복문으로 실시간 이미지 처리\n",
    "while True:\n",
    "    # 카메라에서 이미지를 가져옴\n",
    "    image = jajucha2.camera.get_image()\n",
    "\n",
    "    \n",
    "    # 가져온 이미지를 AI 모델에 입력하여 결과를 얻음\n",
    "    # NAME은 사용할 AI 모델의 이름\n",
    "    output = jajucha2.ai.get_model_output(image, NAME)\n",
    "    \n",
    "    # 현재 이미지를 화면에 출력\n",
    "    jajucha2.camera.show_image(image)\n",
    "    \n",
    "    # 모델의 출력 결과를 동일한 라인에 갱신하여 출력\n",
    "    print(f\"\\r {output}\", end=\"\")"
   ]
  }
 ],
 "metadata": {
  "kernelspec": {
   "display_name": "Python 3 (ipykernel)",
   "language": "python",
   "name": "python3"
  },
  "language_info": {
   "codemirror_mode": {
    "name": "ipython",
    "version": 3
   },
   "file_extension": ".py",
   "mimetype": "text/x-python",
   "name": "python",
   "nbconvert_exporter": "python",
   "pygments_lexer": "ipython3",
   "version": "3.8.10"
  }
 },
 "nbformat": 4,
 "nbformat_minor": 4
}
