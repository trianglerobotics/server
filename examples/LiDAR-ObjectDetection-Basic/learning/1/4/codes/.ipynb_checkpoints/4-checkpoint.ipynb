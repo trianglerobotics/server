{
 "cells": [
  {
   "cell_type": "markdown",
   "metadata": {},
   "source": [
    "#### Code A"
   ]
  },
  {
   "cell_type": "code",
   "execution_count": null,
   "metadata": {
    "vscode": {
     "languageId": "plaintext"
    }
   },
   "outputs": [],
   "source": [
    "import jajucha2\n",
    "import numpy as np\n",
    "\n",
    "# LiDAR 데이터 가져오기\n",
    "angle_array, dist_array = jajucha2.lidar.get_lidar()\n",
    "\n",
    "#힌트1 : (1,1)의 각도를 확인한 후 거리기준을 만들어 거리를 확인하세요\n",
    "#힌트2 : np.argmin (최소값의 인덱스를 확인하는 넘파이 함수) , np.abs (절대값으로 변환하는 넘파이 함수)\n",
    "# 아래 빈칸에 코드를 작성하고 실행하세요\n",
    "\n"
   ]
  }
 ],
 "metadata": {
  "kernelspec": {
   "display_name": "Python 3 (ipykernel)",
   "language": "python",
   "name": "python3"
  },
  "language_info": {
   "codemirror_mode": {
    "name": "ipython",
    "version": 3
   },
   "file_extension": ".py",
   "mimetype": "text/x-python",
   "name": "python",
   "nbconvert_exporter": "python",
   "pygments_lexer": "ipython3",
   "version": "3.8.10"
  }
 },
 "nbformat": 4,
 "nbformat_minor": 4
}
