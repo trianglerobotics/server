{
 "cells": [
  {
   "cell_type": "code",
   "execution_count": null,
   "metadata": {},
   "outputs": [],
   "source": [
    "# 소괄호 안에 자신의 나이를 숫자형으로 입력해요\n",
    "print()\n",
    "\n",
    "# 소괄호 안에 자신의 이름을 문자열로 입력해요\n",
    "print()\n",
    "\n",
    "# 소괄호 안에 자신의 나이와 이름이 담긴 리스트를 입력해요\n",
    "print()"
   ]
  }
 ],
 "metadata": {
  "kernelspec": {
   "display_name": "Python 3 (ipykernel)",
   "language": "python",
   "name": "python3"
  },
  "language_info": {
   "codemirror_mode": {
    "name": "ipython",
    "version": 3
   },
   "file_extension": ".py",
   "mimetype": "text/x-python",
   "name": "python",
   "nbconvert_exporter": "python",
   "pygments_lexer": "ipython3",
   "version": "3.8.10"
  }
 },
 "nbformat": 4,
 "nbformat_minor": 4
}
