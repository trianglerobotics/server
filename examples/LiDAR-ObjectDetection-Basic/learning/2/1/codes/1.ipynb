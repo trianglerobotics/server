{
 "cells": [
  {
   "cell_type": "markdown",
   "metadata": {},
   "source": [
    "#### Code A"
   ]
  },
  {
   "cell_type": "code",
   "execution_count": null,
   "metadata": {
    "vscode": {
     "languageId": "plaintext"
    }
   },
   "outputs": [],
   "source": [
    "import jajucha2\n",
    "\n",
    "# LiDAR 데이터 가져오기\n",
    "angle_array, dist_array = jajucha2.lidar.get_lidar()\n",
    "\n",
    "\n",
    "#변수 : distance 에 정면 거리값을 저장합니다\n",
    "#힌트1 : 라이다의 각도는 정면부터 증가합니다. dist_array의 첫번쨰 거리값을 확인합니다\n",
    "######## 아래 빈칸에 코드를 작성하고 실행하세요 ########\n",
    "\n",
    "\n",
    "\n"
   ]
  },
  {
   "cell_type": "markdown",
   "metadata": {},
   "source": [
    "#### Code B"
   ]
  },
  {
   "cell_type": "code",
   "execution_count": null,
   "metadata": {},
   "outputs": [],
   "source": [
    "import jajucha2\n",
    "\n",
    "# LiDAR 데이터 가져오기\n",
    "angle_array, dist_array = jajucha2.lidar.get_lidar()\n",
    "\n",
    "\n",
    "#변수1 : distance_left 에 정면 거리값을 저장합니다\n",
    "#변수2 : distance_right 에 정면 거리값을 저장합니다\n",
    "#변수3 : distance_back 에 정면 거리값을 저장합니다\n",
    "#힌트1 : 라이다의 각도는 정면부터 증가합니다. \n",
    "######## 아래 빈칸에 코드를 작성하고 실행하세요 ########\n",
    "\n",
    "\n",
    "\n",
    "\n",
    "\n",
    "\n",
    "\n"
   ]
  }
 ],
 "metadata": {
  "kernelspec": {
   "display_name": "Python 3 (ipykernel)",
   "language": "python",
   "name": "python3"
  },
  "language_info": {
   "codemirror_mode": {
    "name": "ipython",
    "version": 3
   },
   "file_extension": ".py",
   "mimetype": "text/x-python",
   "name": "python",
   "nbconvert_exporter": "python",
   "pygments_lexer": "ipython3",
   "version": "3.8.10"
  }
 },
 "nbformat": 4,
 "nbformat_minor": 4
}
