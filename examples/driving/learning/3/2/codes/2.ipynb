{
 "cells": [
  {
   "cell_type": "markdown",
   "metadata": {},
   "source": [
    "#### CELL-1 코드리뷰 \n",
    "\n",
    "- <strong>NAME = ''</strong> -> 가져올 모델의 이름을 입력합니다 *전 과정에서 지정했던 이름으로 입력합니다\n"
   ]
  },
  {
   "cell_type": "code",
   "execution_count": 1,
   "metadata": {},
   "outputs": [],
   "source": [
    "# Set Hyper Parameters\n",
    "NAME = '' #모델의 이름을 입력합니다 예시: '12'"
   ]
  },
  {
   "cell_type": "markdown",
   "metadata": {},
   "source": [
    "<br></br>"
   ]
  },
  {
   "cell_type": "markdown",
   "metadata": {},
   "source": [
    "#### CELL-2 코드리뷰 \n",
    "\n",
    "- <strong>코드리뷰는 코드 위에 있는 주석으로 대체합니다</strong> "
   ]
  },
  {
   "cell_type": "code",
   "execution_count": null,
   "metadata": {},
   "outputs": [],
   "source": [
    "import jajucha2\n",
    "import torch\n",
    "import numpy as np\n",
    "import torchvision.transforms as transforms\n",
    "from PIL import Image as Img\n",
    "import cv2\n",
    "\n",
    "# 인공지능 모델 가져오기\n",
    "device = torch.device('cuda')  # GPU 장치를 사용하기 위해 CUDA 장치를 설정\n",
    "model = jajucha2.ai.get_model(NAME)  # `jajucha2` 라이브러리에서 인공지능 모델을 가져옴\n",
    "model.to(device)  # 모델을 CUDA 장치로 이동\n",
    "model.eval()  # 모델을 평가 모드로 설정 (추론 시에만 사용하며, 학습과 관련된 연산을 비활성화)\n",
    "\n",
    "transform = transforms.Compose([\n",
    "    transforms.Resize((224, 224)),  # 이미지를 224x224 크기로 조정 (모델에 입력하기 위해 고정된 크기로 맞춤)\n",
    "    transforms.ToTensor(),  # 이미지를 PyTorch 텐서(tensor)로 변환 (이미지를 정규화하여 [0, 1] 범위의 값으로 변환하고, 채널 순서를 [H, W, C]에서 [C, H, W]로 변경)\n",
    "])\n",
    "\n",
    "# 초기 조향 및 속도 값 설정\n",
    "steer = 0\n",
    "speed = 0\n",
    "\n",
    "# 메인 루프 시작\n",
    "while True:\n",
    "    image = jajucha2.camera.get_image('center')  # 중앙 카메라에서 이미지를 가져옴\n",
    "\n",
    "    ## 인공지능 기반 신호등 감지\n",
    "    image = Img.fromarray(cv2.cvtColor(image, cv2.COLOR_BGR2RGB))  # OpenCV의 BGR 이미지를 PIL의 RGB 이미지로 변환\n",
    "    image = transform(image)  # 이미지 변환 (예: 크기 조정, 정규화 등)\n",
    "    image = image.unsqueeze(0).to(device)  # 배치 차원을 추가하고 이미지를 CUDA 장치로 이동\n",
    "    output = model(image)  # 인공지능 모델을 사용하여 이미지에 대한 예측 실행\n",
    "\n",
    "    print(f\"\\r {output}\", end=\"\") # 모델의 출력값을 출력, 클래스의 갯수 만큼 리스트가 출력됨\n",
    "    \n",
    "    max_index = torch.argmax(output)  # 가장 높은 확률을 가진 클래스의 인덱스를 가져옴\n",
    "    \n",
    "    # 신호등이 빨간 불일 경우 (가정: 클래스 인덱스 1이 빨간 불을 의미)\n",
    "    if max_index == 1:\n",
    "        speed = 0  # 속도를 0으로 설정하여 정지\n",
    "    \n",
    "    # 설정된 조향과 속도를 차량 제어에 반영\n",
    "    jajucha2.control.set_motor(steer, steer, speed)\n"
   ]
  }
 ],
 "metadata": {
  "kernelspec": {
   "display_name": "Python 3 (ipykernel)",
   "language": "python",
   "name": "python3"
  },
  "language_info": {
   "codemirror_mode": {
    "name": "ipython",
    "version": 3
   },
   "file_extension": ".py",
   "mimetype": "text/x-python",
   "name": "python",
   "nbconvert_exporter": "python",
   "pygments_lexer": "ipython3",
   "version": "3.8.10"
  }
 },
 "nbformat": 4,
 "nbformat_minor": 4
}
