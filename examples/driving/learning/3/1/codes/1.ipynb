{
 "cells": [
  {
   "cell_type": "markdown",
   "metadata": {},
   "source": [
    "#### A  "
   ]
  },
  {
   "cell_type": "code",
   "execution_count": 2,
   "metadata": {},
   "outputs": [],
   "source": [
    "# Set Hyper Parameters\n",
    "NAME = 'model' #모델의 이름을 입력합니다 예시: 'model'"
   ]
  },
  {
   "cell_type": "markdown",
   "metadata": {},
   "source": [
    "<br></br>"
   ]
  },
  {
   "cell_type": "markdown",
   "metadata": {},
   "source": [
    "#### B "
   ]
  },
  {
   "cell_type": "code",
   "execution_count": null,
   "metadata": {},
   "outputs": [],
   "source": [
    "# jajucha2 라이브러리를 가져옵니다 (카메라 및 AI 처리를 위한 모듈 포함)\n",
    "import jajucha2\n",
    "\n",
    "# 카메라 모듈을 사용해 이미지를 캡처합니다\n",
    "image = jajucha2.camera.get_image()\n",
    "\n",
    "# 캡처한 이미지와 모델 이름 (변수 NAME)을 전달하여 AI 모델의 출력을 얻습니다\n",
    "output = jajucha2.ai.get_model_output(image, NAME)\n",
    "\n",
    "# AI 모델의 출력 결과를 출력합니다\n",
    "print(output)"
   ]
  },
  {
   "cell_type": "markdown",
   "metadata": {},
   "source": [
    "<br></br>"
   ]
  }
 ],
 "metadata": {
  "kernelspec": {
   "display_name": "Python 3 (ipykernel)",
   "language": "python",
   "name": "python3"
  },
  "language_info": {
   "codemirror_mode": {
    "name": "ipython",
    "version": 3
   },
   "file_extension": ".py",
   "mimetype": "text/x-python",
   "name": "python",
   "nbconvert_exporter": "python",
   "pygments_lexer": "ipython3",
   "version": "3.8.10"
  }
 },
 "nbformat": 4,
 "nbformat_minor": 4
}
