{
 "cells": [
  {
   "cell_type": "markdown",
   "metadata": {},
   "source": [
    "#### CELL-1 코드리뷰 \n",
    "\n",
    "- <strong>NAME = ''</strong> -> 가져올 모델의 이름을 입력합니다 *전 과정에서 지정했던 이름으로 입력합니다\n"
   ]
  },
  {
   "cell_type": "code",
   "execution_count": null,
   "metadata": {},
   "outputs": [],
   "source": [
    "# Set Hyper Parameters\n",
    "NAME = '' #모델의 이름을 입력합니다 예시: '12'"
   ]
  },
  {
   "cell_type": "markdown",
   "metadata": {},
   "source": [
    "<br></br>"
   ]
  },
  {
   "cell_type": "markdown",
   "metadata": {},
   "source": [
    "#### CELL-2 코드리뷰 \n",
    "\n",
    "- 사용했던 코드를 통합하여 주행을 진행합니다\n"
   ]
  },
  {
   "cell_type": "code",
   "execution_count": null,
   "metadata": {},
   "outputs": [],
   "source": [
    "import jajucha2\n",
    "import torch\n",
    "import numpy as np\n",
    "import torchvision.transforms as transforms\n",
    "from PIL import Image as Img\n",
    "import cv2\n",
    "\n",
    "#인공지능 모델 가져오기\n",
    "device = torch.device('cuda')\n",
    "model = jajucha2.ai.get_model(NAME)\n",
    "model.to(device)\n",
    "model.eval()\n",
    "\n",
    "steer = 0\n",
    "speed = 0\n",
    "\n",
    "while True:\n",
    "    image = jajucha2.camera.get_image('center')\n",
    "\n",
    "    #그리드 기반 주행 코드\n",
    "    (V,L,R) ,grid = jajucha2.camera.gridFront(image)\n",
    "\n",
    "    if(V[5] < 100):\n",
    "        steer = -10\n",
    "        speed = 5\n",
    "    else:\n",
    "        steer = 0\n",
    "        speed = 5\n",
    "\n",
    "    #깊이기반 거리감지 주행\n",
    "    depth = jajucha2.camera.get_depth() \n",
    "    jajucha2.camera.show_image(depth, 'depth')  \n",
    "    height, width = depth.shape[:2]\n",
    "    center_x, center_y = width // 2, height // 2\n",
    "    region_size = 60\n",
    "    start_x = center_x - region_size // 2  \n",
    "    start_y = center_y - region_size // 2  \n",
    "    center_region = depth[start_y:start_y + region_size, start_x:start_x + region_size]\n",
    "    mean_value = np.mean(center_region)\n",
    "    if(mean_value > 100):\n",
    "        speed = 0\n",
    "\n",
    "    ## 인공지능 기반 신호등 감지\n",
    "    image = Img.fromarray(cv2.cvtColor(image, cv2.COLOR_BGR2RGB)) \n",
    "    image = transform(image)  \n",
    "    image =image.unsqueeze(0).to(device)\n",
    "    output = (model(image))\n",
    "    max_index = torch.argmax(output)\n",
    "    if(max_index == 1):\n",
    "        speed = 0\n",
    "    \n",
    "    jajucha2.control.set_motor(steer,steer,speed)\n",
    "\n",
    "\n",
    "\n",
    "\n"
   ]
  }
 ],
 "metadata": {
  "kernelspec": {
   "display_name": "Python 3 (ipykernel)",
   "language": "python",
   "name": "python3"
  },
  "language_info": {
   "codemirror_mode": {
    "name": "ipython",
    "version": 3
   },
   "file_extension": ".py",
   "mimetype": "text/x-python",
   "name": "python",
   "nbconvert_exporter": "python",
   "pygments_lexer": "ipython3",
   "version": "3.8.10"
  }
 },
 "nbformat": 4,
 "nbformat_minor": 4
}
