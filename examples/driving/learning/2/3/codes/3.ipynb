{
 "cells": [
  {
   "cell_type": "markdown",
   "metadata": {},
   "source": [
    "#### A"
   ]
  },
  {
   "cell_type": "code",
   "execution_count": 1,
   "metadata": {},
   "outputs": [],
   "source": [
    "import jajucha2\n",
    "import numpy as np"
   ]
  },
  {
   "cell_type": "markdown",
   "metadata": {},
   "source": [
    "#### B"
   ]
  },
  {
   "cell_type": "code",
   "execution_count": null,
   "metadata": {},
   "outputs": [],
   "source": [
    "import jajucha2\n",
    "import time\n",
    "import cv2\n",
    "\n",
    "# 초점 거리(focal length)와 실제 물체의 높이를 사용하여 거리 계산 (예: 병 높이)\n",
    "KNOWN_HEIGHT = 30  # 물체의 실제 높이(cm)\n",
    "FOCAL_LENGTH = 500  # 카메라 초점 거리 (실험적으로 설정)\n",
    "\n",
    "def calculate_distance(bbox_height, known_height=KNOWN_HEIGHT, focal_length=FOCAL_LENGTH):\n",
    "    \"\"\"\n",
    "    물체의 바운딩 박스 높이를 사용하여 거리를 계산합니다.\n",
    "    :param bbox_height: 바운딩 박스의 픽셀 높이\n",
    "    :param known_height: 물체의 실제 높이 (cm)\n",
    "    :param focal_length: 카메라의 초점 거리\n",
    "    :return: 추정된 거리 (cm)\n",
    "    \"\"\"\n",
    "    return (known_height * focal_length) / bbox_height\n",
    "\n",
    "while True:\n",
    "    frame = jajucha2.camera.get_image()\n",
    "\n",
    "    # YOLOv8 추론 실행\n",
    "    results = jajucha2.ai.get_model_output(frame, 'bottle')\n",
    "\n",
    "    # 탐지 결과를 처리 및 시각화\n",
    "    for result in results:\n",
    "        for box in result.boxes:\n",
    "            # 바운딩 박스 좌표 추출\n",
    "            x1, y1, x2, y2 = map(int, box.xyxy[0])  # 좌표\n",
    "            confidence = box.conf[0]  # 신뢰도\n",
    "            class_id = int(box.cls[0])  # 클래스 ID\n",
    "\n",
    "            # 바운딩 박스 높이 계산\n",
    "            bbox_height = y2 - y1\n",
    "\n",
    "            # 거리 계산\n",
    "            distance = calculate_distance(bbox_height)\n",
    "\n",
    "            # 바운딩 박스와 거리 시각화\n",
    "            cv2.rectangle(frame, (x1, y1), (x2, y2), (0, 255, 0), 2)\n",
    "            label = f\"Dist: {distance:.1f} cm\"\n",
    "            cv2.putText(frame, label, (x1, y1 - 10), cv2.FONT_HERSHEY_SIMPLEX, 0.5, (0, 255, 0), 2)\n",
    "\n",
    "    # 프레임 표시\n",
    "    jajucha2.camera.show_image(frame)\n"
   ]
  }
 ],
 "metadata": {
  "kernelspec": {
   "display_name": "Python 3 (ipykernel)",
   "language": "python",
   "name": "python3"
  },
  "language_info": {
   "codemirror_mode": {
    "name": "ipython",
    "version": 3
   },
   "file_extension": ".py",
   "mimetype": "text/x-python",
   "name": "python",
   "nbconvert_exporter": "python",
   "pygments_lexer": "ipython3",
   "version": "3.8.10"
  }
 },
 "nbformat": 4,
 "nbformat_minor": 4
}
