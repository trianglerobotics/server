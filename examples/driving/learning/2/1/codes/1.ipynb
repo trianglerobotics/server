{
 "cells": [
  {
   "cell_type": "markdown",
   "metadata": {},
   "source": [
    "#### CELL-1 코드리뷰 \n",
    "\n",
    "- <strong>import jajucha2</strong> -> 자주차 라이브러리를 가져옵니다"
   ]
  },
  {
   "cell_type": "code",
   "execution_count": null,
   "metadata": {},
   "outputs": [],
   "source": [
    "import jajucha2"
   ]
  },
  {
   "cell_type": "markdown",
   "metadata": {},
   "source": [
    "<br></br>"
   ]
  },
  {
   "cell_type": "markdown",
   "metadata": {},
   "source": [
    "#### CELL-2 코드리뷰 \n",
    "\n",
    "- <strong>depth = jajucha2.camera.get_depth()</strong> -> 자주차에서 거리 이미지를 가져옵니다\n",
    "- <strong>jajucha2.camera.show_image(depth,'depth')</strong> -> 거리 이미지를 표시합니다"
   ]
  },
  {
   "cell_type": "code",
   "execution_count": null,
   "metadata": {},
   "outputs": [],
   "source": [
    "depth = jajucha2.camera.get_depth()\n",
    "jajucha2.camera.show_image(depth,'depth')"
   ]
  },
  {
   "cell_type": "markdown",
   "metadata": {},
   "source": [
    "<br></br>"
   ]
  },
  {
   "cell_type": "markdown",
   "metadata": {},
   "source": [
    "#### CELL-3 코드리뷰 \n",
    "\n",
    "- <strong>import numpy as np</strong> -> numpy 라이브브러리를 가져옵니다\n",
    "- <strong>height, width = depth.shape[:2]</strong> -> 이미지에서 가로 세로 길이를 추출하여 정의합니다\n",
    "- <strong>center_x, center_y = width // 2, height // 2</strong> -> 높이의 중간지점, 길이의 중간 지점을 이미지의 중심으로 설정합니다\n",
    "- <strong>region_size = 60</strong> -> 깊이를 추출할 사각형의 크기를 정의합니다\n",
    "- <strong>start_x = center_x - region_size // 2</strong> -> 추출할 영역의 왼쪽 상단 x 좌표를 설정합니다 (중앙에서 사각형 크기의 절반만큼 왼쪽으로 이동)\n",
    "- <strong>start_y = center_y - region_size // 2</strong> -> 추출할 영역의 왼쪽 상단 y 좌표를 설정합니다 (중앙에서 사각형 크기의 절반만큼 위로 이동) \n",
    "- <strong>center_region = depth[start_y:start_y + region_size, start_x:start_x + region_size]</strong> -> 설정된 좌표에서부터 30x30 크기의 영역을 추출합니다\n",
    "- <strong>mean_value = np.mean(center_region)</strong> -> 추출된 영역의 모든 픽셀 값의 평균을 계산합니다 "
   ]
  },
  {
   "cell_type": "code",
   "execution_count": null,
   "metadata": {},
   "outputs": [],
   "source": [
    "import numpy as np\n",
    "\n",
    "# 깊이 이미지에서 가로,세로길이 추출\n",
    "height, width = depth.shape[:2]\n",
    "center_x, center_y = width // 2, height // 2\n",
    "\n",
    "# 영역의 크기 정의 (60x60)\n",
    "region_size = 60\n",
    "\n",
    "# 60x60 영역의 좌상단 좌표 계산\n",
    "start_x = center_x - region_size // 2\n",
    "start_y = center_y - region_size // 2\n",
    "\n",
    "# 이미지 중앙에서 60x60 영역 추출\n",
    "center_region = depth[start_y:start_y + region_size, start_x:start_x + region_size]\n",
    "\n",
    "# 해당 영역의 평균값 계산\n",
    "mean_value = np.mean(center_region)\n",
    "\n",
    "#출력된 값은 평균 밝기 값으로 0-255 값을 가지고 있습니다\n",
    "print(mean_value)\n"
   ]
  }
 ],
 "metadata": {
  "kernelspec": {
   "display_name": "Python 3 (ipykernel)",
   "language": "python",
   "name": "python3"
  },
  "language_info": {
   "codemirror_mode": {
    "name": "ipython",
    "version": 3
   },
   "file_extension": ".py",
   "mimetype": "text/x-python",
   "name": "python",
   "nbconvert_exporter": "python",
   "pygments_lexer": "ipython3",
   "version": "3.8.10"
  }
 },
 "nbformat": 4,
 "nbformat_minor": 4
}
