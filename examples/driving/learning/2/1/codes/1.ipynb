{
 "cells": [
  {
   "cell_type": "markdown",
   "metadata": {},
   "source": [
    "#### A"
   ]
  },
  {
   "cell_type": "code",
   "execution_count": null,
   "metadata": {},
   "outputs": [],
   "source": [
    "import jajucha2"
   ]
  },
  {
   "cell_type": "markdown",
   "metadata": {},
   "source": [
    "<br></br>"
   ]
  },
  {
   "cell_type": "markdown",
   "metadata": {},
   "source": [
    "#### B"
   ]
  },
  {
   "cell_type": "code",
   "execution_count": null,
   "metadata": {},
   "outputs": [],
   "source": [
    "depth = jajucha2.camera.get_depth()\n",
    "jajucha2.camera.show_image(depth,'depth')"
   ]
  },
  {
   "cell_type": "markdown",
   "metadata": {},
   "source": [
    "<br></br>"
   ]
  },
  {
   "cell_type": "markdown",
   "metadata": {},
   "source": [
    "#### C"
   ]
  },
  {
   "cell_type": "code",
   "execution_count": null,
   "metadata": {},
   "outputs": [],
   "source": [
    "import numpy as np\n",
    "\n",
    "# 깊이 이미지에서 가로,세로길이 추출\n",
    "height, width = depth.shape[:2]\n",
    "center_x, center_y = width // 2, height // 2\n",
    "\n",
    "# 영역의 크기 정의 (60x60)\n",
    "region_size = 60\n",
    "\n",
    "# 60x60 영역의 좌상단 좌표 계산\n",
    "start_x = center_x - region_size // 2\n",
    "start_y = center_y - region_size // 2\n",
    "\n",
    "# 이미지 중앙에서 60x60 영역 추출\n",
    "center_region = depth[start_y:start_y + region_size, start_x:start_x + region_size]\n",
    "\n",
    "# 해당 영역의 평균값 계산\n",
    "mean_value = np.mean(center_region)\n",
    "\n",
    "#출력된 값은 평균 밝기 값으로 0-255 값을 가지고 있습니다\n",
    "print(mean_value)\n"
   ]
  }
 ],
 "metadata": {
  "kernelspec": {
   "display_name": "Python 3 (ipykernel)",
   "language": "python",
   "name": "python3"
  },
  "language_info": {
   "codemirror_mode": {
    "name": "ipython",
    "version": 3
   },
   "file_extension": ".py",
   "mimetype": "text/x-python",
   "name": "python",
   "nbconvert_exporter": "python",
   "pygments_lexer": "ipython3",
   "version": "3.8.10"
  }
 },
 "nbformat": 4,
 "nbformat_minor": 4
}
