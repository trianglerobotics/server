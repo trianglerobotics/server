{
 "cells": [
  {
   "cell_type": "markdown",
   "metadata": {},
   "source": [
    "#### CELL-1 코드리뷰 \n",
    "\n",
    "- <strong>import jajucha2</strong> -> 자주차 라이브러리를 가져옵니다\n",
    "- <strong>import numpy</strong> -> numpy 라이브러리를 가져옵니다"
   ]
  },
  {
   "cell_type": "code",
   "execution_count": null,
   "metadata": {},
   "outputs": [],
   "source": [
    "import jajucha2\n",
    "import numpy as np"
   ]
  },
  {
   "cell_type": "markdown",
   "metadata": {},
   "source": [
    "<br></br>"
   ]
  },
  {
   "cell_type": "markdown",
   "metadata": {},
   "source": [
    "#### CELL-2 코드리뷰 \n",
    "\n",
    "- <strong>코드리뷰는 코드 위에 있는 주석으로 대체합니다</strong> "
   ]
  },
  {
   "cell_type": "code",
   "execution_count": null,
   "metadata": {},
   "outputs": [],
   "source": [
    "while True:  # 무한 루프를 시작합니다.\n",
    "    depth = jajucha2.camera.get_depth()  # jajucha2의 카메라에서 깊이 이미지를 가져옵니다.\n",
    "    jajucha2.camera.show_image(depth, 'depth')  # 가져온 깊이 이미지를 'depth'라는 이름으로 화면에 표시합니다.\n",
    "\n",
    "    # 깊이 이미지에서 가로(width)와 세로(height) 길이를 추출하여 정의합니다.\n",
    "    height, width = depth.shape[:2]\n",
    "    \n",
    "    # 이미지의 중심 좌표를 설정합니다 (가로와 세로의 중간 지점).\n",
    "    center_x, center_y = width // 2, height // 2\n",
    "\n",
    "    # 추출할 영역의 크기를 정의합니다 (60x60 크기의 영역).\n",
    "    region_size = 60\n",
    "\n",
    "    # 추출할 60x60 영역의 좌상단 (왼쪽 상단) 좌표를 계산합니다.\n",
    "    start_x = center_x - region_size // 2  # 중앙에서 사각형 크기의 절반만큼 왼쪽으로 이동.\n",
    "    start_y = center_y - region_size // 2  # 중앙에서 사각형 크기의 절반만큼 위로 이동.\n",
    "\n",
    "    # 이미지 중앙에서 60x60 크기의 영역을 추출합니다.\n",
    "    center_region = depth[start_y:start_y + region_size, start_x:start_x + region_size]\n",
    "\n",
    "    # 추출된 영역의 모든 픽셀 값의 평균을 계산합니다.\n",
    "    mean_value = np.mean(center_region)\n",
    "\n",
    "    # 출력된 값은 평균 밝기 값으로, 0-255 사이의 값을 가집니다.\n",
    "    print(mean_value)\n",
    "\n",
    "    # 만약 평균값이 100보다 작다면 (어두운 경우), 차량의 모터를 멈추고 경고음을 5초 동안 울립니다.\n",
    "    if(mean_value < 100):\n",
    "        jajucha2.control.set_motor(0, 0, 5)  # 좌, 우 모터 속도를 0으로 설정 (정지), 경고음 5초 재생.\n",
    "    else:\n",
    "        jajucha2.control.set_motor(0, 0, 0)  # 평균값이 100 이상일 경우, 차량 정지 및 경고음 없음.\n"
   ]
  }
 ],
 "metadata": {
  "kernelspec": {
   "display_name": "Python 3 (ipykernel)",
   "language": "python",
   "name": "python3"
  },
  "language_info": {
   "codemirror_mode": {
    "name": "ipython",
    "version": 3
   },
   "file_extension": ".py",
   "mimetype": "text/x-python",
   "name": "python",
   "nbconvert_exporter": "python",
   "pygments_lexer": "ipython3",
   "version": "3.8.10"
  }
 },
 "nbformat": 4,
 "nbformat_minor": 4
}
