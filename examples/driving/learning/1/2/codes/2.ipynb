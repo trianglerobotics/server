{
 "cells": [
  {
   "cell_type": "markdown",
   "metadata": {},
   "source": [
    "#### CELL-1 코드리뷰 \n",
    "\n",
    "- <strong>import jajucha2</strong> -> 자주차 라이브러리를 가져옵니다"
   ]
  },
  {
   "cell_type": "code",
   "execution_count": null,
   "metadata": {},
   "outputs": [],
   "source": [
    "import jajucha2"
   ]
  },
  {
   "cell_type": "markdown",
   "metadata": {},
   "source": [
    "<br></br>"
   ]
  },
  {
   "cell_type": "markdown",
   "metadata": {},
   "source": [
    "#### CELL-2 코드리뷰 \n",
    "\n",
    "- <strong>image = jajucha2.camera.get_image()</strong> -> 자주차 에서 이미지를 가져옵니다\n",
    "- <strong>(V, L, R), grid = jajucha2.camera.gridFront(image)</strong> -> 자주차 에서 그리드 이미지와 V,L,R값을 가져옵니다\n",
    "- <strong>jajucha2.camera.show_image(grid)</strong> -> 그리드 이미지를 출력합니다"
   ]
  },
  {
   "cell_type": "code",
   "execution_count": null,
   "metadata": {},
   "outputs": [],
   "source": [
    "image = jajucha2.camera.get_image()\n",
    "(V, L, R), grid = jajucha2.camera.gridFront(image)\n",
    "jajucha2.camera.show_image(grid)"
   ]
  },
  {
   "cell_type": "markdown",
   "metadata": {},
   "source": [
    "<br></br>"
   ]
  },
  {
   "cell_type": "markdown",
   "metadata": {},
   "source": [
    "#### CELL-3 코드리뷰 \n",
    "\n",
    "- <strong>print(V)</strong> -> V 값 전체를 출력합니다\n",
    "- <strong>print(\"V0 \",V[0],\"V1 \",V[1],\"V2 \",V[2],\"V3 \",V[3],\"V4 \",V[4],\"V5 \",V[5],\"V6 \",V[6])</strong> -> 7개의 V값을 각각 출력합니다"
   ]
  },
  {
   "cell_type": "code",
   "execution_count": null,
   "metadata": {},
   "outputs": [],
   "source": [
    "print(V)\n",
    "print(\"V0 : \",V[0],\"V1 : \",V[1],\"V2 : \",V[2],\"V3 : \",V[3],\"V4 : \",V[4],\"V5 : \",V[5],\"V6 : \",V[6])"
   ]
  },
  {
   "cell_type": "markdown",
   "metadata": {},
   "source": [
    "<br></br>"
   ]
  },
  {
   "cell_type": "markdown",
   "metadata": {},
   "source": [
    "#### CELL-4 코드리뷰 \n",
    "\n",
    "- <strong>print(L)</strong> -> L 값 전체를 출력합니다\n",
    "- <strong>print(\"L0 \",L[0],\"L1 \",L[1],\"L2 \",L[2])</strong> -> 3개의 L값을 각각 출력합니다"
   ]
  },
  {
   "cell_type": "code",
   "execution_count": null,
   "metadata": {},
   "outputs": [],
   "source": [
    "print(L)\n",
    "print(\"L0 : \",L[0],\"L1 : \",L[1],\"L2 : \",L[2])"
   ]
  },
  {
   "cell_type": "markdown",
   "metadata": {},
   "source": [
    "<br></br>"
   ]
  },
  {
   "cell_type": "markdown",
   "metadata": {},
   "source": [
    "#### CELL-5 코드리뷰 \n",
    "\n",
    "- <strong>print(R)</strong> -> R 값 전체를 출력합니다\n",
    "- <strong>print(\"R0\",R[0],\"R1 \",R[1],\"R2 \",R[2])</strong> -> 3개의 R값을 각각 출력합니다"
   ]
  },
  {
   "cell_type": "code",
   "execution_count": null,
   "metadata": {},
   "outputs": [],
   "source": [
    "print(R)\n",
    "print(\"R0 : \",R[0],\"R1 : \",R[1],\"R2 : \",R[2])"
   ]
  }
 ],
 "metadata": {
  "kernelspec": {
   "display_name": "Python 3 (ipykernel)",
   "language": "python",
   "name": "python3"
  },
  "language_info": {
   "codemirror_mode": {
    "name": "ipython",
    "version": 3
   },
   "file_extension": ".py",
   "mimetype": "text/x-python",
   "name": "python",
   "nbconvert_exporter": "python",
   "pygments_lexer": "ipython3",
   "version": "3.8.10"
  }
 },
 "nbformat": 4,
 "nbformat_minor": 4
}
