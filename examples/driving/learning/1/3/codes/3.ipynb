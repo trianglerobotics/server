{
 "cells": [
  {
   "cell_type": "markdown",
   "metadata": {},
   "source": [
    "#### CELL-1 코드리뷰 \n",
    "\n",
    "- <strong>import jajucha2</strong> -> 자주차 라이브러리를 가져옵니다"
   ]
  },
  {
   "cell_type": "code",
   "execution_count": null,
   "metadata": {},
   "outputs": [],
   "source": [
    "import jajucha2"
   ]
  },
  {
   "cell_type": "markdown",
   "metadata": {},
   "source": [
    "<br></br>"
   ]
  },
  {
   "cell_type": "markdown",
   "metadata": {},
   "source": [
    "#### CELL-2 코드리뷰 \n",
    "- <strong>while True:</strong> -> 무한 반복합니다\n",
    "- <strong>image = jajucha2.camera.get_image()</strong> -> 중간 카메라에서 이미지를 가져옵니다\n",
    "- <strong>(V, L, R), grid = jajucha2.camera.gridFront(image)</strong> -> 이미지에 그리드를 그리고 V,L,R 그리드 이미지를 가져옵니다\n",
    "- <strong>if(V[5] < 100):</strong> -> 만약 V[5]의 값이 100보다 작다면\n",
    "- <strong>jajucha2.control.set_motor(-10,-10,5)</strong> -> 조향각을 왼쪽으로 조정합니다\n",
    "- <strong>else:</strong> -> if를 충족하지 않는다면\n",
    "- <strong>jajucha2.control.set_motor(0,0,5)</strong> -> 자주차를 직진합니다"
   ]
  },
  {
   "cell_type": "code",
   "execution_count": null,
   "metadata": {},
   "outputs": [],
   "source": [
    "while True:\n",
    "    image = jajucha2.camera.get_image()\n",
    "    (V, L, R), grid = jajucha2.camera.gridFront(image)\n",
    "    jajucha2.camera.show_image(grid)\n",
    "\n",
    "    if(V[5] < 100):\n",
    "        jajucha2.control.set_motor(-10,-10,5)\n",
    "    else:\n",
    "        jajucha2.control.set_motor(0,0,5)"
   ]
  }
 ],
 "metadata": {
  "kernelspec": {
   "display_name": "Python 3 (ipykernel)",
   "language": "python",
   "name": "python3"
  },
  "language_info": {
   "codemirror_mode": {
    "name": "ipython",
    "version": 3
   },
   "file_extension": ".py",
   "mimetype": "text/x-python",
   "name": "python",
   "nbconvert_exporter": "python",
   "pygments_lexer": "ipython3",
   "version": "3.8.10"
  }
 },
 "nbformat": 4,
 "nbformat_minor": 4
}
