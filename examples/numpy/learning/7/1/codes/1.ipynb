{
 "cells": [
  {
   "cell_type": "markdown",
   "metadata": {},
   "source": [
    "#### A"
   ]
  },
  {
   "cell_type": "code",
   "execution_count": null,
   "metadata": {},
   "outputs": [],
   "source": [
    "# 넘파이 라이브러리를 가져옵니다.\n",
    "import numpy as np\n",
    "\n",
    "# (4, 5) 형태의 2차원 배열을 생성합니다\n",
    "array1 = np.array([[1, 9, 8, 5, 3],\n",
    "                   [6, 7, 11, 9, 6],\n",
    "                   [10, 17, 3, 10, 8],\n",
    "                   [1, 9, 10, 11, 5]])\n",
    "\n",
    "# array1을 10 x 2로 재구성한 새로운 배열을 생성합니다.\n",
    "reshaped_array = np.reshape(array1, (2, -1))\n",
    "\n",
    "# 원본 배열을 출력합니다.\n",
    "print(\"원본 배열:\\n\", array1)\n",
    "\n",
    "# 재구성한 배열을 출력합니다.\n",
    "print(\"수정 배열:\\n\", reshaped_array)"
   ]
  },
  {
   "cell_type": "markdown",
   "metadata": {},
   "source": [
    "#### B"
   ]
  },
  {
   "cell_type": "code",
   "execution_count": null,
   "metadata": {},
   "outputs": [],
   "source": [
    "# 넘파이 라이브러리를 가져옵니다.\n",
    "import numpy as np\n",
    "\n",
    "# (3, 3) 형태의의 2차원 배열을 생성합니다\n",
    "array2 = np.array([[1, 9, 8],\n",
    "                   [6, 7, 9],\n",
    "                   [10, 17, 3]])\n",
    "\n",
    "# array2을 평탄화한 새로운 배열을 생성합니다.\n",
    "flattened_array = array2.flatten()\n",
    "\n",
    "# 원본 배열을 출력합니다.\n",
    "print(\"원본 배열:\\n\", array2)\n",
    "\n",
    "# 평탄화한 배열을 출력합니다.\n",
    "print(\"수정 배열:\\n\", flattened_array)"
   ]
  }
 ],
 "metadata": {
  "kernelspec": {
   "display_name": "Python 3 (ipykernel)",
   "language": "python",
   "name": "python3"
  },
  "language_info": {
   "codemirror_mode": {
    "name": "ipython",
    "version": 3
   },
   "file_extension": ".py",
   "mimetype": "text/x-python",
   "name": "python",
   "nbconvert_exporter": "python",
   "pygments_lexer": "ipython3",
   "version": "3.8.10"
  }
 },
 "nbformat": 4,
 "nbformat_minor": 4
}
