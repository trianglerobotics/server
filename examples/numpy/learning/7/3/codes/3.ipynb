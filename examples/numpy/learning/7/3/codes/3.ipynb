{
 "cells": [
  {
   "cell_type": "markdown",
   "metadata": {},
   "source": [
    "#### A"
   ]
  },
  {
   "cell_type": "code",
   "execution_count": null,
   "metadata": {},
   "outputs": [],
   "source": [
    "# 넘파이 라이브러리를 가져옵니다.\n",
    "import numpy as np\n",
    "\n",
    "# (6, 3) 형태의 2차원 배열을 생성합니다\n",
    "array1 = np.array([[1, 2, 3], \n",
    "                   [4, 5, 6], \n",
    "                   [7, 8, 9],\n",
    "                   [10, 11, 12],\n",
    "                   [13, 14, 15],\n",
    "                   [16, 17, 18]])\n",
    "\n",
    "\n",
    "# array1을 수직 방향으로 3등분하여 출력합니다.\n",
    "print(np.vsplit(array1, 3))"
   ]
  },
  {
   "cell_type": "markdown",
   "metadata": {},
   "source": [
    "#### B"
   ]
  },
  {
   "cell_type": "code",
   "execution_count": null,
   "metadata": {},
   "outputs": [],
   "source": [
    "# 넘파이 라이브러리를 가져옵니다.\n",
    "import numpy as np\n",
    "\n",
    "# (3, 6) 형태의 2차원 배열을 생성합니다\n",
    "array2 = np.array([[1, 2, 3, 4, 5, 6], \n",
    "                   [4, 5, 6, 7, 8, 9], \n",
    "                   [7, 8, 9, 10, 11, 12]])\n",
    "\n",
    "# array2을 수평 방향으로 3등분한 배열을 생성하여 출력합니다.\n",
    "print(np.vsplit(array2, 3))"
   ]
  },
  {
   "cell_type": "markdown",
   "metadata": {},
   "source": [
    "#### C"
   ]
  },
  {
   "cell_type": "code",
   "execution_count": null,
   "metadata": {},
   "outputs": [],
   "source": [
    "# 넘파이 라이브러리를 가져옵니다.\n",
    "import numpy as np\n",
    "\n",
    "# (4, 3) 형태의 2차원 배열을 생성합니다\n",
    "array3 = np.array([[1, 2, 3], \n",
    "                   [4, 5, 6], \n",
    "                   [7, 8, 9],\n",
    "                   [10, 11, 12]])\n",
    "\n",
    "# array2을 수직 방향으로 3분할한 배열을 생성하여 출력합니다.\n",
    "print(np.array_split(array3, 3, axis = 0))"
   ]
  },
  {
   "cell_type": "markdown",
   "metadata": {},
   "source": [
    "#### D"
   ]
  },
  {
   "cell_type": "code",
   "execution_count": null,
   "metadata": {},
   "outputs": [],
   "source": [
    "# 넘파이 라이브러리를 가져옵니다.\n",
    "import numpy as np\n",
    "\n",
    "# (3, 3) 형태의 2차원 배열을 생성합니다\n",
    "array4 = np.array([[1, 2, 3], \n",
    "                   [4, 5, 6], \n",
    "                   [7, 8, 9]])\n",
    "\n",
    "# array2을 수직 방향으로 3분할한 배열을 생성하여 출력합니다.\n",
    "print(np.array_split(array4, 3, axis = 1))"
   ]
  }
 ],
 "metadata": {
  "kernelspec": {
   "display_name": "Python 3 (ipykernel)",
   "language": "python",
   "name": "python3"
  },
  "language_info": {
   "codemirror_mode": {
    "name": "ipython",
    "version": 3
   },
   "file_extension": ".py",
   "mimetype": "text/x-python",
   "name": "python",
   "nbconvert_exporter": "python",
   "pygments_lexer": "ipython3",
   "version": "3.8.10"
  }
 },
 "nbformat": 4,
 "nbformat_minor": 4
}
