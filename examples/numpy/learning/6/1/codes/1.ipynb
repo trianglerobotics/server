{
 "cells": [
  {
   "cell_type": "markdown",
   "metadata": {},
   "source": [
    "#### A"
   ]
  },
  {
   "cell_type": "code",
   "execution_count": null,
   "metadata": {},
   "outputs": [],
   "source": [
    "# 넘파이 라이브러리를 가져옵니다.\n",
    "import numpy as np\n",
    "\n",
    "# 3차원 배열을 생성합니다\n",
    "array1 = np.array([[[1, 2, 3], \n",
    "                    [9, 4, 5]],\n",
    "                   [[3, 1, 17], \n",
    "                    [7, 8, 9]]])\n",
    "\n",
    "# ‘9’와 ‘17’을 인덱싱합니다.\n",
    "indexing1 = array1[0, 1, 0]\n",
    "indexing2 = array1[1, 0, 2]\n",
    "\n",
    "# 인덱싱한 데이터를 출력합니다.\n",
    "print(indexing1)\n",
    "print(indexing2)"
   ]
  }
 ],
 "metadata": {
  "kernelspec": {
   "display_name": "Python 3 (ipykernel)",
   "language": "python",
   "name": "python3"
  },
  "language_info": {
   "codemirror_mode": {
    "name": "ipython",
    "version": 3
   },
   "file_extension": ".py",
   "mimetype": "text/x-python",
   "name": "python",
   "nbconvert_exporter": "python",
   "pygments_lexer": "ipython3",
   "version": "3.8.10"
  }
 },
 "nbformat": 4,
 "nbformat_minor": 4
}
