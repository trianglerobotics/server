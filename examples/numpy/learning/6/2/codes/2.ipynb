{
 "cells": [
  {
   "cell_type": "markdown",
   "metadata": {},
   "source": [
    "#### A"
   ]
  },
  {
   "cell_type": "code",
   "execution_count": null,
   "metadata": {},
   "outputs": [],
   "source": [
    "# 넘파이 라이브러리를 가져옵니다.\n",
    "import numpy as np\n",
    "\n",
    "# 2차원 배열을 생성합니다\n",
    "array1 = np.array(['A', 'B', 'C', 'D', 'F', 'E'])\n",
    "\n",
    "# 원하는 부분을 슬라이싱합니다.\n",
    "Slicing1 = array1[1:6:2]\n",
    "\n",
    "# 슬라이싱한 결과를 출력합니다.\n",
    "print(Slicing1)"
   ]
  },
  {
   "cell_type": "markdown",
   "metadata": {},
   "source": [
    "#### B"
   ]
  },
  {
   "cell_type": "code",
   "execution_count": null,
   "metadata": {},
   "outputs": [],
   "source": [
    "# 넘파이 라이브러리를 가져옵니다.\n",
    "import numpy as np\n",
    "\n",
    "# 2차원 배열을 생성합니다\n",
    "array2 = np.array([[1, 9, 8], \n",
    "                   [6, 7, 11],\n",
    "                   [10, 17, 3]])\n",
    "\n",
    "# 원하는 부분을 슬라이싱합니다.\n",
    "Slicing2 = array2[1:3, 0:2]\n",
    "\n",
    "# 슬라이싱한 결과를 출력합니다.\n",
    "print(Slicing2)"
   ]
  },
  {
   "cell_type": "markdown",
   "metadata": {},
   "source": [
    "#### C"
   ]
  },
  {
   "cell_type": "code",
   "execution_count": null,
   "metadata": {},
   "outputs": [],
   "source": [
    "# 넘파이 라이브러리를 가져옵니다.\n",
    "import numpy as np\n",
    "\n",
    "# 3차원 배열을 생성합니다\n",
    "array3 = np.array([ [['a', 'b', 'c', 'd', 'e'],  ['f', 'g', 'h', 'i', 'j']], [['k', 'l', 'm', 'n', 'o'],  ['p', 'q', 'r', 's', 't']] ])\n",
    "\n",
    "# 원하는 부분을 슬라이싱합니다.\n",
    "Slicing2 = array1[0: , 0:2, :]\n",
    "\n",
    "# 슬라이싱한 결과를 출력합니다.\n",
    "print(Slicing2)"
   ]
  }
 ],
 "metadata": {
  "kernelspec": {
   "display_name": "Python 3 (ipykernel)",
   "language": "python",
   "name": "python3"
  },
  "language_info": {
   "codemirror_mode": {
    "name": "ipython",
    "version": 3
   },
   "file_extension": ".py",
   "mimetype": "text/x-python",
   "name": "python",
   "nbconvert_exporter": "python",
   "pygments_lexer": "ipython3",
   "version": "3.8.10"
  }
 },
 "nbformat": 4,
 "nbformat_minor": 4
}
