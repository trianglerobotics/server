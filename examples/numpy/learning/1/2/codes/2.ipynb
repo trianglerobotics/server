{
 "cells": [
  {
   "cell_type": "markdown",
   "metadata": {},
   "source": [
    "#### A"
   ]
  },
  {
   "cell_type": "code",
   "execution_count": null,
   "metadata": {},
   "outputs": [],
   "source": [
    "# 넘파이 라이브러리를 ‘np’로 별칭을 지정해 불러옵니다.\n",
    "import numpy as np\n",
    "# Time 라이브러리를 불러옵니다.\n",
    "import time\n",
    " \n",
    "# Python 리스트와 넘파이 배열 생성합니다.\n",
    "list_data = list(range(1, 1000001))\n",
    "np_data = np.array(list_data)\n",
    "\n",
    "# Python 리스트의 연산 시간(각 숫자 하나씩 하나씩 따로 2를 곱하여 계산)\n",
    "start = time.time()\n",
    "list_result = [x * 2 for x in list_data]\n",
    "x = time.time() - start\n",
    "print(\"리스트 연산 시간:\", time.time() - start)\n",
    "\n",
    "# 넘파이 배열의 연산 시간(모든 숫자에 한 번에 2를 곱하여 계산\n",
    "start = time.time()\n",
    "np_result = np_data * 2\n",
    "y = time.time() - start\n",
    "print(\"넘파이 연산 시간:\", time.time() - start)\n",
    "print(\"넘파이의 연산이 리스트보다\", x // y, \"배 빨랐습니다.\")"
   ]
  }
 ],
 "metadata": {
  "kernelspec": {
   "display_name": "Python 3 (ipykernel)",
   "language": "python",
   "name": "python3"
  },
  "language_info": {
   "codemirror_mode": {
    "name": "ipython",
    "version": 3
   },
   "file_extension": ".py",
   "mimetype": "text/x-python",
   "name": "python",
   "nbconvert_exporter": "python",
   "pygments_lexer": "ipython3",
   "version": "3.8.10"
  }
 },
 "nbformat": 4,
 "nbformat_minor": 4
}
