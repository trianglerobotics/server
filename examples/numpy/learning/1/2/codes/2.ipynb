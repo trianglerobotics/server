{
 "cells": [
  {
   "cell_type": "markdown",
   "metadata": {},
   "source": [
    "#### A"
   ]
  },
  {
   "cell_type": "code",
   "execution_count": null,
   "metadata": {},
   "outputs": [],
   "source": [
    "# 넘파이 임포트\n",
    "import numpy as np\n",
    "\n",
    "# 기본적인 배열 생성\n",
    "arr = np._____([1, 2, 3, 4, 5])\n",
    "print(\"넘파이 배열:\", arr)\n",
    "\n",
    "# 배열의 합 계산\n",
    "print(\"합계:\", np.sum(arr))\n",
    "\n",
    "# 배열 요소 제곱\n",
    "print(\"제곱된 배열:\", arr ** 2)"
   ]
  },
  {
   "cell_type": "markdown",
   "metadata": {},
   "source": [
    "#### B"
   ]
  },
  {
   "cell_type": "code",
   "execution_count": null,
   "metadata": {},
   "outputs": [],
   "source": [
    "# 넘파이 임포트\n",
    "import numpy as np\n",
    "import time\n",
    "\n",
    "# Python 리스트와 넘파이 배열 생성\n",
    "list_data = list(range(1, 1000001))\n",
    "np_data = np.array(list_data)\n",
    "\n",
    "# Python 리스트의 연산\n",
    "start = time.time()\n",
    "list_result = [x * 2 for x in list_data]\n",
    "print(\"리스트 연산 시간:\", time.time() - start)\n",
    "\n",
    "# 넘파이 배열의 연산\n",
    "start = time.time()\n",
    "np_result = np_data * 2\n",
    "print(\"넘파이 연산 시간:\", time.time() - start)"
   ]
  }
 ],
 "metadata": {
  "kernelspec": {
   "display_name": "Python 3 (ipykernel)",
   "language": "python",
   "name": "python3"
  },
  "language_info": {
   "codemirror_mode": {
    "name": "ipython",
    "version": 3
   },
   "file_extension": ".py",
   "mimetype": "text/x-python",
   "name": "python",
   "nbconvert_exporter": "python",
   "pygments_lexer": "ipython3",
   "version": "3.8.10"
  }
 },
 "nbformat": 4,
 "nbformat_minor": 4
}
