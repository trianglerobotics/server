{
 "cells": [
  {
   "cell_type": "markdown",
   "metadata": {},
   "source": [
    "### A"
   ]
  },
  {
   "cell_type": "code",
   "execution_count": null,
   "metadata": {},
   "outputs": [],
   "source": [
    "import numpy as np\n",
    "\n",
    "# 1D 배열 생성\n",
    "arr = np.array([10, 20, 30, 40, 50])\n",
    "\n",
    "# 인덱싱 (0부터 시작)\n",
    "print(arr[0]) \n",
    "print(arr[3])  \n",
    "\n",
    "# 음수 인덱스 (끝에서부터 접근)\n",
    "print(arr[-1]) \n",
    "print(arr[-3]) "
   ]
  },
  {
   "cell_type": "markdown",
   "metadata": {},
   "source": [
    "### B"
   ]
  },
  {
   "cell_type": "code",
   "execution_count": null,
   "metadata": {},
   "outputs": [],
   "source": [
    "import numpy as np\n",
    "\n",
    "# 1D 배열 생성\n",
    "arr = np.array([10, 20, 30, 40, 50])\n",
    "\n",
    "# 슬라이싱\n",
    "print(arr[1:4]) \n",
    "print(arr[:3])  \n",
    "print(arr[2:])  \n",
    "\n",
    "# 스텝(step) 사용\n",
    "print(arr[::2])  \n",
    "print(arr[::-1]) "
   ]
  },
  {
   "cell_type": "markdown",
   "metadata": {},
   "source": [
    "### C"
   ]
  },
  {
   "cell_type": "code",
   "execution_count": null,
   "metadata": {},
   "outputs": [],
   "source": [
    "import numpy as np\n",
    "\n",
    "# 2D 배열 생성\n",
    "arr2d = np.array([[1, 2, 3],\n",
    "                  [4, 5, 6],\n",
    "                  [7, 8, 9]])\n",
    "\n",
    "# 특정 요소 추출\n",
    "print(arr2d[0, 1]) \n",
    "print(arr2d[2, -1])\n",
    "\n",
    "# 행 또는 열 전체 추출\n",
    "print(arr2d[1])     \n",
    "print(arr2d[:, 2])\n"
   ]
  },
  {
   "cell_type": "markdown",
   "metadata": {},
   "source": [
    " ### D"
   ]
  },
  {
   "cell_type": "code",
   "execution_count": null,
   "metadata": {},
   "outputs": [],
   "source": [
    "import numpy as np\n",
    "\n",
    "# 2D 배열 생성\n",
    "arr2d = np.array([[1, 2, 3],\n",
    "                  [4, 5, 6],\n",
    "                  [7, 8, 9]])\n",
    "\n",
    "# 행과 열 슬라이싱\n",
    "print(arr2d[0:2, 1:3])\n",
    "\n",
    "# 행 전체, 열 일부\n",
    "print(arr2d[:, 1:3])\n",
    "\n",
    "# 역순 슬라이싱\n",
    "print(arr2d[::-1, ::-1])"
   ]
  },
  {
   "cell_type": "markdown",
   "metadata": {},
   "source": [
    "### E"
   ]
  },
  {
   "cell_type": "code",
   "execution_count": null,
   "metadata": {},
   "outputs": [],
   "source": [
    "import numpy as np\n",
    "\n",
    "# 3D 배열 생성\n",
    "arr3d = np.array([[[1, 2, 3],\n",
    "                   [4, 5, 6]],\n",
    "                  [[7, 8, 9],\n",
    "                   [10, 11, 12]]])\n",
    "\n",
    "# 특정 요소 추출\n",
    "print(arr3d[0, 1, 2]) \n",
    "print(arr3d[1, 0, 1]) \n",
    "\n",
    "# 특정 레이어 추출\n",
    "print(arr3d[0]) "
   ]
  },
  {
   "cell_type": "markdown",
   "metadata": {},
   "source": [
    "### F"
   ]
  },
  {
   "cell_type": "code",
   "execution_count": null,
   "metadata": {},
   "outputs": [],
   "source": [
    "import numpy as np\n",
    "\n",
    "# 3D 배열 생성\n",
    "arr3d = np.array([[[1, 2, 3],\n",
    "                   [4, 5, 6]],\n",
    "                  [[7, 8, 9],\n",
    "                   [10, 11, 12]]])\n",
    "\n",
    "# 특정 레이어 슬라이싱\n",
    "print(arr3d[0:1, :, 1:3])\n",
    "\n",
    "# 다차원 슬라이싱\n",
    "print(arr3d[:, 1, 1:])"
   ]
  }
 ],
 "metadata": {
  "kernelspec": {
   "display_name": "Python 3 (ipykernel)",
   "language": "python",
   "name": "python3"
  },
  "language_info": {
   "codemirror_mode": {
    "name": "ipython",
    "version": 3
   },
   "file_extension": ".py",
   "mimetype": "text/x-python",
   "name": "python",
   "nbconvert_exporter": "python",
   "pygments_lexer": "ipython3",
   "version": "3.8.10"
  }
 },
 "nbformat": 4,
 "nbformat_minor": 4
}
