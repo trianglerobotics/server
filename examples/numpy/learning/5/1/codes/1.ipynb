{
 "cells": [
  {
   "cell_type": "markdown",
   "metadata": {},
   "source": [
    "#### A"
   ]
  },
  {
   "cell_type": "code",
   "execution_count": null,
   "metadata": {},
   "outputs": [],
   "source": [
    "# 넘파이 라이브러리를 가져옵니다.\n",
    "import numpy as np \n",
    "\n",
    "# 1차원 배열을 생성합니다\n",
    "array1 = np.array([1, 4, 9, 16]) \n",
    "\n",
    "# 각 배열 요소의 제곱근을 구해 새 배열을 생성합니다.\n",
    "sqrt_arr = np.sqrt(array1) \n",
    "\n",
    "# 반환된 배열을 출력합니다.\n",
    "print(\"제곱근:\", sqrt_arr)"
   ]
  },
  {
   "cell_type": "markdown",
   "metadata": {},
   "source": [
    "#### B"
   ]
  },
  {
   "cell_type": "code",
   "execution_count": null,
   "metadata": {},
   "outputs": [],
   "source": [
    "# 넘파이 라이브러리를 가져옵니다.\n",
    "import numpy as np \n",
    "\n",
    "# 계산할 1차원 배열을 생성합니다.\n",
    "array2 = np.array([1, 2, 3])\n",
    "\n",
    "# 배열 요소의 지수 함수 값을 구해 새 배열을 생성합니다.\n",
    "exp_arr = np.exp(array2)\n",
    "\n",
    "# 반환된 배열을 출력합니다.\n",
    "print(\"지수 함수 값:\", exp_arr)"
   ]
  },
  {
   "cell_type": "markdown",
   "metadata": {},
   "source": [
    "#### C"
   ]
  },
  {
   "cell_type": "code",
   "execution_count": null,
   "metadata": {},
   "outputs": [],
   "source": [
    "# 넘파이 라이브러리를 가져옵니다.\n",
    "import numpy as np \n",
    "\n",
    "# 계산할 1차원 배열을 생성합니다.\n",
    "array3 = np.array([1, 2, 3])\n",
    "\n",
    "# 배열 요소의 로그 함수 값을 구해 새 배열을 생성합니다.\n",
    "log_arr = np.log(array3)\n",
    "\n",
    "# 반환된 배열을 출력합니다.\n",
    "print(\"로그 함수 값:\", log_arr)"
   ]
  },
  {
   "cell_type": "markdown",
   "metadata": {},
   "source": [
    "#### D"
   ]
  },
  {
   "cell_type": "code",
   "execution_count": null,
   "metadata": {},
   "outputs": [],
   "source": [
    "# 넘파이 라이브러리를 가져옵니다.\n",
    "import numpy as np \n",
    "\n",
    "# 라디안 단위로 바꿔 1차원 배열을 생성합니다.\n",
    "array4 = np.deg2rad(np.array([1, 2, 3, 4])) \n",
    "\n",
    "# 각 배열 요소의 사인 값을 구해 새 배열을 생성합니다.\n",
    "sin_arr = np.sin(array4)\n",
    "\n",
    "# 각 배열 요소의 코사인 값을 구해 새 배열을 생성합니다.\n",
    "cos_arr = np.cos(array4)\n",
    "\n",
    "# 각 배열 요소의 코사인 값을 구해 새 배열을 생성합니다.\n",
    "tan_arr = np.tan(array4)\n",
    "\n",
    "# 반환된 배열을 출력합니다.\n",
    "print(\"사인 값:\", sin_arr)\n",
    "print(\"코사인 값:\", cos_arr)\n",
    "print(\"탄젠트트 값:\", tan_arr)"
   ]
  }
 ],
 "metadata": {
  "kernelspec": {
   "display_name": "Python 3 (ipykernel)",
   "language": "python",
   "name": "python3"
  },
  "language_info": {
   "codemirror_mode": {
    "name": "ipython",
    "version": 3
   },
   "file_extension": ".py",
   "mimetype": "text/x-python",
   "name": "python",
   "nbconvert_exporter": "python",
   "pygments_lexer": "ipython3",
   "version": "3.8.10"
  }
 },
 "nbformat": 4,
 "nbformat_minor": 4
}
