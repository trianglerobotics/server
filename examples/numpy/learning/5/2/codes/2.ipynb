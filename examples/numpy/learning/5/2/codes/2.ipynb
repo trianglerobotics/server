{
 "cells": [
  {
   "cell_type": "markdown",
   "metadata": {},
   "source": [
    "#### A"
   ]
  },
  {
   "cell_type": "code",
   "execution_count": null,
   "metadata": {},
   "outputs": [],
   "source": [
    "# 넘파이 라이브러리를 가져옵니다.\n",
    "import numpy as np \n",
    "\n",
    "# 2차원 배열을 생성합니다\n",
    "array = np.array([[1, 2, 3, 4], \n",
    "                  [5, 6, 7, 8]]) \n",
    "\n",
    "# 전체 배열 요소의 합을 출력합니다.\n",
    "print(np.sum(array))"
   ]
  },
  {
   "cell_type": "markdown",
   "metadata": {},
   "source": [
    "#### B"
   ]
  },
  {
   "cell_type": "code",
   "execution_count": null,
   "metadata": {},
   "outputs": [],
   "source": [
    "# 넘파이 라이브러리를 가져옵니다.\n",
    "import numpy as np \n",
    "\n",
    "# 2차원 배열을 생성합니다\n",
    "array = np.array([[1, 2, 3, 4], \n",
    "                  [5, 6, 7, 8]]) \n",
    "\n",
    "# 전체 배열 요소의 평균을 출력합니다.\n",
    "print(np.mean(array))"
   ]
  },
  {
   "cell_type": "markdown",
   "metadata": {},
   "source": [
    "#### C"
   ]
  },
  {
   "cell_type": "code",
   "execution_count": null,
   "metadata": {},
   "outputs": [],
   "source": [
    "# 넘파이 라이브러리를 가져옵니다.\n",
    "import numpy as np \n",
    "\n",
    "# 2차원 배열을 생성합니다\n",
    "array = np.array([[1, 2, 3, 4], \n",
    "                  [5, 6, 7, 8]]) \n",
    "\n",
    "# 전체 배열 요소의 최댓값을 출력합니다.\n",
    "print(np.max(array))"
   ]
  },
  {
   "cell_type": "markdown",
   "metadata": {},
   "source": [
    "#### D"
   ]
  },
  {
   "cell_type": "code",
   "execution_count": null,
   "metadata": {},
   "outputs": [],
   "source": [
    "# 넘파이 라이브러리를 가져옵니다.\n",
    "import numpy as np \n",
    "\n",
    "# 2차원 배열을 생성합니다\n",
    "array = np.array([[1, 2, 3, 4], \n",
    "                  [5, 6, 7, 8]]) \n",
    "\n",
    "# 전체 배열 요소의 최댓값을 출력합니다.\n",
    "print(np.argmax(array, 1))"
   ]
  },
  {
   "cell_type": "markdown",
   "metadata": {},
   "source": [
    "#### E"
   ]
  },
  {
   "cell_type": "code",
   "execution_count": null,
   "metadata": {},
   "outputs": [],
   "source": [
    "# 넘파이 라이브러리를 가져옵니다.\n",
    "import numpy as np \n",
    "\n",
    "# 2차원 배열을 생성합니다\n",
    "array = np.array([[1, 2, 3, 4], \n",
    "                  [5, 6, 7, 8]]) \n",
    "\n",
    "# 전체 배열 요소의 최솟값을 출력합니다.\n",
    "print(np.min(array))"
   ]
  },
  {
   "cell_type": "markdown",
   "metadata": {},
   "source": [
    "#### F"
   ]
  },
  {
   "cell_type": "code",
   "execution_count": null,
   "metadata": {},
   "outputs": [],
   "source": [
    "# 넘파이 라이브러리를 가져옵니다.\n",
    "import numpy as np \n",
    "\n",
    "# 2차원 배열을 생성합니다\n",
    "array = np.array([[1, 2, 3, 4], \n",
    "                  [5, 6, 7, 8]]) \n",
    "\n",
    "# 전체 배열 요소의 최솟값을 출력합니다.\n",
    "print(np.argmin(array, 1))"
   ]
  },
  {
   "cell_type": "markdown",
   "metadata": {},
   "source": [
    "#### G"
   ]
  },
  {
   "cell_type": "code",
   "execution_count": null,
   "metadata": {},
   "outputs": [],
   "source": [
    "# 넘파이 라이브러리를 가져옵니다.\n",
    "import numpy as np \n",
    "\n",
    "# 2차원 배열을 생성합니다\n",
    "array = np.array([[1, 2, 3, 4], \n",
    "                  [5, 6, 7, 8]]) \n",
    "\n",
    "# 전체 배열 요소의 중앙값을 출력합니다.\n",
    "print(np.median(array))"
   ]
  },
  {
   "cell_type": "markdown",
   "metadata": {},
   "source": [
    "#### H"
   ]
  },
  {
   "cell_type": "code",
   "execution_count": null,
   "metadata": {},
   "outputs": [],
   "source": [
    "# 넘파이 라이브러리를 가져옵니다.\n",
    "import numpy as np \n",
    "\n",
    "# 2차원 배열을 생성합니다\n",
    "array = np.array([[1, 2, 3, 4], \n",
    "                  [5, 6, 7, 8]]) \n",
    "\n",
    "# 전체 배열 요소의 표준 편차값을 출력합니다.\n",
    "print(np.std(array))"
   ]
  }
 ],
 "metadata": {
  "kernelspec": {
   "display_name": "Python 3 (ipykernel)",
   "language": "python",
   "name": "python3"
  },
  "language_info": {
   "codemirror_mode": {
    "name": "ipython",
    "version": 3
   },
   "file_extension": ".py",
   "mimetype": "text/x-python",
   "name": "python",
   "nbconvert_exporter": "python",
   "pygments_lexer": "ipython3",
   "version": "3.8.10"
  }
 },
 "nbformat": 4,
 "nbformat_minor": 4
}
