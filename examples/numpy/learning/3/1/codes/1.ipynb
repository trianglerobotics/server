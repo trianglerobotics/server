{
 "cells": [
  {
   "cell_type": "markdown",
   "metadata": {},
   "source": [
    "#### A"
   ]
  },
  {
   "cell_type": "code",
   "execution_count": null,
   "metadata": {},
   "outputs": [],
   "source": [
    "import numpy as np\n",
    "\n",
    "# 배열과 스칼라 간 연산\n",
    "arr = np.array([1, 2, 3, 4])\n",
    "print(\"배열:\", arr)\n",
    "print(\"배열 + 5:\", arr + 5)\n",
    "print(\"배열 * 2:\", arr * 2)"
   ]
  },
  {
   "cell_type": "markdown",
   "metadata": {},
   "source": [
    "### B"
   ]
  },
  {
   "cell_type": "code",
   "execution_count": null,
   "metadata": {},
   "outputs": [],
   "source": [
    "import numpy as np\n",
    "\n",
    "# 두 배열 생성\n",
    "arr1 = np.array([1, 2, 3, 4])\n",
    "arr2 = np.array([5, 6, 7, 8])\n",
    "\n",
    "# 덧셈\n",
    "addition = arr1 + arr2\n",
    "print(\"배열 덧셈:\", addition)  # [6, 8, 10, 12]\n",
    "\n",
    "# 뺄셈\n",
    "subtraction = arr2 - arr1\n",
    "print(\"배열 뺄셈:\", subtraction)  # [4, 4, 4, 4]\n",
    "\n",
    "# 곱셈\n",
    "multiplication = arr1 * arr2\n",
    "print(\"배열 곱셈:\", multiplication)  # [5, 12, 21, 32]\n",
    "\n",
    "# 나눗셈\n",
    "division = arr2 / arr1\n",
    "print(\"배열 나눗셈:\", division)  # [5.0, 3.0, 2.333, 2.0]"
   ]
  },
  {
   "cell_type": "markdown",
   "metadata": {},
   "source": [
    "### C"
   ]
  },
  {
   "cell_type": "code",
   "execution_count": null,
   "metadata": {},
   "outputs": [],
   "source": [
    "import numpy as np\n",
    "\n",
    "# 배열 생성\n",
    "arr = np.array([2, 3, 4, 5])\n",
    "\n",
    "# 지수 연산\n",
    "exp_arr = arr ** 2  # 각 요소를 제곱\n",
    "print(\"지수 연산 (제곱):\", exp_arr)\n",
    "\n",
    "# np.power() 사용\n",
    "exp_power = np.power(arr, 3)  # 각 요소를 세제곱\n",
    "print(\"지수 연산 (세제곱):\", exp_power)"
   ]
  },
  {
   "cell_type": "markdown",
   "metadata": {},
   "source": [
    "### D"
   ]
  },
  {
   "cell_type": "code",
   "execution_count": null,
   "metadata": {},
   "outputs": [],
   "source": [
    "import numpy as np\n",
    "\n",
    "# 나머지 연산\n",
    "mod_arr = arr % 2  # 각 요소를 2로 나눈 나머지\n",
    "print(\"나머지 연산 (modulo):\", mod_arr)\n",
    "\n",
    "# np.mod() 사용\n",
    "mod_np = np.mod(arr, 3)  # 각 요소를 3으로 나눈 나머지\n",
    "print(\"나머지 연산 (np.mod):\", mod_np)"
   ]
  }
 ],
 "metadata": {
  "kernelspec": {
   "display_name": "Python 3 (ipykernel)",
   "language": "python",
   "name": "python3"
  },
  "language_info": {
   "codemirror_mode": {
    "name": "ipython",
    "version": 3
   },
   "file_extension": ".py",
   "mimetype": "text/x-python",
   "name": "python",
   "nbconvert_exporter": "python",
   "pygments_lexer": "ipython3",
   "version": "3.8.10"
  }
 },
 "nbformat": 4,
 "nbformat_minor": 4
}
