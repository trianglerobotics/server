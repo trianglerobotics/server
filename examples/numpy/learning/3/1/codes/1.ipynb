{
 "cells": [
  {
   "cell_type": "markdown",
   "metadata": {},
   "source": [
    "#### A"
   ]
  },
  {
   "cell_type": "code",
   "execution_count": null,
   "metadata": {},
   "outputs": [],
   "source": [
    "# 넘파이 라이브러리를 가져옵니다.\n",
    "import numpy as np \n",
    " \n",
    "# 파이썬 리스트를 생성합니다.\n",
    "A = [1, 2, 3, 4]\n",
    "\n",
    "# 변수에 저장된 리스트를 넘파이 배열로 바꿔 새 배열을 생성합니다.\n",
    "array = np.array(A) \n",
    "\n",
    "# 배열을 출력합니다.\n",
    "print(array)"
   ]
  },
  {
   "cell_type": "markdown",
   "metadata": {},
   "source": [
    "#### B"
   ]
  },
  {
   "cell_type": "code",
   "execution_count": null,
   "metadata": {},
   "outputs": [],
   "source": [
    "# 넘파이 라이브러리를 가져옵니다.\n",
    "import numpy as np \n",
    " \n",
    "# 정수형 리스트를 생성합니다.\n",
    "B = [1, 2, 3, 4]\n",
    "\n",
    "# 정수형 리스트를 실수형 넘파이 배열로 바꿔 새 배열을 생성합니다.\n",
    "array2 = np.array(B, dtype = np.float16)\n",
    "\n",
    "# 배열을 출력합니다.\n",
    "print(array2)\n",
    "\n",
    "#배열의 데이터 타입을 출력합니다.\n",
    "print(\"이 배열의 데이터 타입:\", array2.dtype) "
   ]
  }
 ],
 "metadata": {
  "kernelspec": {
   "display_name": "Python 3 (ipykernel)",
   "language": "python",
   "name": "python3"
  },
  "language_info": {
   "codemirror_mode": {
    "name": "ipython",
    "version": 3
   },
   "file_extension": ".py",
   "mimetype": "text/x-python",
   "name": "python",
   "nbconvert_exporter": "python",
   "pygments_lexer": "ipython3",
   "version": "3.8.10"
  }
 },
 "nbformat": 4,
 "nbformat_minor": 4
}
