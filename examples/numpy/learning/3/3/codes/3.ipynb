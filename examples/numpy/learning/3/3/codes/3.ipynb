{
 "cells": [
  {
   "cell_type": "markdown",
   "metadata": {},
   "source": [
    "#### A"
   ]
  },
  {
   "cell_type": "code",
   "execution_count": null,
   "metadata": {},
   "outputs": [],
   "source": [
    "import numpy as np\n",
    "        \n",
    "# 배열의 기본 통계 함수\n",
    "arr = np.array([1, 2, 3, 4, 5])\n",
    "print(\"합계:\", np.____(arr))\n",
    "print(\"평균:\", np.____(arr))\n",
    "print(\"최댓값:\", np.____(arr))\n",
    "print(\"최솟값:\", np.____(arr))\n",
    "print(\"표준편차:\", np.____(arr))\n",
    "print(\"분산:\", np.____(arr))"
   ]
  },
  {
   "cell_type": "markdown",
   "metadata": {},
   "source": [
    "#### B"
   ]
  },
  {
   "cell_type": "code",
   "execution_count": null,
   "metadata": {},
   "outputs": [],
   "source": [
    "import numpy as np\n",
    "\n",
    "# 삼각함수\n",
    "angles = np.array([0, np.pi / 2, np.pi])\n",
    "print(\"sin:\", np.____(angles))\n",
    "print(\"cos:\", np.____(angles))\n",
    "\n",
    "# 지수 함수와 로그 함수\n",
    "values = np.array([1, 2, 3])\n",
    "print(\"지수 함수:\", np.____(values))\n",
    "print(\"자연 로그:\", np.____(values))"
   ]
  }
 ],
 "metadata": {
  "kernelspec": {
   "display_name": "Python 3 (ipykernel)",
   "language": "python",
   "name": "python3"
  },
  "language_info": {
   "codemirror_mode": {
    "name": "ipython",
    "version": 3
   },
   "file_extension": ".py",
   "mimetype": "text/x-python",
   "name": "python",
   "nbconvert_exporter": "python",
   "pygments_lexer": "ipython3",
   "version": "3.8.10"
  }
 },
 "nbformat": 4,
 "nbformat_minor": 4
}
