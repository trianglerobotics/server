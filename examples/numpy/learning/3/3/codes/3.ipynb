{
 "cells": [
  {
   "cell_type": "markdown",
   "metadata": {},
   "source": [
    "#### A"
   ]
  },
  {
   "cell_type": "code",
   "execution_count": null,
   "metadata": {},
   "outputs": [],
   "source": [
    "# 넘파이 라이브러리를 가져옵니다.\n",
    "import numpy as np \n",
    "\n",
    " # (4, 4) 형태의 0과 1 사이의 난수로 이루어진 배열을 생성합니다.\n",
    "random_arr = np.random.rand(4, 4)\n",
    "\n",
    "# 배열을 출력합니다.\n",
    "print(random_arr) "
   ]
  },
  {
   "cell_type": "markdown",
   "metadata": {},
   "source": [
    "#### B"
   ]
  },
  {
   "cell_type": "code",
   "execution_count": null,
   "metadata": {},
   "outputs": [],
   "source": [
    "# 넘파이 라이브러리를 가져옵니다.\n",
    "import numpy as np \n",
    "\n",
    "# 1에서 10 사이의 임의의 정수가 담긴 배열을 생성합니다.\n",
    "random_arr1 = np.random.randint(1, 11, size = (4, 4))\n",
    "\n",
    "# 배열을 출력합니다.\n",
    "print(random_arr1)"
   ]
  },
  {
   "cell_type": "markdown",
   "metadata": {},
   "source": [
    "#### C"
   ]
  },
  {
   "cell_type": "code",
   "execution_count": null,
   "metadata": {},
   "outputs": [],
   "source": [
    "# 넘파이 라이브러리를 가져옵니다.\n",
    "import numpy as np \n",
    "\n",
    "# (2, 4, 4) 형태의 표준 정규분포 난수로 이루어진 배열을 생성합니다.\n",
    "random_arr3 = np.random.randn(2, 4, 4)\n",
    "\n",
    "# 배열을 출력합니다.\n",
    "print(random_arr3) "
   ]
  },
  {
   "cell_type": "markdown",
   "metadata": {},
   "source": [
    "#### D"
   ]
  },
  {
   "cell_type": "code",
   "execution_count": null,
   "metadata": {},
   "outputs": [],
   "source": [
    "# 넘파이 라이브러리를 가져옵니다.\n",
    "import numpy as np \n",
    "\n",
    "# seed를 50으로 고정합니다.\n",
    "np.random.seed(50)\n",
    " # 4 X 4 크기의 0과 1 사이의 난수로 이루어진 배열을 생성해 출력합니다.\n",
    "print(np.random.rand(4))\n",
    "\n",
    "# seed를 50으로 고정합니다.\n",
    "np.random.seed(50)\n",
    "# seed 값이 고정되어 같은 값을 가진 난수 배열이 생성됩니다.\n",
    "print(np.random.rand(4))\n",
    "\n",
    "# seed를 50으로 고정합니다.\n",
    "np.random.seed(50)\n",
    "# seed 값이 고정되어 같은 값을 가진 난수 배열이 생성됩니다.\n",
    "print(np.random.rand(4))\n",
    "\n",
    "# seed를 40으로 설정합니다.\n",
    "np.random.seed(40)\n",
    "# 다른 난수를 가진 배열이 생성됩니다.\n",
    "print(np.random.rand(4))"
   ]
  }
 ],
 "metadata": {
  "kernelspec": {
   "display_name": "Python 3 (ipykernel)",
   "language": "python",
   "name": "python3"
  },
  "language_info": {
   "codemirror_mode": {
    "name": "ipython",
    "version": 3
   },
   "file_extension": ".py",
   "mimetype": "text/x-python",
   "name": "python",
   "nbconvert_exporter": "python",
   "pygments_lexer": "ipython3",
   "version": "3.8.10"
  }
 },
 "nbformat": 4,
 "nbformat_minor": 4
}
