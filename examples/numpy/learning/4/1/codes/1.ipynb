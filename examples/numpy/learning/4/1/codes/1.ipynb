{
 "cells": [
  {
   "cell_type": "markdown",
   "metadata": {},
   "source": [
    "#### A"
   ]
  },
  {
   "cell_type": "code",
   "execution_count": null,
   "metadata": {},
   "outputs": [],
   "source": [
    "# 넘파이 라이브러리를 가져옵니다.\n",
    "import numpy as np \n",
    "\n",
    "# 2차원 배열 두 개를 생성합니다\n",
    "array1 = np.array([[1, 2, 3], \n",
    "                   [1, 2, 3]]) \n",
    "array2 = np.array([[4, 5, 6],\n",
    "                   [2, 2, 2]])\n",
    "\n",
    "# 두 배열을 더하여 출력합니다.\n",
    "print(array1 + array2) "
   ]
  },
  {
   "cell_type": "markdown",
   "metadata": {},
   "source": [
    "#### B"
   ]
  },
  {
   "cell_type": "code",
   "execution_count": null,
   "metadata": {},
   "outputs": [],
   "source": [
    "# 넘파이 라이브러리를 가져옵니다.\n",
    "import numpy as np \n",
    "\n",
    "# 2차원 배열 두 개를 생성합니다\n",
    "array1 = np.array([[1, 2, 3], \n",
    "                   [1, 2, 3]]) \n",
    "array2 = np.array([[4, 5, 6], \n",
    "                   [2, 2, 2]])\n",
    "\n",
    "# 두 배열을 곱하여 출력합니다.\n",
    "print(array1 * array2) "
   ]
  },
  {
   "cell_type": "markdown",
   "metadata": {},
   "source": [
    "#### C"
   ]
  },
  {
   "cell_type": "code",
   "execution_count": null,
   "metadata": {},
   "outputs": [],
   "source": [
    "# 넘파이 라이브러리를 가져옵니다.\n",
    "import numpy as np \n",
    "\n",
    "# 서로 다른 데이터 유형을 가진 배열 두 개를 생성합니다\n",
    "array3 = np.array([1, 2, 3]) \n",
    "array4 = np.array([\"a\", \"b\", \"C\"]) \n",
    "\n",
    "# 두 배열을 더하여 출력합니다.(오류 발생)\n",
    "print(array3 + array4) "
   ]
  },
  {
   "cell_type": "markdown",
   "metadata": {},
   "source": [
    "#### D"
   ]
  },
  {
   "cell_type": "code",
   "execution_count": null,
   "metadata": {},
   "outputs": [],
   "source": [
    "# 넘파이 라이브러리를 가져옵니다.\n",
    "import numpy as np \n",
    "\n",
    "# 서로 다른 데이터 유형을 가진 배열 두 개를 생성합니다\n",
    "array5 = np.array([[[1, 1], \n",
    "                    [2, 2]],\n",
    "                   [[3, 3], \n",
    "                    [4, 4]]]) \n",
    "array6 = np.array([[[1.1, 1.1], \n",
    "                    [2.2, 2.2]],\n",
    "                   [[3.3, 3.3], \n",
    "                    [4.4, 4.4]]]) \n",
    "\n",
    "# 두 배열을 곱하여 출력합니다.\n",
    "print(array5 * array6) "
   ]
  }
 ],
 "metadata": {
  "kernelspec": {
   "display_name": "Python 3 (ipykernel)",
   "language": "python",
   "name": "python3"
  },
  "language_info": {
   "codemirror_mode": {
    "name": "ipython",
    "version": 3
   },
   "file_extension": ".py",
   "mimetype": "text/x-python",
   "name": "python",
   "nbconvert_exporter": "python",
   "pygments_lexer": "ipython3",
   "version": "3.8.10"
  }
 },
 "nbformat": 4,
 "nbformat_minor": 4
}
