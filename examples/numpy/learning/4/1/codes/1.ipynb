{
 "cells": [
  {
   "cell_type": "markdown",
   "metadata": {},
   "source": [
    "#### A"
   ]
  },
  {
   "cell_type": "code",
   "execution_count": null,
   "metadata": {},
   "outputs": [],
   "source": [
    "import numpy as np\n",
    "\n",
    "# 0차원 배열\n",
    "arr0 = np.array(42)\n",
    "print(\"0차원 배열:\", arr0)\n",
    "print(\"차원 수:\", arr0.ndim)\n",
    "print(\"모양(shape):\", arr0.shape)\n",
    "\n",
    "# 1차원 배열\n",
    "arr1 = np.array([1, 2, 3, 4])\n",
    "print(\"\\n1차원 배열:\", arr1)\n",
    "print(\"차원 수:\", arr1.ndim)\n",
    "print(\"모양(shape):\", arr1.shape)\n",
    "\n",
    "# 2차원 배열\n",
    "arr2 = np.array([[1, 2], [3, 4], [5, 6]])\n",
    "print(\"\\n2차원 배열:\\n\", arr2)\n",
    "print(\"차원 수:\", arr2.ndim)\n",
    "print(\"모양(shape):\", arr2.shape)\n",
    "\n",
    "# 3차원 배열\n",
    "arr3 = np.array([[[1, 2], [3, 4]], [[5, 6], [7, 8]]])\n",
    "print(\"\\n3차원 배열:\\n\", arr3)\n",
    "print(\"차원 수:\", arr3.ndim)\n",
    "print(\"모양(shape):\", arr3.shape)"
   ]
  },
  {
   "cell_type": "markdown",
   "metadata": {},
   "source": [
    "#### B"
   ]
  },
  {
   "cell_type": "code",
   "execution_count": null,
   "metadata": {},
   "outputs": [],
   "source": [
    "import numpy as np\n",
    "\n",
    "# 원본 배열\n",
    "arr = np.array([[1, 2, 3], [4, 5, 6]])\n",
    "print(\"원본 배열:\\n\", arr)\n",
    "print(\"차원 수:\", arr.ndim)\n",
    "print(\"모양(shape):\", arr.shape)\n",
    "\n",
    "# 1. reshape()로 차원 변경\n",
    "reshaped = arr.reshape(3, 2)\n",
    "print(\"\\nreshape()로 변경된 배열:\\n\", reshaped)\n",
    "print(\"변경된 모양(shape):\", reshaped.shape)\n",
    "\n",
    "# 2. -1을 사용해 자동 계산\n",
    "reshaped_auto = arr.reshape(-1, 3)  # 열 개수는 3, 행은 자동 계산\n",
    "print(\"\\n-1을 사용한 배열:\\n\", reshaped_auto)\n",
    "print(\"변경된 모양(shape):\", reshaped_auto.shape)\n",
    "\n",
    "# 3. ravel()로 평탄화\n",
    "raveled = arr.ravel()\n",
    "print(\"\\nravel()로 평탄화된 배열:\", raveled)\n",
    "\n",
    "# 4. flatten()으로 평탄화\n",
    "flattened = arr.flatten()\n",
    "print(\"\\nflatten()으로 평탄화된 배열:\", flattened)\n",
    "\n",
    "# 5. resize()로 원본 변경\n",
    "arr.resize(3, 2)\n",
    "print(\"\\nresize()로 변경된 원본 배열:\\n\", arr)\n"
   ]
  }
 ],
 "metadata": {
  "kernelspec": {
   "display_name": "Python 3 (ipykernel)",
   "language": "python",
   "name": "python3"
  },
  "language_info": {
   "codemirror_mode": {
    "name": "ipython",
    "version": 3
   },
   "file_extension": ".py",
   "mimetype": "text/x-python",
   "name": "python",
   "nbconvert_exporter": "python",
   "pygments_lexer": "ipython3",
   "version": "3.8.10"
  }
 },
 "nbformat": 4,
 "nbformat_minor": 4
}
