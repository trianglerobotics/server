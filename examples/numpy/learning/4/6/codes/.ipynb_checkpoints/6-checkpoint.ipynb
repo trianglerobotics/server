{
 "cells": [
  {
   "cell_type": "markdown",
   "metadata": {},
   "source": [
    "### A"
   ]
  },
  {
   "cell_type": "code",
   "execution_count": null,
   "metadata": {},
   "outputs": [],
   "source": [
    "import cv2\n",
    "import numpy as np\n",
    "\n",
    "image = cv2.imread(\"example.jpg\")\n",
    "print(image.shape)\n",
    "\n",
    "# 이미지를 그레이스케일로 변환\n",
    "gray_image = cv2.cvtColor(image, cv2.COLOR_BGR2GRAY)\n",
    "print(\"Grayscale Image Shape:\", gray_image.shape)\n",
    "\n",
    "# 이미지를 1차원 벡터로 변환 (Flatten)\n",
    "flatten_image = gray_image.flatten()\n",
    "print(\"Flatten Image Shape:\", flatten_image.shape)\n",
    "\n",
    "# 완전 연결층 구현\n",
    "class FullyConnectedLayer:\n",
    "    def __init__(self, input_size, output_size):\n",
    "        # 가중치 초기화 (랜덤 값 사용)\n",
    "        self.weights = np.random.rand(output_size, input_size) * 0.01\n",
    "        # 편향 초기화 (0으로 설정)\n",
    "        self.biases = np.zeros(output_size)\n",
    "    \n",
    "    def forward(self, inputs):\n",
    "        # 선형 변환: y = W * x + b\n",
    "        self.outputs = np.dot(self.weights, inputs) + self.biases\n",
    "        return self.outputs\n",
    "\n",
    "# 완전 연결층 초기화\n",
    "input_size = flatten_image.shape[0]  # 입력 크기 (이미지 벡터 크기)\n",
    "output_size = 10  # 출력 뉴런 수 (예: 10개의 클래스로 분류)\n",
    "fc_layer = FullyConnectedLayer(input_size, output_size)\n",
    "\n",
    "# 완전 연결층 통과\n",
    "outputs = fc_layer.forward(flatten_image)\n",
    "print(\"Fully Connected Layer Output Shape:\", outputs.shape)\n",
    "print(\"Outputs:\", outputs)"
   ]
  }
 ],
 "metadata": {
  "kernelspec": {
   "display_name": "Python 3 (ipykernel)",
   "language": "python",
   "name": "python3"
  },
  "language_info": {
   "codemirror_mode": {
    "name": "ipython",
    "version": 3
   },
   "file_extension": ".py",
   "mimetype": "text/x-python",
   "name": "python",
   "nbconvert_exporter": "python",
   "pygments_lexer": "ipython3",
   "version": "3.8.10"
  }
 },
 "nbformat": 4,
 "nbformat_minor": 4
}
