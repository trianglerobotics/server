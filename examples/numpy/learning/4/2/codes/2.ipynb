{
 "cells": [
  {
   "cell_type": "markdown",
   "metadata": {},
   "source": [
    "#### A"
   ]
  },
  {
   "cell_type": "code",
   "execution_count": null,
   "metadata": {},
   "outputs": [],
   "source": [
    "# 넘파이 라이브러리를 가져옵니다.\n",
    "import numpy as np\n",
    "\n",
    "# 0차원 배열을 생성합니다.\n",
    "dim0 = np.array([5])\n",
    "\n",
    "# 1차원 배열을 생성합니다. \n",
    "dim1 = np.array([1, 2, 3, 4]) \n",
    "\n",
    "# 두 배열을 서로 더하여 출력합니다.\n",
    "print(dim0 + dim1) "
   ]
  },
  {
   "cell_type": "markdown",
   "metadata": {},
   "source": [
    "#### B"
   ]
  },
  {
   "cell_type": "code",
   "execution_count": null,
   "metadata": {},
   "outputs": [],
   "source": [
    "# 넘파이 라이브러리를 가져옵니다.\n",
    "import numpy as np\n",
    "\n",
    "# 2차원 배열을 생성합니다. \n",
    "dim2 = np.array([[1, 1, 1], \n",
    "                 [2, 2, 2]]) \n",
    "\n",
    "\n",
    "# 3차원 배열을 생성합니다. \n",
    "dim3 = np.array([[[1, 2, 3], \n",
    "                  [4, 5, 6]], \n",
    "                 [[7, 8, 9], \n",
    "                  [10, 11, 12]]]) \n",
    "\n",
    "# 두 배열을 서로 더하여 출력합니다.\n",
    "print(dim2 + dim3) "
   ]
  }
 ],
 "metadata": {
  "kernelspec": {
   "display_name": "Python 3 (ipykernel)",
   "language": "python",
   "name": "python3"
  },
  "language_info": {
   "codemirror_mode": {
    "name": "ipython",
    "version": 3
   },
   "file_extension": ".py",
   "mimetype": "text/x-python",
   "name": "python",
   "nbconvert_exporter": "python",
   "pygments_lexer": "ipython3",
   "version": "3.8.10"
  }
 },
 "nbformat": 4,
 "nbformat_minor": 4
}
