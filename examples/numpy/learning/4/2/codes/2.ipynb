{
 "cells": [
  {
   "cell_type": "markdown",
   "metadata": {},
   "source": [
    "#### A"
   ]
  },
  {
   "cell_type": "code",
   "execution_count": null,
   "metadata": {},
   "outputs": [],
   "source": [
    "import numpy as np\n",
    "\n",
    "# 두 배열 생성\n",
    "arr1 = np.array([[1, 2, 3]])\n",
    "arr2 = np.array([[4, 5, 6]])\n",
    "\n",
    "# 수직으로 쌓기\n",
    "result_v = np.vstack((arr1, arr2))\n",
    "result_h = np.hstack((arr1, arr2))\n",
    "\n",
    "print(\"수직으로 쌓은 결과:\")\n",
    "print(result_v)\n",
    "\n",
    "print(\"수평으로 쌓은 결과:\")\n",
    "print(result_h)"
   ]
  },
  {
   "cell_type": "markdown",
   "metadata": {},
   "source": [
    "#### B"
   ]
  },
  {
   "cell_type": "code",
   "execution_count": null,
   "metadata": {},
   "outputs": [],
   "source": [
    "import numpy as np\n",
    "\n",
    "# 1차원 배열\n",
    "arr = np.array([1, 2, 3, 4, 5, 6])\n",
    "split_arr = np.split(arr, 3)  # 배열을 3개의 부분으로 나눔\n",
    "print(split_arr)\n",
    "\n",
    "# 2차원 배열\n",
    "arr2d = np.array([[1, 2, 3], [4, 5, 6]])\n",
    "split_arr2d = np.split(arr2d, 3, axis=1)  # 열 기준으로 3개의 부분으로 나눔\n",
    "print(split_arr2d)"
   ]
  }
 ],
 "metadata": {
  "kernelspec": {
   "display_name": "Python 3 (ipykernel)",
   "language": "python",
   "name": "python3"
  },
  "language_info": {
   "codemirror_mode": {
    "name": "ipython",
    "version": 3
   },
   "file_extension": ".py",
   "mimetype": "text/x-python",
   "name": "python",
   "nbconvert_exporter": "python",
   "pygments_lexer": "ipython3",
   "version": "3.8.10"
  }
 },
 "nbformat": 4,
 "nbformat_minor": 4
}
