{
 "cells": [
  {
   "cell_type": "markdown",
   "metadata": {},
   "source": [
    "### A"
   ]
  },
  {
   "cell_type": "code",
   "execution_count": null,
   "metadata": {},
   "outputs": [],
   "source": [
    "import cv2\n",
    "import numpy as np\n",
    "\n",
    "image = cv2.imread(\"example.jpg\")\n",
    "print(image.shape)\n",
    "\n",
    "# 이미지를 그레이스케일로 변환\n",
    "gray_image = cv2.cvtColor(image, cv2.COLOR_BGR2GRAY)\n",
    "print(\"Grayscale Image Shape:\", gray_image.shape)\n",
    "\n",
    "# 최대 폴링 수행 함수 정의\n",
    "def max_pooling(image, pool_size):\n",
    "    h, w = image.shape  # 입력 이미지 크기\n",
    "    pool_h, pool_w = pool_size  # 폴링 커널 크기\n",
    "    stride = pool_size  # 스트라이드 크기 (커널 크기와 동일)\n",
    "    \n",
    "    # 출력 이미지 크기 계산\n",
    "    out_h = h // pool_h\n",
    "    out_w = w // pool_w\n",
    "    \n",
    "    # 출력 이미지를 저장할 배열 초기화\n",
    "    pooled_image = np.zeros((out_h, out_w), dtype=np.uint8)\n",
    "    \n",
    "    # 최대 폴링 수행\n",
    "    for i in range(out_h):\n",
    "        for j in range(out_w):\n",
    "            # 커널 범위 선택\n",
    "            start_i, start_j = i * stride[0], j * stride[1]\n",
    "            end_i, end_j = start_i + pool_h, start_j + pool_w\n",
    "            # 커널 범위의 최대값 계산\n",
    "            pooled_image[i, j] = np.max(image[start_i:end_i, start_j:end_j])\n",
    "    \n",
    "    return pooled_image\n",
    "\n",
    "# 최대 폴링 적용 (커널 크기 2x2)\n",
    "pool_size = (2, 2)\n",
    "pooled_image = max_pooling(gray_image, pool_size)\n",
    "\n",
    "# 결과 출력\n",
    "jajucha2.camera.show_image(pooled_image)\n",
    "print(\"Output Image Shape:\", pooled_image.shape)"
   ]
  },
  {
   "cell_type": "markdown",
   "metadata": {},
   "source": [
    "### B"
   ]
  },
  {
   "cell_type": "code",
   "execution_count": null,
   "metadata": {},
   "outputs": [],
   "source": [
    "# 이미지를 그레이스케일로 변환\n",
    "gray_image = cv2.cvtColor(image, cv2.COLOR_BGR2GRAY)\n",
    "print(\"Grayscale Image Shape:\", gray_image.shape)\n",
    "\n",
    "# 평균 폴링 수행 함수 정의\n",
    "def mean_pooling(image, pool_size):\n",
    "    h, w = image.shape  # 입력 이미지 크기\n",
    "    pool_h, pool_w = pool_size  # 폴링 커널 크기\n",
    "    stride = pool_size  # 스트라이드 크기 (커널 크기와 동일)\n",
    "    \n",
    "    # 출력 이미지 크기 계산\n",
    "    out_h = h // pool_h\n",
    "    out_w = w // pool_w\n",
    "    \n",
    "    # 출력 이미지를 저장할 배열 초기화\n",
    "    pooled_image = np.zeros((out_h, out_w), dtype=np.uint8)\n",
    "    \n",
    "    # 평균 폴링 수행\n",
    "    for i in range(out_h):\n",
    "        for j in range(out_w):\n",
    "            # 커널 범위 선택\n",
    "            start_i, start_j = i * stride[0], j * stride[1]\n",
    "            end_i, end_j = start_i + pool_h, start_j + pool_w\n",
    "            # 커널 범위의 평균값 계산\n",
    "            pooled_image[i, j] = np.mean(image[start_i:end_i, start_j:end_j])\n",
    "    \n",
    "    return pooled_image\n",
    "\n",
    "# 평균 폴링 적용 (커널 크기 2x2)\n",
    "pool_size = (2, 2)\n",
    "pooled_image = mean_pooling(gray_image, pool_size)\n",
    "\n",
    "# 결과 출력\n",
    "jajucha2.camera.show_image(pooled_image)\n",
    "print(\"Output Image Shape:\", pooled_image.shape)"
   ]
  }
 ],
 "metadata": {
  "kernelspec": {
   "display_name": "Python 3 (ipykernel)",
   "language": "python",
   "name": "python3"
  },
  "language_info": {
   "codemirror_mode": {
    "name": "ipython",
    "version": 3
   },
   "file_extension": ".py",
   "mimetype": "text/x-python",
   "name": "python",
   "nbconvert_exporter": "python",
   "pygments_lexer": "ipython3",
   "version": "3.8.10"
  }
 },
 "nbformat": 4,
 "nbformat_minor": 4
}
