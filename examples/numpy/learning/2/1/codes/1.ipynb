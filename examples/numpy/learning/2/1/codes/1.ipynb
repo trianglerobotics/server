{
 "cells": [
  {
   "cell_type": "markdown",
   "metadata": {},
   "source": [
    "#### A"
   ]
  },
  {
   "cell_type": "code",
   "execution_count": null,
   "metadata": {},
   "outputs": [],
   "source": [
    "import numpy as np\n",
    "\n",
    "# 1. 리스트로부터 배열 생성\n",
    "arr1 = np._____([1, 2, 3, 4])\n",
    "print(\"리스트로부터 생성된 배열:\", arr1)\n",
    "\n",
    "# 2. 0으로 초기화된 배열 생성\n",
    "arr2 = np._____((2, 3))\n",
    "print(\"0으로 초기화된 배열:\\n\", arr2)\n",
    "\n",
    "# 3. 1로 초기화된 배열 생성\n",
    "arr3 = np._____((3, 3))\n",
    "print(\"1로 초기화된 배열:\\n\", arr3)\n",
    "\n",
    "# 4. 연속된 값으로 채운 배열 생성\n",
    "arr4 = np._____(0, 10, 2)  # 0부터 10까지 2씩 증가\n",
    "print(\"연속된 값 배열:\", arr4)\n",
    "\n",
    "# 5. 선형적으로 분할된 값으로 채운 배열 생성\n",
    "arr5 = np._____(0, 1, 5)  # 0부터 1까지 5개의 값\n",
    "print(\"선형적으로 분할된 배열:\", arr5)"
   ]
  }
 ],
 "metadata": {
  "kernelspec": {
   "display_name": "Python 3 (ipykernel)",
   "language": "python",
   "name": "python3"
  },
  "language_info": {
   "codemirror_mode": {
    "name": "ipython",
    "version": 3
   },
   "file_extension": ".py",
   "mimetype": "text/x-python",
   "name": "python",
   "nbconvert_exporter": "python",
   "pygments_lexer": "ipython3",
   "version": "3.8.10"
  }
 },
 "nbformat": 4,
 "nbformat_minor": 4
}
