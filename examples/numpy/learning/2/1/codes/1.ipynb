{
 "cells": [
  {
   "cell_type": "markdown",
   "metadata": {},
   "source": [
    "#### A"
   ]
  },
  {
   "cell_type": "code",
   "execution_count": null,
   "metadata": {},
   "outputs": [],
   "source": [
    "# 넘파이 라이브러리를 가져옵니다.\n",
    "import numpy as np \n",
    " \n",
    "# 0차원 배열을 생성합니다.\n",
    "arr0 = np.array([1]) \n",
    "arr1 = np.array([2.5])\n",
    "arr2 = np.array(['jajucha'])\n",
    "arr3 = np.array([True])\n",
    "\n",
    "# 배열을 출력합니다.\n",
    "print(arr0) \n",
    "print(arr1)\n",
    "print(arr2) \n",
    "print(arr3)"
   ]
  },
  {
   "cell_type": "markdown",
   "metadata": {},
   "source": [
    "#### B"
   ]
  },
  {
   "cell_type": "code",
   "execution_count": null,
   "metadata": {},
   "outputs": [],
   "source": [
    "# 넘파이 라이브러리를 가져옵니다.\n",
    "import numpy as np \n",
    " \n",
    "# 1차원 배열을 생성합니다.\n",
    "arr4 = np.array([1, 2, 3, 4, 5]) \n",
    "arr5 = np.array([ \"I\",  \"Love\", \"You\"])\n",
    "arr6 = np.array([True, False])\n",
    "\n",
    "# 배열을 출력합니다.\n",
    "print(arr4) \n",
    "print(arr5)\n",
    "print(arr6)"
   ]
  },
  {
   "cell_type": "markdown",
   "metadata": {},
   "source": [
    "#### C"
   ]
  },
  {
   "cell_type": "code",
   "execution_count": null,
   "metadata": {},
   "outputs": [],
   "source": [
    "# 넘파이 라이브러리를 가져옵니다.\n",
    "import numpy as np \n",
    " \n",
    "# 2차원 배열을 생성합니다.\n",
    "arr7 = np.array([[1,  2, 3, 4, 5], \n",
    "                 [6, 7, 8, 9, 10], \n",
    "                 [11, 12, 13, 14, 15]])\n",
    "\n",
    "# 넘파이 배열을 출력합니다.\n",
    "print(arr7) "
   ]
  },
  {
   "cell_type": "markdown",
   "metadata": {},
   "source": [
    "#### D"
   ]
  },
  {
   "cell_type": "code",
   "execution_count": null,
   "metadata": {},
   "outputs": [],
   "source": [
    "# 넘파이 라이브러리를 가져옵니다.\n",
    "import numpy as np \n",
    " \n",
    "# 3차원 배열을 생성합니다.\n",
    "arr8 = np.array([[[1, 2], [3, 4]],\n",
    "                 [[1, 2], [3, 4]],\n",
    "                 [[1, 2], [3, 4]]]) \n",
    "\n",
    "# 배열을 출력합니다.\n",
    "print(arr8) "
   ]
  }
 ],
 "metadata": {
  "kernelspec": {
   "display_name": "Python 3 (ipykernel)",
   "language": "python",
   "name": "python3"
  },
  "language_info": {
   "codemirror_mode": {
    "name": "ipython",
    "version": 3
   },
   "file_extension": ".py",
   "mimetype": "text/x-python",
   "name": "python",
   "nbconvert_exporter": "python",
   "pygments_lexer": "ipython3",
   "version": "3.8.10"
  }
 },
 "nbformat": 4,
 "nbformat_minor": 4
}
