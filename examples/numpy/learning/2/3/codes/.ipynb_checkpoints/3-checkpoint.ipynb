{
 "cells": [
  {
   "cell_type": "markdown",
   "metadata": {},
   "source": [
    "#### A"
   ]
  },
  {
   "cell_type": "code",
   "execution_count": null,
   "metadata": {},
   "outputs": [],
   "source": [
    "import numpy as np\n",
    "\n",
    "# 1. 균등분포로 난수 생성 (0과 1 사이)\n",
    "rand_uniform = np.random.rand(2, 3)\n",
    "print(\"0과 1 사이 균등분포 난수:\\n\", rand_uniform)\n",
    "\n",
    "# 2. 정규분포로 난수 생성 (평균 0, 표준편차 1)\n",
    "rand_normal = np.random.randn(3, 3)\n",
    "print(\"정규분포 난수:\\n\", rand_normal)\n",
    "\n",
    "# 3. 임의의 정수 생성\n",
    "rand_integers = np.random.randint(1, 10, size=(2, 2))  # 1 이상 10 미만 정수\n",
    "print(\"임의의 정수 배열:\\n\", rand_integers)\n",
    "\n",
    "# 4. 배열 섞기\n",
    "arr = np.array([1, 2, 3, 4, 5])\n",
    "np.random.shuffle(arr)\n",
    "print(\"섞인 배열:\", arr)\n"
   ]
  }
 ],
 "metadata": {
  "kernelspec": {
   "display_name": "Python 3 (ipykernel)",
   "language": "python",
   "name": "python3"
  },
  "language_info": {
   "codemirror_mode": {
    "name": "ipython",
    "version": 3
   },
   "file_extension": ".py",
   "mimetype": "text/x-python",
   "name": "python",
   "nbconvert_exporter": "python",
   "pygments_lexer": "ipython3",
   "version": "3.8.10"
  }
 },
 "nbformat": 4,
 "nbformat_minor": 4
}
