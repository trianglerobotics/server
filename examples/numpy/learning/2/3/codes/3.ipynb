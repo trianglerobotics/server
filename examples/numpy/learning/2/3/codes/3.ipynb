{
 "cells": [
  {
   "cell_type": "markdown",
   "metadata": {},
   "source": [
    "#### A"
   ]
  },
  {
   "cell_type": "code",
   "execution_count": null,
   "metadata": {},
   "outputs": [],
   "source": [
    "# 넘파이 라이브러리를 가져옵니다.\n",
    "import numpy as np\n",
    "\n",
    "# 넘파이 배열을 생성합니다.\n",
    "array1 = np.array([1, 2, 3])\n",
    "array2 = np.array([[1, 2, 3], \n",
    "                   [2, 3, 4]])\n",
    "array3 = np.array([[[1, 2], \n",
    "                    [3, 4]],\n",
    "                   [[5, 6], \n",
    "                    [7, 8]]])\n",
    "\n",
    "# 넘파이 배열을 출력합니다.\n",
    "print(array1) \n",
    "print(array2) \n",
    "print(array3) \n",
    "\n",
    "# 배열의 차원(축) 수를 출력합니다.\n",
    "print(\"array1이 가진 축의 개수:\", array1.ndim) \n",
    "print(\"array2이 가진 축의 개수:\", array2.ndim) \n",
    "print(\"array3이 가진 축의 개수:\", array3.ndim) "
   ]
  },
  {
   "cell_type": "markdown",
   "metadata": {},
   "source": [
    "#### B"
   ]
  },
  {
   "cell_type": "code",
   "execution_count": null,
   "metadata": {},
   "outputs": [],
   "source": [
    "# 넘파이 라이브러리를 가져옵니다.\n",
    "import numpy as np\n",
    "\n",
    "# 넘파이 배열을 생성합니다.\n",
    "array1 = np.array([1, 2, 3])\n",
    "array2 = np.array([[1, 2, 3], \n",
    "                   [2, 3, 4]])\n",
    "array3 = np.array([[[1, 2], \n",
    "                    [3, 4]],\n",
    "                   [[5, 6], \n",
    "                    [7, 8]]])\n",
    "\n",
    "#배열의 형태를 출력합니다.\n",
    "print(\"array1의 형태:\", array1.shape) \n",
    "print(\"array2의 형태:\", array2.shape) \n",
    "print(\"array3의 형태:\", array3.shape) "
   ]
  },
  {
   "cell_type": "markdown",
   "metadata": {},
   "source": [
    "#### C"
   ]
  },
  {
   "cell_type": "code",
   "execution_count": null,
   "metadata": {},
   "outputs": [],
   "source": [
    "# 넘파이 라이브러리를 가져옵니다.\n",
    "import numpy as np\n",
    "\n",
    "# 넘파이 배열을 생성합니다.\n",
    "array1 = np.array([1, 2, 3])\n",
    "array2 = np.array([[1, 2, 3], \n",
    "                   [2, 3, 4]])\n",
    "array3 = np.array([[[1, 2], \n",
    "                    [3, 4]],\n",
    "                   [[5, 6], \n",
    "                    [7, 8]]])\n",
    "\n",
    "# 전체 배열의 데이터 개수를 출력합니다.\n",
    "print(\"array1의 데이터 개수:\", array1.size)\n",
    "print(\"array2의 데이터 개수:\", array2.size)\n",
    "print(\"array3의 데이터 개수:\", array3.size)"
   ]
  },
  {
   "cell_type": "markdown",
   "metadata": {},
   "source": [
    "#### D"
   ]
  },
  {
   "cell_type": "code",
   "execution_count": null,
   "metadata": {},
   "outputs": [],
   "source": [
    "# 넘파이 라이브러리를 가져옵니다.\n",
    "import numpy as np\n",
    "\n",
    "# 넘파이 배열을 생성합니다.\n",
    "array1 = np.array([1, 2, 3])\n",
    "array2 = np.array([[1, 2, 3], \n",
    "                   [2, 3, 4]])\n",
    "array3 = np.array([[[1, 2], \n",
    "                    [3, 4]],\n",
    "                   [[5, 6], \n",
    "                    [7, 8]]])\n",
    "\n",
    "# 전체 배열의 데이터 유형을 출력합니다.\n",
    "print(\"array1의 데이터 유형:\", array1.dtype)\n",
    "print(\"array2의 데이터 유형:\", array2.dtype)\n",
    "print(\"array3의 데이터 유형:\", array3.dtype)"
   ]
  }
 ],
 "metadata": {
  "kernelspec": {
   "display_name": "Python 3 (ipykernel)",
   "language": "python",
   "name": "python3"
  },
  "language_info": {
   "codemirror_mode": {
    "name": "ipython",
    "version": 3
   },
   "file_extension": ".py",
   "mimetype": "text/x-python",
   "name": "python",
   "nbconvert_exporter": "python",
   "pygments_lexer": "ipython3",
   "version": "3.8.10"
  }
 },
 "nbformat": 4,
 "nbformat_minor": 4
}
