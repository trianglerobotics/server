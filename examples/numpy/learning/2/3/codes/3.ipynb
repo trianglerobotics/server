{
 "cells": [
  {
   "cell_type": "markdown",
   "metadata": {},
   "source": [
    "#### A"
   ]
  },
  {
   "cell_type": "code",
   "execution_count": null,
   "metadata": {},
   "outputs": [],
   "source": [
    "import numpy as np\n",
    "# 1. 배열 생성 시 데이터 타입 설정\n",
    "arr1 = np.array([1, 2, 3], dtype=np.float32)\n",
    "print(\"float32 타입 배열:\", arr1)\n",
    "print(\"데이터 타입:\", arr1.dtype)"
   ]
  },
  {
   "cell_type": "markdown",
   "metadata": {},
   "source": [
    "### B"
   ]
  },
  {
   "cell_type": "code",
   "execution_count": null,
   "metadata": {},
   "outputs": [],
   "source": [
    "import numpy as np\n",
    "# 2. 데이터 타입 변환\n",
    "arr2 = np.array([1.1, 2.2, 3.3])\n",
    "print(\"기존 배열 데이터 타입:\", arr2.dtype)"
   ]
  },
  {
   "cell_type": "markdown",
   "metadata": {},
   "source": [
    "### C"
   ]
  },
  {
   "cell_type": "code",
   "execution_count": null,
   "metadata": {},
   "outputs": [],
   "source": [
    "import numpy as np\n",
    "# 3. int로 변환\n",
    "arr2_int = arr2.astype(np.int32)\n",
    "print(\"int32 타입으로 변환된 배열:\", arr2_int)\n",
    "print(\"변환 후 데이터 타입:\", arr2_int.dtype)"
   ]
  },
  {
   "cell_type": "markdown",
   "metadata": {},
   "source": [
    "### D"
   ]
  },
  {
   "cell_type": "code",
   "execution_count": null,
   "metadata": {},
   "outputs": [],
   "source": [
    "import numpy as np\n",
    "# 4. 불리언 배열\n",
    "arr3 = np.array([0, 1, 2, 3], dtype=bool)\n",
    "print(\"불리언 타입 배열:\", arr3)"
   ]
  }
 ],
 "metadata": {
  "kernelspec": {
   "display_name": "Python 3 (ipykernel)",
   "language": "python",
   "name": "python3"
  },
  "language_info": {
   "codemirror_mode": {
    "name": "ipython",
    "version": 3
   },
   "file_extension": ".py",
   "mimetype": "text/x-python",
   "name": "python",
   "nbconvert_exporter": "python",
   "pygments_lexer": "ipython3",
   "version": "3.8.10"
  }
 },
 "nbformat": 4,
 "nbformat_minor": 4
}
