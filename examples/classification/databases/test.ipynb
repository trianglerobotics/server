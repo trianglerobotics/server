{
 "cells": [
  {
   "cell_type": "markdown",
   "metadata": {},
   "source": [
    "#### A 코드리뷰\n",
    "<div class='cd'>\n",
    "<strong>NAME = '' </strong> -> checkpoints 폴더 에서 로딩할 모델의 이름을 입력합니다 *예시 : resnet_epoch_30.pt\n",
    "</div>"
   ]
  },
  {
   "cell_type": "code",
   "execution_count": null,
   "metadata": {},
   "outputs": [],
   "source": [
    "NAME = 'resnet_epoch_30.pt' "
   ]
  },
  {
   "cell_type": "markdown",
   "metadata": {},
   "source": [
    "<br></br>"
   ]
  },
  {
   "cell_type": "markdown",
   "metadata": {},
   "source": [
    "#### B 코드리뷰\n",
    "\n",
    "<div class='cd'>\n",
    "모델을 로드한 후에 출력되는 값을 출력합니다\n",
    "</div>\n",
    "<div class='cd'>\n",
    "tensor에 나오는 값중, 높은 확률이 class에 해당합니다\n",
    "</div>"
   ]
  },
  {
   "cell_type": "code",
   "execution_count": null,
   "metadata": {},
   "outputs": [],
   "source": [
    "import jajucha2\n",
    "import torch\n",
    "import torchvision.transforms as transforms\n",
    "from PIL import Image as Img\n",
    "import cv2\n",
    "\n",
    "transform = transforms.Compose([\n",
    "        transforms.Resize((224, 224)),\n",
    "        transforms.ToTensor(),\n",
    "    ])\n",
    "\n",
    "device = torch.device('cuda')\n",
    "model = torch.jit.load('checkpoints/' + NAME)\n",
    "model.to(device)\n",
    "model.eval()\n",
    "\n",
    "while True:\n",
    "    image = jajucha2.camera.get_image('center')\n",
    "    jajucha2.camera.show_image(image)\n",
    "    image = Img.fromarray(cv2.cvtColor(image, cv2.COLOR_BGR2RGB)) \n",
    "    image = transform(image)  \n",
    "    image =image.unsqueeze(0).to(device)\n",
    "    print(f\"\\r {model(image)}\", end=\"\")"
   ]
  }
 ],
 "metadata": {
  "kernelspec": {
   "display_name": "Python 3 (ipykernel)",
   "language": "python",
   "name": "python3"
  },
  "language_info": {
   "codemirror_mode": {
    "name": "ipython",
    "version": 3
   },
   "file_extension": ".py",
   "mimetype": "text/x-python",
   "name": "python",
   "nbconvert_exporter": "python",
   "pygments_lexer": "ipython3",
   "version": "3.8.10"
  }
 },
 "nbformat": 4,
 "nbformat_minor": 4
}
