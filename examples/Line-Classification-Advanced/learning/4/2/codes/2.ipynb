{
 "cells": [
  {
   "cell_type": "markdown",
   "metadata": {},
   "source": [
    "#### Code A"
   ]
  },
  {
   "cell_type": "code",
   "execution_count": null,
   "metadata": {},
   "outputs": [],
   "source": [
    "NAME = ''"
   ]
  },
  {
   "cell_type": "markdown",
   "metadata": {},
   "source": [
    "<br>"
   ]
  },
  {
   "cell_type": "markdown",
   "metadata": {},
   "source": [
    "#### Code B"
   ]
  },
  {
   "cell_type": "code",
   "execution_count": null,
   "metadata": {
    "vscode": {
     "languageId": "plaintext"
    }
   },
   "outputs": [],
   "source": [
    "#필요한 라이브러리들을 임포트 합니다\n",
    "import jajucha2\n",
    "import torch\n",
    "import cv2\n",
    "import numpy as np\n",
    "\n",
    "#자주차의 라이브러리의 AI 모듈을 활성화 합니다\n",
    "jajucha2.load_ai()"
   ]
  },
  {
   "cell_type": "markdown",
   "metadata": {},
   "source": [
    "<br>"
   ]
  },
  {
   "cell_type": "markdown",
   "metadata": {},
   "source": [
    "#### Code C"
   ]
  },
  {
   "cell_type": "code",
   "execution_count": null,
   "metadata": {},
   "outputs": [],
   "source": [
    "def resize(image):\n",
    "    ######### 아래부터 코드를 작성하세요 #########\n",
    "\n",
    "    # 1.이미지의 크기를 확인 , 힌트: .shape\n",
    "    image_size = \n",
    "    print(image_size)\n",
    "    # 2. 이미지를 640x480 으로 크기조정 , 힌트: cv2.resize\n",
    "    resized_image = \n",
    "    # 3. 이미지를 640x156(예시)로 크기조정 \n",
    "    output_image = \n",
    "\n",
    "    ######### 아래부터는 수정이 불필요 합니다 ########\n",
    "    return output_image\n",
    "\n",
    "image = jajucha2.camera.get_image()\n",
    "resized = resize(image)\n",
    "jajucha2.camera.show_image(resized)"
   ]
  },
  {
   "cell_type": "markdown",
   "metadata": {},
   "source": [
    "<br>"
   ]
  },
  {
   "cell_type": "markdown",
   "metadata": {},
   "source": [
    "#### Code D"
   ]
  },
  {
   "cell_type": "code",
   "execution_count": null,
   "metadata": {},
   "outputs": [],
   "source": [
    "while True:\n",
    "    # 자주차에서 카메라를 통해 이미지를 가져옵니다.\n",
    "    image = jajucha2.camera.get_image()\n",
    "\n",
    "    # 이미지의 크기를 조절합니다.\n",
    "    resized = resize(image)\n",
    "\n",
    "    # 자주차 AI 모델을 통해 이미지를 분석하고, 출력값을 output 변수에 저장합니다.\n",
    "    # NAME은 사용할 모델의 이름입니다.\n",
    "    output = jajucha2.ai.get_model_output(resized, NAME)\n",
    "\n",
    "    # 모델의 출력값 중 가장 큰 값을 기준으로 예측된 인덱스를 가져옵니다.\n",
    "    # torch.max 함수는 (최댓값, 인덱스)를 반환하므로, 인덱스를 저장합니다.\n",
    "    _, predicted_index = torch.max(output, 1)  # 가장 큰 출력값의 인덱스를 예측\n",
    "\n",
    "    # predicted_index를 일반 숫자 타입으로 변환합니다.\n",
    "    predicted_index = predicted_index.item()\n",
    "\n",
    "    # 예측 결과에 따라 자주차의 모터를 제어합니다.\n",
    "    if predicted_index == 0:\n",
    "        # 예측 인덱스가 0인 경우: 정지 상태로 설정 (속도 3으로 직전)\n",
    "        jajucha2.control.set_motor(0, 0, 3)\n",
    "    elif predicted_index == 1:\n",
    "        # 예측 인덱스가 1인 경우: 왼쪽으로 (조향모터 -5, 속도 3으로 직전)\n",
    "        jajucha2.control.set_motor(-5, -5, 3)\n",
    "    elif predicted_index == 2:\n",
    "        # 예측 인덱스가 1인 경우: 왼쪽으로 (조향모터 -10, 속도 3으로 직전)\n",
    "        jajucha2.control.set_motor(-10, -10, 3)\n",
    "    elif predicted_index == 3:\n",
    "        # 예측 인덱스가 1인 경우: 오르쪽으로 (조향모터 5, 속도 3으로 직전)\n",
    "        jajucha2.control.set_motor(5, 5, 3)\n",
    "    elif predicted_index == 4:\n",
    "        # 예측 인덱스가 1인 경우: 오르쪽으로 (조향모터 10, 속도 3으로 직전)\n",
    "        jajucha2.control.set_motor(10, 10, 3)\n"
   ]
  }
 ],
 "metadata": {
  "kernelspec": {
   "display_name": "Python 3 (ipykernel)",
   "language": "python",
   "name": "python3"
  },
  "language_info": {
   "codemirror_mode": {
    "name": "ipython",
    "version": 3
   },
   "file_extension": ".py",
   "mimetype": "text/x-python",
   "name": "python",
   "nbconvert_exporter": "python",
   "pygments_lexer": "ipython3",
   "version": "3.8.10"
  }
 },
 "nbformat": 4,
 "nbformat_minor": 4
}
